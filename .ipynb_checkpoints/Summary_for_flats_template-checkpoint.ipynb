{
 "cells": [
  {
   "cell_type": "markdown",
   "metadata": {},
   "source": [
    "Summary on online property findings"
   ]
  },
  {
   "cell_type": "code",
   "execution_count": 12,
   "metadata": {},
   "outputs": [],
   "source": [
    "import pandas as pd\n",
    "import os\n",
    "import numpy as np\n",
    "import datetime as dt\n",
    "import matplotlib.pyplot as plt\n",
    "import seaborn as sns\n",
    "from property import *\n",
    "from accumulate_data import *"
   ]
  },
  {
   "cell_type": "code",
   "execution_count": 2,
   "metadata": {},
   "outputs": [
    {
     "name": "stderr",
     "output_type": "stream",
     "text": [
      "100%|██████████████████████████████████████████████████████████████████████████████████| 39/39 [02:19<00:00,  3.54s/it]\n",
      "100%|████████████████████████████████████████████████████████████████████████████████| 798/798 [44:02<00:00,  3.31s/it]\n",
      "  0%|                                                                                          | 0/798 [00:00<?, ?it/s]"
     ]
    },
    {
     "name": "stdout",
     "output_type": "stream",
     "text": [
      "`https://ingatlan.com/szeged/elado+haz/csaladi-haz/csongrad+megye+szeged+furj+utca/30887188` has some issues to provide advertiser details!\n"
     ]
    },
    {
     "name": "stderr",
     "output_type": "stream",
     "text": [
      "\r",
      "  0%|                                                                                | 1/798 [00:08<1:46:37,  8.03s/it]"
     ]
    },
    {
     "name": "stdout",
     "output_type": "stream",
     "text": [
      "`https://ingatlan.com/szeged-gyalaret/elado+haz/csaladi-haz/csongrad+megye+szeged+miklos+utca/30799237` has some issues to provide advertiser details!\n"
     ]
    },
    {
     "name": "stderr",
     "output_type": "stream",
     "text": [
      "\r",
      "  0%|▏                                                                               | 2/798 [00:12<1:31:56,  6.93s/it]"
     ]
    },
    {
     "name": "stdout",
     "output_type": "stream",
     "text": [
      "`https://ingatlan.com/szeged/elado+haz/csaladi-haz/csongrad+megye+szeged+hajnoczy+utca+29/30697717` has some issues to provide advertiser details!\n"
     ]
    },
    {
     "name": "stderr",
     "output_type": "stream",
     "text": [
      "\r",
      "  0%|▎                                                                               | 3/798 [00:17<1:23:21,  6.29s/it]"
     ]
    },
    {
     "name": "stdout",
     "output_type": "stream",
     "text": [
      "`https://ingatlan.com/szeged/elado+haz/csaladi-haz/csongrad+megye+szeged+korosmezo+utca+8/30618322` has some issues to provide advertiser details!\n"
     ]
    },
    {
     "name": "stderr",
     "output_type": "stream",
     "text": [
      "  1%|▌                                                                               | 6/798 [00:30<1:06:07,  5.01s/it]"
     ]
    },
    {
     "name": "stdout",
     "output_type": "stream",
     "text": [
      "`https://ingatlan.com/szeged/elado+haz/csaladi-haz/csongrad+megye+szeged+lilla+utca/30419923` has some issues to provide advertiser details!\n"
     ]
    },
    {
     "name": "stderr",
     "output_type": "stream",
     "text": [
      "\r",
      "  1%|▋                                                                               | 7/798 [00:34<1:02:38,  4.75s/it]"
     ]
    },
    {
     "name": "stdout",
     "output_type": "stream",
     "text": [
      "`https://ingatlan.com/szeged/elado+haz/csaladi-haz/csongrad+megye+szeged+derkovits+fasor/30407653` has some issues to provide advertiser details!\n"
     ]
    },
    {
     "name": "stderr",
     "output_type": "stream",
     "text": [
      "  1%|█                                                                                | 10/798 [00:47<57:55,  4.41s/it]"
     ]
    },
    {
     "name": "stdout",
     "output_type": "stream",
     "text": [
      "`https://ingatlan.com/szeged/elado+haz/csaladi-haz/csongrad+megye+szeged+atrium+koz/29844902` has some issues to provide advertiser details!\n"
     ]
    },
    {
     "name": "stderr",
     "output_type": "stream",
     "text": [
      "\r",
      "  1%|█                                                                                | 11/798 [00:51<55:55,  4.26s/it]"
     ]
    },
    {
     "name": "stdout",
     "output_type": "stream",
     "text": [
      "`https://ingatlan.com/szeged/elado+haz/sorhaz/csongrad+megye+szeged+lomnici+utca/29771723` has some issues to provide advertiser details!\n"
     ]
    },
    {
     "name": "stderr",
     "output_type": "stream",
     "text": [
      "\r",
      "  2%|█▏                                                                               | 12/798 [00:55<55:22,  4.23s/it]"
     ]
    },
    {
     "name": "stdout",
     "output_type": "stream",
     "text": [
      "`https://ingatlan.com/szeged/elado+haz/csaladi-haz/csongrad+megye+szeged+maria+utca/29610713` has some issues to provide advertiser details!\n"
     ]
    },
    {
     "name": "stderr",
     "output_type": "stream",
     "text": [
      "\r",
      "  2%|█▎                                                                               | 13/798 [00:59<53:13,  4.07s/it]"
     ]
    },
    {
     "name": "stdout",
     "output_type": "stream",
     "text": [
      "`https://ingatlan.com/szeged/elado+haz/csaladi-haz/csongrad+megye+szeged+orsolya+utca/28878947` has some issues to provide advertiser details!\n"
     ]
    },
    {
     "name": "stderr",
     "output_type": "stream",
     "text": [
      "\r",
      "  2%|█▍                                                                               | 14/798 [01:02<51:42,  3.96s/it]"
     ]
    },
    {
     "name": "stdout",
     "output_type": "stream",
     "text": [
      "`https://ingatlan.com/szeged/elado+haz/csaladi-haz/csongrad+megye+szeged+szilagyi+utca+5a/28531583` has some issues to provide advertiser details!\n"
     ]
    },
    {
     "name": "stderr",
     "output_type": "stream",
     "text": [
      "\r",
      "  2%|█▌                                                                               | 15/798 [01:06<51:15,  3.93s/it]"
     ]
    },
    {
     "name": "stdout",
     "output_type": "stream",
     "text": [
      "`https://ingatlan.com/szeged/elado+haz/csaladi-haz/csongrad+megye+szeged+gombkoto+utca/28415699` has some issues to provide advertiser details!\n"
     ]
    },
    {
     "name": "stderr",
     "output_type": "stream",
     "text": [
      "\r",
      "  2%|█▌                                                                               | 16/798 [01:11<52:51,  4.06s/it]"
     ]
    },
    {
     "name": "stdout",
     "output_type": "stream",
     "text": [
      "`https://ingatlan.com/szeged/elado+haz/csaladi-haz/csongrad+megye+szeged+reizner+janos+utca/28224617` has some issues to provide advertiser details!\n"
     ]
    },
    {
     "name": "stderr",
     "output_type": "stream",
     "text": [
      "\r",
      "  2%|█▋                                                                               | 17/798 [01:15<52:33,  4.04s/it]"
     ]
    },
    {
     "name": "stdout",
     "output_type": "stream",
     "text": [
      "`https://ingatlan.com/szeged/elado+haz/ikerhaz/csongrad+megye+szeged+zakany+utca/27655759` has some issues to provide advertiser details!\n"
     ]
    },
    {
     "name": "stderr",
     "output_type": "stream",
     "text": [
      "\r",
      "  2%|█▊                                                                               | 18/798 [01:18<51:24,  3.95s/it]"
     ]
    },
    {
     "name": "stdout",
     "output_type": "stream",
     "text": [
      "`https://ingatlan.com/szeged-szentmihaly/elado+haz/csaladi-haz/csongrad+megye+szeged/29640122` has some issues to provide advertiser details!\n"
     ]
    },
    {
     "name": "stderr",
     "output_type": "stream",
     "text": [
      "\r",
      "  2%|█▉                                                                               | 19/798 [01:22<50:00,  3.85s/it]"
     ]
    },
    {
     "name": "stdout",
     "output_type": "stream",
     "text": [
      "`https://ingatlan.com/szeged-ujszeged/elado+haz/csaladi-haz/csongrad+megye+szeged/30796735` has some issues to provide advertiser details!\n"
     ]
    },
    {
     "name": "stderr",
     "output_type": "stream",
     "text": [
      "  3%|██▍                                                                              | 24/798 [01:42<52:18,  4.06s/it]"
     ]
    },
    {
     "name": "stdout",
     "output_type": "stream",
     "text": [
      "`https://ingatlan.com/szeged-szoreg/elado+haz/ikerhaz/csongrad+megye+szeged+szerb+utca/30452716` has some issues to provide advertiser details!\n"
     ]
    },
    {
     "name": "stderr",
     "output_type": "stream",
     "text": [
      "  3%|██▋                                                                            | 27/798 [01:57<1:00:32,  4.71s/it]"
     ]
    },
    {
     "name": "stdout",
     "output_type": "stream",
     "text": [
      "`https://ingatlan.com/szeged-beketelep/elado+haz/csaladi-haz/csongrad+megye+szeged/27065668` has some issues to provide advertiser details!\n"
     ]
    },
    {
     "name": "stderr",
     "output_type": "stream",
     "text": [
      "  4%|██▉                                                                              | 29/798 [02:06<57:55,  4.52s/it]"
     ]
    },
    {
     "name": "stdout",
     "output_type": "stream",
     "text": [
      "`https://ingatlan.com/szeged-tape/elado+haz/csaladi-haz/csongrad+megye+szeged+rev+utca/29677307` has some issues to provide advertiser details!\n"
     ]
    },
    {
     "name": "stderr",
     "output_type": "stream",
     "text": [
      "  4%|███▏                                                                             | 31/798 [02:15<57:52,  4.53s/it]"
     ]
    },
    {
     "name": "stdout",
     "output_type": "stream",
     "text": [
      "`https://ingatlan.com/szeged-ujszeged/elado+haz/ikerhaz/csongrad+megye+szeged/29163920` has some issues to provide advertiser details!\n"
     ]
    },
    {
     "name": "stderr",
     "output_type": "stream",
     "text": [
      "  4%|███▌                                                                             | 35/798 [02:32<53:48,  4.23s/it]"
     ]
    },
    {
     "name": "stdout",
     "output_type": "stream",
     "text": [
      "`https://ingatlan.com/szeged-alsovaros/elado+haz/csaladi-haz/csongrad+megye+szeged/30878251` has some issues to provide advertiser details!\n"
     ]
    },
    {
     "name": "stderr",
     "output_type": "stream",
     "text": [
      "  5%|███▊                                                                             | 38/798 [02:44<53:38,  4.23s/it]"
     ]
    },
    {
     "name": "stdout",
     "output_type": "stream",
     "text": [
      "`https://ingatlan.com/szeged-petofitelep/elado+haz/csaladi-haz/csongrad+megye+szeged/30522223` has some issues to provide advertiser details!\n"
     ]
    },
    {
     "name": "stderr",
     "output_type": "stream",
     "text": [
      "  5%|████▏                                                                            | 41/798 [02:57<53:41,  4.26s/it]"
     ]
    },
    {
     "name": "stdout",
     "output_type": "stream",
     "text": [
      "`https://ingatlan.com/szeged/elado+haz/csaladi-haz/csongrad+megye+szeged+tarogato+utca/27153237` has some issues to provide advertiser details!\n"
     ]
    },
    {
     "name": "stderr",
     "output_type": "stream",
     "text": [
      "  5%|████▎                                                                            | 43/798 [03:07<56:12,  4.47s/it]"
     ]
    },
    {
     "name": "stdout",
     "output_type": "stream",
     "text": [
      "`https://ingatlan.com/szeged-rokus/elado+haz/ikerhaz/csongrad+megye+szeged/30292634` has some issues to provide advertiser details!\n"
     ]
    },
    {
     "name": "stderr",
     "output_type": "stream",
     "text": [
      "  6%|████▊                                                                            | 47/798 [03:25<56:47,  4.54s/it]"
     ]
    },
    {
     "name": "stdout",
     "output_type": "stream",
     "text": [
      "`https://ingatlan.com/szeged/elado+haz/ikerhaz/csongrad+megye+szeged+hetenyi+geza+utca/30877087` has some issues to provide advertiser details!\n"
     ]
    },
    {
     "name": "stderr",
     "output_type": "stream",
     "text": [
      "  6%|█████                                                                            | 50/798 [03:40<59:08,  4.74s/it]"
     ]
    },
    {
     "name": "stdout",
     "output_type": "stream",
     "text": [
      "`https://ingatlan.com/szeged/elado+haz/sorhaz/csongrad+megye+szeged+fogarasi+utca/30183377` has some issues to provide advertiser details!\n"
     ]
    },
    {
     "name": "stderr",
     "output_type": "stream",
     "text": [
      "\r",
      "  6%|█████                                                                          | 51/798 [03:45<1:02:30,  5.02s/it]"
     ]
    },
    {
     "name": "stdout",
     "output_type": "stream",
     "text": [
      "`https://ingatlan.com/szeged/elado+haz/sorhaz/csongrad+megye+szeged+fogarasi+utca/30183260` has some issues to provide advertiser details!\n"
     ]
    },
    {
     "name": "stderr",
     "output_type": "stream",
     "text": [
      "\r",
      "  7%|█████▏                                                                         | 52/798 [03:50<1:01:15,  4.93s/it]"
     ]
    },
    {
     "name": "stdout",
     "output_type": "stream",
     "text": [
      "`https://ingatlan.com/szeged/elado+haz/sorhaz/csongrad+megye+szeged+fogarasi+utca/30182555` has some issues to provide advertiser details!\n"
     ]
    },
    {
     "name": "stderr",
     "output_type": "stream",
     "text": [
      "\r",
      "  7%|█████▏                                                                         | 53/798 [03:56<1:04:20,  5.18s/it]"
     ]
    },
    {
     "name": "stdout",
     "output_type": "stream",
     "text": [
      "`https://ingatlan.com/szeged/elado+haz/sorhaz/csongrad+megye+szeged+fogarasi+utca/30182273` has some issues to provide advertiser details!\n"
     ]
    },
    {
     "name": "stderr",
     "output_type": "stream",
     "text": [
      "\r",
      "  7%|█████▎                                                                         | 54/798 [04:01<1:04:21,  5.19s/it]"
     ]
    },
    {
     "name": "stdout",
     "output_type": "stream",
     "text": [
      "`https://ingatlan.com/szeged/elado+haz/sorhaz/csongrad+megye+szeged+fogarasi+utca/30181787` has some issues to provide advertiser details!\n"
     ]
    },
    {
     "name": "stderr",
     "output_type": "stream",
     "text": [
      "  7%|█████▌                                                                         | 56/798 [04:13<1:08:26,  5.53s/it]"
     ]
    },
    {
     "name": "stdout",
     "output_type": "stream",
     "text": [
      "`https://ingatlan.com/szeged-petofitelep/elado+haz/csaladi-haz/csongrad+megye+szeged/29788556` has some issues to provide advertiser details!\n"
     ]
    },
    {
     "name": "stderr",
     "output_type": "stream",
     "text": [
      "  7%|█████▋                                                                         | 58/798 [04:24<1:08:33,  5.56s/it]"
     ]
    },
    {
     "name": "stdout",
     "output_type": "stream",
     "text": [
      "`https://ingatlan.com/szeged-beketelep/elado+haz/csaladi-haz/csongrad+megye+szeged/29608331` has some issues to provide advertiser details!\n"
     ]
    },
    {
     "name": "stderr",
     "output_type": "stream",
     "text": [
      "  8%|█████▉                                                                         | 60/798 [04:33<1:01:35,  5.01s/it]"
     ]
    },
    {
     "name": "stdout",
     "output_type": "stream",
     "text": [
      "`https://ingatlan.com/szeged-szoreg/elado+haz/ikerhaz/csongrad+megye+szeged/30327980` has some issues to provide advertiser details!\n"
     ]
    },
    {
     "name": "stderr",
     "output_type": "stream",
     "text": [
      "  8%|██████▎                                                                          | 62/798 [04:41<57:18,  4.67s/it]"
     ]
    },
    {
     "name": "stdout",
     "output_type": "stream",
     "text": [
      "`https://ingatlan.com/szeged/elado+haz/csaladi-haz/csongrad+megye+szeged+pillich+kalman+utca/30956908` has some issues to provide advertiser details!\n"
     ]
    },
    {
     "name": "stderr",
     "output_type": "stream",
     "text": [
      "  8%|██████▍                                                                          | 64/798 [04:52<59:59,  4.90s/it]"
     ]
    },
    {
     "name": "stdout",
     "output_type": "stream",
     "text": [
      "`https://ingatlan.com/szeged-ujszeged/elado+haz/hazresz/csongrad+megye+szeged/30351794` has some issues to provide advertiser details!\n"
     ]
    },
    {
     "name": "stderr",
     "output_type": "stream",
     "text": [
      "  8%|██████▋                                                                          | 66/798 [05:01<58:11,  4.77s/it]"
     ]
    },
    {
     "name": "stdout",
     "output_type": "stream",
     "text": [
      "`https://ingatlan.com/szeged/elado+haz/ikerhaz/csongrad+megye+szeged+korosmezo+utca/30614401` has some issues to provide advertiser details!\n"
     ]
    },
    {
     "name": "stderr",
     "output_type": "stream",
     "text": [
      "\r",
      "  8%|██████▊                                                                          | 67/798 [05:06<58:44,  4.82s/it]"
     ]
    },
    {
     "name": "stdout",
     "output_type": "stream",
     "text": [
      "`https://ingatlan.com/szeged-beketelep/elado+haz/csaladi-haz/csongrad+megye+szeged/28577270` has some issues to provide advertiser details!\n"
     ]
    },
    {
     "name": "stderr",
     "output_type": "stream",
     "text": [
      "  9%|███████                                                                          | 69/798 [05:15<56:47,  4.67s/it]"
     ]
    },
    {
     "name": "stdout",
     "output_type": "stream",
     "text": [
      "`https://ingatlan.com/szeged-tapei-kiskertek/elado+haz/csaladi-haz/csongrad+megye+szeged/29165468` has some issues to provide advertiser details!\n"
     ]
    },
    {
     "name": "stderr",
     "output_type": "stream",
     "text": [
      "  9%|███████▏                                                                         | 71/798 [05:24<54:34,  4.50s/it]"
     ]
    },
    {
     "name": "stdout",
     "output_type": "stream",
     "text": [
      "`https://ingatlan.com/szeged/elado+haz/csaladi-haz/csongrad+megye+szeged+torokkanizsa+utca/29844473` has some issues to provide advertiser details!\n"
     ]
    },
    {
     "name": "stderr",
     "output_type": "stream",
     "text": [
      "  9%|███████▌                                                                         | 74/798 [05:37<53:04,  4.40s/it]"
     ]
    },
    {
     "name": "stdout",
     "output_type": "stream",
     "text": [
      "`https://ingatlan.com/szeged-szoreg/elado+haz/csaladi-haz/csongrad+megye+szeged/29606237` has some issues to provide advertiser details!\n"
     ]
    },
    {
     "name": "stderr",
     "output_type": "stream",
     "text": [
      " 10%|███████▉                                                                         | 78/798 [05:53<49:04,  4.09s/it]"
     ]
    },
    {
     "name": "stdout",
     "output_type": "stream",
     "text": [
      "`https://ingatlan.com/szeged-moravaros/elado+haz/csaladi-haz/csongrad+megye+szeged/30505042` has some issues to provide advertiser details!\n"
     ]
    },
    {
     "name": "stderr",
     "output_type": "stream",
     "text": [
      " 10%|████████▏                                                                        | 81/798 [06:06<50:25,  4.22s/it]"
     ]
    },
    {
     "name": "stdout",
     "output_type": "stream",
     "text": [
      "`https://ingatlan.com/szeged/elado+haz/ikerhaz/csongrad+megye+szeged+torokkanizsa+utca+40/27708392` has some issues to provide advertiser details!\n"
     ]
    },
    {
     "name": "stderr",
     "output_type": "stream",
     "text": [
      "\r",
      " 10%|████████▎                                                                        | 82/798 [06:10<49:03,  4.11s/it]"
     ]
    },
    {
     "name": "stdout",
     "output_type": "stream",
     "text": [
      "`https://ingatlan.com/szeged/elado+haz/csaladi-haz/csongrad+megye+szeged+acel+utca/22707085` has some issues to provide advertiser details!\n"
     ]
    },
    {
     "name": "stderr",
     "output_type": "stream",
     "text": [
      "\r",
      " 10%|████████▍                                                                        | 83/798 [06:14<48:45,  4.09s/it]"
     ]
    },
    {
     "name": "stdout",
     "output_type": "stream",
     "text": [
      "`https://ingatlan.com/szeged-rokus/elado+haz/csaladi-haz/csongrad+megye+szeged/29777483` has some issues to provide advertiser details!\n"
     ]
    },
    {
     "name": "stderr",
     "output_type": "stream",
     "text": [
      " 11%|████████▋                                                                        | 85/798 [06:22<47:39,  4.01s/it]"
     ]
    },
    {
     "name": "stdout",
     "output_type": "stream",
     "text": [
      "`https://ingatlan.com/szeged-marosto/elado+haz/csaladi-haz/csongrad+megye+szeged/30868555` has some issues to provide advertiser details!\n"
     ]
    },
    {
     "name": "stderr",
     "output_type": "stream",
     "text": [
      "\r",
      " 11%|████████▋                                                                        | 86/798 [06:26<49:13,  4.15s/it]"
     ]
    },
    {
     "name": "stdout",
     "output_type": "stream",
     "text": [
      "`https://ingatlan.com/szeged-rokus/elado+haz/csaladi-haz/csongrad+megye+szeged/29990525` has some issues to provide advertiser details!\n"
     ]
    },
    {
     "name": "stderr",
     "output_type": "stream",
     "text": [
      " 11%|█████████                                                                        | 89/798 [06:40<50:00,  4.23s/it]"
     ]
    },
    {
     "name": "stdout",
     "output_type": "stream",
     "text": [
      "`https://ingatlan.com/szeged/elado+haz/csaladi-haz/csongrad+megye+szeged+sarkantyu+utca/30854956` has some issues to provide advertiser details!\n"
     ]
    },
    {
     "name": "stderr",
     "output_type": "stream",
     "text": [
      " 12%|█████████▋                                                                       | 95/798 [07:04<48:58,  4.18s/it]"
     ]
    },
    {
     "name": "stdout",
     "output_type": "stream",
     "text": [
      "`https://ingatlan.com/szeged-fodorkert/elado+haz/sorhaz/csongrad+megye+szeged/30198371` has some issues to provide advertiser details!\n"
     ]
    },
    {
     "name": "stderr",
     "output_type": "stream",
     "text": [
      " 13%|██████████                                                                      | 100/798 [07:25<48:55,  4.21s/it]"
     ]
    },
    {
     "name": "stdout",
     "output_type": "stream",
     "text": [
      "`https://ingatlan.com/szeged-belvaros/elado+haz/csaladi-haz/csongrad+megye+szeged/27800729` has some issues to provide advertiser details!\n"
     ]
    },
    {
     "name": "stderr",
     "output_type": "stream",
     "text": [
      " 13%|██████████▏                                                                     | 102/798 [07:35<51:15,  4.42s/it]"
     ]
    },
    {
     "name": "stdout",
     "output_type": "stream",
     "text": [
      "`https://ingatlan.com/szeged/elado+haz/ikerhaz/csongrad+megye+szeged+fogarasi+utca/30868792` has some issues to provide advertiser details!\n"
     ]
    },
    {
     "name": "stderr",
     "output_type": "stream",
     "text": [
      " 13%|██████████▌                                                                     | 105/798 [07:48<51:12,  4.43s/it]"
     ]
    },
    {
     "name": "stdout",
     "output_type": "stream",
     "text": [
      "`https://ingatlan.com/szeged-petofitelep/elado+haz/csaladi-haz/csongrad+megye+szeged/30838804` has some issues to provide advertiser details!\n"
     ]
    },
    {
     "name": "stderr",
     "output_type": "stream",
     "text": [
      "\r",
      " 13%|██████████▋                                                                     | 106/798 [07:53<50:20,  4.36s/it]"
     ]
    },
    {
     "name": "stdout",
     "output_type": "stream",
     "text": [
      "`https://ingatlan.com/szeged-petofitelep/elado+haz/ikerhaz/csongrad+megye+szeged/30423601` has some issues to provide advertiser details!\n"
     ]
    },
    {
     "name": "stderr",
     "output_type": "stream",
     "text": [
      " 14%|██████████▉                                                                     | 109/798 [08:05<47:32,  4.14s/it]"
     ]
    },
    {
     "name": "stdout",
     "output_type": "stream",
     "text": [
      "`https://ingatlan.com/szeged/elado+haz/csaladi-haz/csongrad+megye+szeged+dobo+utca/30183608` has some issues to provide advertiser details!\n"
     ]
    },
    {
     "name": "stderr",
     "output_type": "stream",
     "text": [
      " 14%|███████████▏                                                                    | 111/798 [08:13<47:27,  4.14s/it]"
     ]
    },
    {
     "name": "stdout",
     "output_type": "stream",
     "text": [
      "`https://ingatlan.com/szeged-belvaros/elado+haz/csaladi-haz/csongrad+megye+szeged/30659167` has some issues to provide advertiser details!\n"
     ]
    },
    {
     "name": "stderr",
     "output_type": "stream",
     "text": [
      " 14%|███████████▎                                                                    | 113/798 [08:21<46:40,  4.09s/it]"
     ]
    },
    {
     "name": "stdout",
     "output_type": "stream",
     "text": [
      "`https://ingatlan.com/szeged-ujszeged/elado+haz/csaladi-haz/csongrad+megye+szeged/30793813` has some issues to provide advertiser details!\n"
     ]
    },
    {
     "name": "stderr",
     "output_type": "stream",
     "text": [
      " 15%|███████████▋                                                                    | 117/798 [08:37<45:41,  4.03s/it]"
     ]
    },
    {
     "name": "stdout",
     "output_type": "stream",
     "text": [
      "`https://ingatlan.com/szeged-alsovaros/elado+haz/csaladi-haz/csongrad+megye+szeged/30954652` has some issues to provide advertiser details!\n"
     ]
    },
    {
     "name": "stderr",
     "output_type": "stream",
     "text": [
      "\r",
      " 15%|███████████▊                                                                    | 118/798 [08:41<45:57,  4.05s/it]"
     ]
    },
    {
     "name": "stdout",
     "output_type": "stream",
     "text": [
      "`https://ingatlan.com/szeged/elado+haz/csaladi-haz/csongrad+megye+szeged+hargitai+utca/26999028` has some issues to provide advertiser details!\n"
     ]
    },
    {
     "name": "stderr",
     "output_type": "stream",
     "text": [
      "\r",
      " 15%|███████████▉                                                                    | 119/798 [08:45<44:49,  3.96s/it]"
     ]
    },
    {
     "name": "stdout",
     "output_type": "stream",
     "text": [
      "`https://ingatlan.com/szeged/elado+haz/csaladi-haz/csongrad+megye+szeged+boros+jozsef+utca/30928870` has some issues to provide advertiser details!\n"
     ]
    },
    {
     "name": "stderr",
     "output_type": "stream",
     "text": [
      " 15%|████████████▏                                                                   | 121/798 [08:53<45:30,  4.03s/it]"
     ]
    },
    {
     "name": "stdout",
     "output_type": "stream",
     "text": [
      "`https://ingatlan.com/szeged-szoreg/elado+haz/csaladi-haz/csongrad+megye+szeged/30371339` has some issues to provide advertiser details!\n"
     ]
    },
    {
     "name": "stderr",
     "output_type": "stream",
     "text": [
      "\r",
      " 15%|████████████▏                                                                   | 122/798 [08:57<46:22,  4.12s/it]"
     ]
    },
    {
     "name": "stdout",
     "output_type": "stream",
     "text": [
      "`https://ingatlan.com/szeged/elado+haz/csaladi-haz/csongrad+megye+szeged+rakoczi+utca/29654684` has some issues to provide advertiser details!\n"
     ]
    },
    {
     "name": "stderr",
     "output_type": "stream",
     "text": [
      " 16%|████████████▍                                                                   | 124/798 [09:06<47:17,  4.21s/it]"
     ]
    },
    {
     "name": "stdout",
     "output_type": "stream",
     "text": [
      "`https://ingatlan.com/szeged-ujszeged/elado+haz/ikerhaz/csongrad+megye+szeged/30447286` has some issues to provide advertiser details!\n"
     ]
    },
    {
     "name": "stderr",
     "output_type": "stream",
     "text": [
      "\r",
      " 16%|████████████▌                                                                   | 125/798 [09:10<46:31,  4.15s/it]"
     ]
    },
    {
     "name": "stdout",
     "output_type": "stream",
     "text": [
      "`https://ingatlan.com/szeged-ujszeged/elado+haz/csaladi-haz/csongrad+megye+szeged/27987146` has some issues to provide advertiser details!\n"
     ]
    },
    {
     "name": "stderr",
     "output_type": "stream",
     "text": [
      " 17%|█████████████▎                                                                  | 133/798 [09:43<44:28,  4.01s/it]"
     ]
    },
    {
     "name": "stdout",
     "output_type": "stream",
     "text": [
      "`https://ingatlan.com/szeged/elado+haz/sorhaz/csongrad+megye+szeged+tompa+mihaly+utca/28791935` has some issues to provide advertiser details!\n"
     ]
    },
    {
     "name": "stderr",
     "output_type": "stream",
     "text": [
      "\r",
      " 17%|█████████████▍                                                                  | 134/798 [09:48<46:07,  4.17s/it]"
     ]
    },
    {
     "name": "stdout",
     "output_type": "stream",
     "text": [
      "`https://ingatlan.com/szeged/elado+haz/hazresz/csongrad+megye+szeged/30673558` has some issues to provide advertiser details!\n"
     ]
    },
    {
     "name": "stderr",
     "output_type": "stream",
     "text": [
      " 17%|█████████████▋                                                                  | 136/798 [09:56<46:17,  4.20s/it]"
     ]
    },
    {
     "name": "stdout",
     "output_type": "stream",
     "text": [
      "`https://ingatlan.com/szeged-szoreg/elado+haz/csaladi-haz/csongrad+megye+szeged+gozmalom+utca/30429661` has some issues to provide advertiser details!\n"
     ]
    },
    {
     "name": "stderr",
     "output_type": "stream",
     "text": [
      "\r",
      " 17%|█████████████▋                                                                  | 137/798 [10:01<46:32,  4.22s/it]"
     ]
    },
    {
     "name": "stdout",
     "output_type": "stream",
     "text": [
      "`https://ingatlan.com/szeged-rokus/elado+haz/csaladi-haz/csongrad+megye+szeged/27544776` has some issues to provide advertiser details!\n"
     ]
    },
    {
     "name": "stderr",
     "output_type": "stream",
     "text": [
      " 17%|█████████████▉                                                                  | 139/798 [10:08<44:29,  4.05s/it]"
     ]
    },
    {
     "name": "stdout",
     "output_type": "stream",
     "text": [
      "`https://ingatlan.com/szeged/elado+haz/sorhaz/csongrad+megye+szeged+katalin+utca/28596953` has some issues to provide advertiser details!\n"
     ]
    },
    {
     "name": "stderr",
     "output_type": "stream",
     "text": [
      "\r",
      " 18%|██████████████                                                                  | 140/798 [10:13<45:06,  4.11s/it]"
     ]
    },
    {
     "name": "stdout",
     "output_type": "stream",
     "text": [
      "`https://ingatlan.com/szeged-gyalaret/elado+haz/csaladi-haz/csongrad+megye+szeged/27243352` has some issues to provide advertiser details!\n"
     ]
    },
    {
     "name": "stderr",
     "output_type": "stream",
     "text": [
      "\r",
      " 18%|██████████████▏                                                                 | 141/798 [10:17<44:31,  4.07s/it]"
     ]
    },
    {
     "name": "stdout",
     "output_type": "stream",
     "text": [
      "`https://ingatlan.com/szeged-szoreg/elado+haz/csaladi-haz/csongrad+megye+szeged+nyarfa+utca+2/30970735` has some issues to provide advertiser details!\n"
     ]
    },
    {
     "name": "stderr",
     "output_type": "stream",
     "text": [
      "\r",
      " 18%|██████████████▏                                                                 | 142/798 [10:21<46:26,  4.25s/it]"
     ]
    },
    {
     "name": "stdout",
     "output_type": "stream",
     "text": [
      "`https://ingatlan.com/szeged-alsovaros/elado+haz/csaladi-haz/csongrad+megye+szeged/25419267` has some issues to provide advertiser details!\n"
     ]
    },
    {
     "name": "stderr",
     "output_type": "stream",
     "text": [
      " 18%|██████████████▋                                                                 | 147/798 [10:42<46:00,  4.24s/it]"
     ]
    },
    {
     "name": "stdout",
     "output_type": "stream",
     "text": [
      "Could not click on phone number\n",
      "`https://ingatlan.com/szeged-alsovaros/elado+haz/csaladi-haz/csongrad+megye+szeged/28874744` has some issues to provide advertiser details!\n"
     ]
    },
    {
     "name": "stderr",
     "output_type": "stream",
     "text": [
      "\r",
      " 19%|██████████████▊                                                                 | 148/798 [10:46<44:43,  4.13s/it]"
     ]
    },
    {
     "name": "stdout",
     "output_type": "stream",
     "text": [
      "`https://ingatlan.com/szeged/elado+haz/csaladi-haz/csongrad+megye+szeged/30369485` has some issues to provide advertiser details!\n"
     ]
    },
    {
     "name": "stderr",
     "output_type": "stream",
     "text": [
      "\r",
      " 19%|██████████████▉                                                                 | 149/798 [10:50<44:21,  4.10s/it]"
     ]
    },
    {
     "name": "stdout",
     "output_type": "stream",
     "text": [
      "`https://ingatlan.com/szeged-kiskundorozsma/elado+haz/csaladi-haz/csongrad+megye+szeged+teglavero+utca/29782508` has some issues to provide advertiser details!\n"
     ]
    },
    {
     "name": "stderr",
     "output_type": "stream",
     "text": [
      " 19%|███████████████▍                                                                | 154/798 [11:12<46:45,  4.36s/it]"
     ]
    },
    {
     "name": "stdout",
     "output_type": "stream",
     "text": [
      "`https://ingatlan.com/szeged-alsovaros/elado+haz/csaladi-haz/csongrad+megye+szeged/29918423` has some issues to provide advertiser details!\n"
     ]
    },
    {
     "name": "stderr",
     "output_type": "stream",
     "text": [
      "\r",
      " 19%|███████████████▌                                                                | 155/798 [11:16<45:53,  4.28s/it]"
     ]
    },
    {
     "name": "stdout",
     "output_type": "stream",
     "text": [
      "`https://ingatlan.com/szeged/elado+haz/csaladi-haz/csongrad+megye+szeged+berkert+utca/23130050` has some issues to provide advertiser details!\n"
     ]
    },
    {
     "name": "stderr",
     "output_type": "stream",
     "text": [
      " 20%|████████████████▎                                                               | 163/798 [11:51<44:38,  4.22s/it]"
     ]
    },
    {
     "name": "stdout",
     "output_type": "stream",
     "text": [
      "`https://ingatlan.com/szeged-subasa/elado+haz/csaladi-haz/csongrad+megye+szeged+szarkalab+utca/30041279` has some issues to provide advertiser details!\n"
     ]
    },
    {
     "name": "stderr",
     "output_type": "stream",
     "text": [
      " 22%|█████████████████▏                                                              | 172/798 [12:30<45:19,  4.34s/it]"
     ]
    },
    {
     "name": "stdout",
     "output_type": "stream",
     "text": [
      "`https://ingatlan.com/szeged-ujszeged/elado+haz/ikerhaz/csongrad+megye+szeged/30679600` has some issues to provide advertiser details!\n"
     ]
    },
    {
     "name": "stderr",
     "output_type": "stream",
     "text": [
      " 22%|█████████████████▍                                                              | 174/798 [12:37<42:05,  4.05s/it]"
     ]
    },
    {
     "name": "stdout",
     "output_type": "stream",
     "text": [
      "`https://ingatlan.com/szeged-ujszeged/elado+haz/sorhaz/csongrad+megye+szeged/30885871` has some issues to provide advertiser details!\n"
     ]
    },
    {
     "name": "stderr",
     "output_type": "stream",
     "text": [
      " 22%|█████████████████▊                                                              | 178/798 [12:55<46:05,  4.46s/it]"
     ]
    },
    {
     "name": "stdout",
     "output_type": "stream",
     "text": [
      "`https://ingatlan.com/szeged-gyalaret/elado+haz/ikerhaz/csongrad+megye+szeged/28321484` has some issues to provide advertiser details!\n"
     ]
    },
    {
     "name": "stderr",
     "output_type": "stream",
     "text": [
      " 23%|██████████████████▏                                                             | 182/798 [13:12<43:35,  4.25s/it]"
     ]
    },
    {
     "name": "stdout",
     "output_type": "stream",
     "text": [
      "`https://ingatlan.com/szeged-ujszeged/elado+haz/csaladi-haz/csongrad+megye+szeged/30500926` has some issues to provide advertiser details!\n"
     ]
    },
    {
     "name": "stderr",
     "output_type": "stream",
     "text": [
      "\r",
      " 23%|██████████████████▎                                                             | 183/798 [13:16<43:35,  4.25s/it]"
     ]
    },
    {
     "name": "stdout",
     "output_type": "stream",
     "text": [
      "`https://ingatlan.com/szeged-ujszeged/elado+haz/csaladi-haz/csongrad+megye+szeged/30300065` has some issues to provide advertiser details!\n"
     ]
    },
    {
     "name": "stderr",
     "output_type": "stream",
     "text": [
      " 23%|██████████████████▌                                                             | 185/798 [13:26<46:20,  4.54s/it]"
     ]
    },
    {
     "name": "stdout",
     "output_type": "stream",
     "text": [
      "`https://ingatlan.com/szeged/elado+haz/csaladi-haz/csongrad+megye+szeged+hattyas+utca/30177593` has some issues to provide advertiser details!\n"
     ]
    },
    {
     "name": "stderr",
     "output_type": "stream",
     "text": [
      " 23%|██████████████████▋                                                             | 187/798 [13:34<43:07,  4.23s/it]"
     ]
    },
    {
     "name": "stdout",
     "output_type": "stream",
     "text": [
      "`https://ingatlan.com/szeged-ujszeged/elado+haz/csaladi-haz/csongrad+megye+szeged/30777325` has some issues to provide advertiser details!\n"
     ]
    },
    {
     "name": "stderr",
     "output_type": "stream",
     "text": [
      " 24%|██████████████████▉                                                             | 189/798 [13:43<44:46,  4.41s/it]"
     ]
    },
    {
     "name": "stdout",
     "output_type": "stream",
     "text": [
      "`https://ingatlan.com/szeged-ujszeged/elado+haz/csaladi-haz/csongrad+megye+szeged/30888052` has some issues to provide advertiser details!\n"
     ]
    },
    {
     "name": "stderr",
     "output_type": "stream",
     "text": [
      " 24%|███████████████████▍                                                            | 194/798 [14:05<44:16,  4.40s/it]"
     ]
    },
    {
     "name": "stdout",
     "output_type": "stream",
     "text": [
      "`https://ingatlan.com/szeged-alsovaros/elado+haz/csaladi-haz/csongrad+megye+szeged/28308107` has some issues to provide advertiser details!\n"
     ]
    },
    {
     "name": "stderr",
     "output_type": "stream",
     "text": [
      " 25%|███████████████████▋                                                            | 196/798 [14:13<42:45,  4.26s/it]"
     ]
    },
    {
     "name": "stdout",
     "output_type": "stream",
     "text": [
      "`https://ingatlan.com/szeged-ujszeged/elado+haz/csaladi-haz/csongrad+megye+szeged/29187158` has some issues to provide advertiser details!\n"
     ]
    },
    {
     "name": "stderr",
     "output_type": "stream",
     "text": [
      "\r",
      " 25%|███████████████████▋                                                            | 197/798 [14:17<42:39,  4.26s/it]"
     ]
    },
    {
     "name": "stdout",
     "output_type": "stream",
     "text": [
      "`https://ingatlan.com/szeged/elado+haz/csaladi-haz/csongrad+megye+szeged+forradalom+utca/30953503` has some issues to provide advertiser details!\n"
     ]
    },
    {
     "name": "stderr",
     "output_type": "stream",
     "text": [
      " 25%|███████████████████▉                                                            | 199/798 [14:27<45:19,  4.54s/it]"
     ]
    },
    {
     "name": "stdout",
     "output_type": "stream",
     "text": [
      "`https://ingatlan.com/szeged-dorozsma/elado+haz/csaladi-haz/csongrad+megye+szeged/30962803` has some issues to provide advertiser details!\n"
     ]
    },
    {
     "name": "stderr",
     "output_type": "stream",
     "text": [
      " 25%|████████████████████▎                                                           | 202/798 [14:40<43:28,  4.38s/it]"
     ]
    },
    {
     "name": "stdout",
     "output_type": "stream",
     "text": [
      "`https://ingatlan.com/szeged/elado+haz/csaladi-haz/csongrad+megye+szeged+lehel+utca/30495886` has some issues to provide advertiser details!\n"
     ]
    },
    {
     "name": "stderr",
     "output_type": "stream",
     "text": [
      " 26%|█████████████████████                                                           | 210/798 [15:15<45:48,  4.67s/it]"
     ]
    },
    {
     "name": "stdout",
     "output_type": "stream",
     "text": [
      "`https://ingatlan.com/szeged-rokus/elado+haz/hazresz/csongrad+megye+szeged/29601296` has some issues to provide advertiser details!\n"
     ]
    },
    {
     "name": "stderr",
     "output_type": "stream",
     "text": [
      " 27%|█████████████████████▊                                                          | 217/798 [15:45<41:54,  4.33s/it]"
     ]
    },
    {
     "name": "stdout",
     "output_type": "stream",
     "text": [
      "`https://ingatlan.com/szeged-subasa/elado+haz/csaladi-haz/csongrad+megye+szeged+szarkalab+utca/30841453` has some issues to provide advertiser details!\n"
     ]
    },
    {
     "name": "stderr",
     "output_type": "stream",
     "text": [
      "\r",
      " 27%|█████████████████████▊                                                          | 218/798 [15:49<41:57,  4.34s/it]"
     ]
    },
    {
     "name": "stdout",
     "output_type": "stream",
     "text": [
      "`https://ingatlan.com/szeged/elado+haz/csaladi-haz/csongrad+megye+szeged+fraknoi+utca/30876814` has some issues to provide advertiser details!\n"
     ]
    },
    {
     "name": "stderr",
     "output_type": "stream",
     "text": [
      " 28%|██████████████████████                                                          | 220/798 [15:58<41:52,  4.35s/it]"
     ]
    },
    {
     "name": "stdout",
     "output_type": "stream",
     "text": [
      "`https://ingatlan.com/szeged-belvaros/elado+haz/csaladi-haz/csongrad+megye+szeged/30266426` has some issues to provide advertiser details!\n"
     ]
    },
    {
     "name": "stderr",
     "output_type": "stream",
     "text": [
      "\r",
      " 28%|██████████████████████▏                                                         | 221/798 [16:02<41:05,  4.27s/it]"
     ]
    },
    {
     "name": "stdout",
     "output_type": "stream",
     "text": [
      "`https://ingatlan.com/szeged-petofitelep/elado+haz/csaladi-haz/csongrad+megye+szeged/27593862` has some issues to provide advertiser details!\n"
     ]
    },
    {
     "name": "stderr",
     "output_type": "stream",
     "text": [
      "\r",
      " 28%|██████████████████████▎                                                         | 222/798 [16:06<41:23,  4.31s/it]"
     ]
    },
    {
     "name": "stdout",
     "output_type": "stream",
     "text": [
      "`https://ingatlan.com/szeged/elado+haz/csaladi-haz/csongrad+megye+szeged/29608328` has some issues to provide advertiser details!\n"
     ]
    },
    {
     "name": "stderr",
     "output_type": "stream",
     "text": [
      " 28%|██████████████████████▌                                                         | 225/798 [16:18<38:30,  4.03s/it]"
     ]
    },
    {
     "name": "stdout",
     "output_type": "stream",
     "text": [
      "`https://ingatlan.com/szeged/elado+haz/csaladi-haz/csongrad+megye+szeged/28630223` has some issues to provide advertiser details!\n"
     ]
    },
    {
     "name": "stderr",
     "output_type": "stream",
     "text": [
      " 30%|███████████████████████▉                                                        | 239/798 [17:20<41:18,  4.43s/it]"
     ]
    },
    {
     "name": "stdout",
     "output_type": "stream",
     "text": [
      "`https://ingatlan.com/szeged/elado+haz/csaladi-haz/csongrad+megye+szeged+titeli+utca/30870907` has some issues to provide advertiser details!\n"
     ]
    },
    {
     "name": "stderr",
     "output_type": "stream",
     "text": [
      " 31%|████████████████████████▌                                                       | 245/798 [17:47<39:53,  4.33s/it]"
     ]
    },
    {
     "name": "stdout",
     "output_type": "stream",
     "text": [
      "`https://ingatlan.com/szeged/elado+haz/csaladi-haz/csongrad+megye+szeged+delceg+utca/30976948` has some issues to provide advertiser details!\n"
     ]
    },
    {
     "name": "stderr",
     "output_type": "stream",
     "text": [
      "\r",
      " 31%|████████████████████████▋                                                       | 246/798 [17:51<38:58,  4.24s/it]"
     ]
    },
    {
     "name": "stdout",
     "output_type": "stream",
     "text": [
      "`https://ingatlan.com/szeged/elado+haz/csaladi-haz/csongrad+megye+szeged/30972733` has some issues to provide advertiser details!\n"
     ]
    },
    {
     "name": "stderr",
     "output_type": "stream",
     "text": [
      " 31%|████████████████████████▉                                                       | 249/798 [18:04<38:49,  4.24s/it]"
     ]
    },
    {
     "name": "stdout",
     "output_type": "stream",
     "text": [
      "`https://ingatlan.com/szeged/elado+haz/csaladi-haz/csongrad+megye+szeged+delceg+utca/30965695` has some issues to provide advertiser details!\n"
     ]
    },
    {
     "name": "stderr",
     "output_type": "stream",
     "text": [
      " 32%|█████████████████████████▋                                                      | 256/798 [18:32<36:47,  4.07s/it]"
     ]
    },
    {
     "name": "stdout",
     "output_type": "stream",
     "text": [
      "`https://ingatlan.com/szeged/elado+haz/csaladi-haz/csongrad+megye+szeged+seres+janos+utca/30959176` has some issues to provide advertiser details!\n"
     ]
    },
    {
     "name": "stderr",
     "output_type": "stream",
     "text": [
      " 32%|█████████████████████████▊                                                      | 258/798 [18:44<44:12,  4.91s/it]"
     ]
    },
    {
     "name": "stdout",
     "output_type": "stream",
     "text": [
      "`https://ingatlan.com/szeged/elado+haz/sorhaz/csongrad+megye+szeged+katalin+utca/30952393` has some issues to provide advertiser details!\n"
     ]
    },
    {
     "name": "stderr",
     "output_type": "stream",
     "text": [
      "\r",
      " 32%|█████████████████████████▉                                                      | 259/798 [18:48<42:16,  4.71s/it]"
     ]
    },
    {
     "name": "stdout",
     "output_type": "stream",
     "text": [
      "`https://ingatlan.com/szeged-kiskundorozsma/elado+haz/csaladi-haz/csongrad+megye+szeged/30950989` has some issues to provide advertiser details!\n"
     ]
    },
    {
     "name": "stderr",
     "output_type": "stream",
     "text": [
      " 33%|██████████████████████████▎                                                     | 262/798 [19:01<39:32,  4.43s/it]"
     ]
    },
    {
     "name": "stdout",
     "output_type": "stream",
     "text": [
      "`https://ingatlan.com/szeged/elado+haz/csaladi-haz/csongrad+megye+szeged+pancsovai+utca/30942769` has some issues to provide advertiser details!\n"
     ]
    },
    {
     "name": "stderr",
     "output_type": "stream",
     "text": [
      " 33%|██████████████████████████▍                                                     | 264/798 [19:10<38:56,  4.38s/it]"
     ]
    },
    {
     "name": "stdout",
     "output_type": "stream",
     "text": [
      "`https://ingatlan.com/szeged/elado+haz/csaladi-haz/csongrad+megye+szeged+gerle+utca/30932791` has some issues to provide advertiser details!\n"
     ]
    },
    {
     "name": "stderr",
     "output_type": "stream",
     "text": [
      "\r",
      " 33%|██████████████████████████▌                                                     | 265/798 [19:14<40:09,  4.52s/it]"
     ]
    },
    {
     "name": "stdout",
     "output_type": "stream",
     "text": [
      "`https://ingatlan.com/szeged/elado+haz/csaladi-haz/csongrad+megye+szeged+diofa+utca/30921895` has some issues to provide advertiser details!\n"
     ]
    },
    {
     "name": "stderr",
     "output_type": "stream",
     "text": [
      "\r",
      " 33%|██████████████████████████▋                                                     | 266/798 [19:21<44:31,  5.02s/it]"
     ]
    },
    {
     "name": "stdout",
     "output_type": "stream",
     "text": [
      "`https://ingatlan.com/szeged-kiskundorozsma/elado+haz/csaladi-haz/csongrad+megye+szeged+virag+utca/30920611` has some issues to provide advertiser details!\n"
     ]
    },
    {
     "name": "stderr",
     "output_type": "stream",
     "text": [
      "\r",
      " 33%|██████████████████████████▊                                                     | 267/798 [19:25<42:48,  4.84s/it]"
     ]
    },
    {
     "name": "stdout",
     "output_type": "stream",
     "text": [
      "`https://ingatlan.com/szeged-tape/elado+haz/csaladi-haz/csongrad+megye+szeged+katang+utca+5/30919870` has some issues to provide advertiser details!\n"
     ]
    },
    {
     "name": "stderr",
     "output_type": "stream",
     "text": [
      "\r",
      " 34%|██████████████████████████▊                                                     | 268/798 [19:29<40:27,  4.58s/it]"
     ]
    },
    {
     "name": "stdout",
     "output_type": "stream",
     "text": [
      "`https://ingatlan.com/szeged/elado+haz/ikerhaz/csongrad+megye+szeged+muves+ut/30919756` has some issues to provide advertiser details!\n"
     ]
    },
    {
     "name": "stderr",
     "output_type": "stream",
     "text": [
      " 34%|███████████████████████████▏                                                    | 271/798 [19:41<37:51,  4.31s/it]"
     ]
    },
    {
     "name": "stdout",
     "output_type": "stream",
     "text": [
      "`https://ingatlan.com/szeged-tape/elado+haz/csaladi-haz/csongrad+megye+szeged/30912565` has some issues to provide advertiser details!\n"
     ]
    },
    {
     "name": "stderr",
     "output_type": "stream",
     "text": [
      "\r",
      " 34%|███████████████████████████▎                                                    | 272/798 [19:45<37:05,  4.23s/it]"
     ]
    },
    {
     "name": "stdout",
     "output_type": "stream",
     "text": [
      "`https://ingatlan.com/szeged/elado+haz/sorhaz/csongrad+megye+szeged+holt-maros+setany/30910039` has some issues to provide advertiser details!\n"
     ]
    },
    {
     "name": "stderr",
     "output_type": "stream",
     "text": [
      " 35%|███████████████████████████▊                                                    | 278/798 [20:09<34:40,  4.00s/it]"
     ]
    },
    {
     "name": "stdout",
     "output_type": "stream",
     "text": [
      "`https://ingatlan.com/szeged/elado+haz/ikerhaz/csongrad+megye+szeged+tisza+lajos+utca+62b/30897079` has some issues to provide advertiser details!\n"
     ]
    },
    {
     "name": "stderr",
     "output_type": "stream",
     "text": [
      "\r",
      " 35%|███████████████████████████▉                                                    | 279/798 [20:14<35:42,  4.13s/it]"
     ]
    },
    {
     "name": "stdout",
     "output_type": "stream",
     "text": [
      "`https://ingatlan.com/szeged-ujszeged/elado+haz/csaladi-haz/csongrad+megye+szeged/30892837` has some issues to provide advertiser details!\n"
     ]
    },
    {
     "name": "stderr",
     "output_type": "stream",
     "text": [
      " 35%|████████████████████████████▏                                                   | 281/798 [20:23<37:40,  4.37s/it]"
     ]
    },
    {
     "name": "stdout",
     "output_type": "stream",
     "text": [
      "`https://ingatlan.com/szeged-petofitelep/elado+haz/csaladi-haz/csongrad+megye+szeged/30889042` has some issues to provide advertiser details!\n"
     ]
    },
    {
     "name": "stderr",
     "output_type": "stream",
     "text": [
      " 35%|████████████████████████████▎                                                   | 283/798 [20:32<37:39,  4.39s/it]"
     ]
    },
    {
     "name": "stdout",
     "output_type": "stream",
     "text": [
      "`https://ingatlan.com/szeged/elado+haz/csaladi-haz/csongrad+megye+szeged+kalvaria+ter/30886552` has some issues to provide advertiser details!\n"
     ]
    },
    {
     "name": "stderr",
     "output_type": "stream",
     "text": [
      " 36%|████████████████████████████▌                                                   | 285/798 [20:39<34:50,  4.08s/it]"
     ]
    },
    {
     "name": "stdout",
     "output_type": "stream",
     "text": [
      "`https://ingatlan.com/szeged/elado+haz/csaladi-haz/csongrad+megye+szeged+hattyas+utca+12k/30871984` has some issues to provide advertiser details!\n"
     ]
    },
    {
     "name": "stderr",
     "output_type": "stream",
     "text": [
      " 36%|████████████████████████████▊                                                   | 287/798 [20:48<35:04,  4.12s/it]"
     ]
    },
    {
     "name": "stdout",
     "output_type": "stream",
     "text": [
      "`https://ingatlan.com/szeged-tape/elado+haz/csaladi-haz/csongrad+megye+szeged/30865588` has some issues to provide advertiser details!\n"
     ]
    },
    {
     "name": "stderr",
     "output_type": "stream",
     "text": [
      "\r",
      " 36%|████████████████████████████▊                                                   | 288/798 [20:51<33:36,  3.95s/it]"
     ]
    },
    {
     "name": "stdout",
     "output_type": "stream",
     "text": [
      "`https://ingatlan.com/szeged-tape/elado+haz/csaladi-haz/csongrad+megye+szeged+fagyongy+utca/30863224` has some issues to provide advertiser details!\n"
     ]
    },
    {
     "name": "stderr",
     "output_type": "stream",
     "text": [
      " 36%|█████████████████████████████▏                                                  | 291/798 [21:05<36:25,  4.31s/it]"
     ]
    },
    {
     "name": "stdout",
     "output_type": "stream",
     "text": [
      "`https://ingatlan.com/szeged-beketelep/elado+haz/csaladi-haz/csongrad+megye+szeged/30859510` has some issues to provide advertiser details!\n"
     ]
    },
    {
     "name": "stderr",
     "output_type": "stream",
     "text": [
      " 37%|█████████████████████████████▊                                                  | 297/798 [21:31<35:44,  4.28s/it]"
     ]
    },
    {
     "name": "stdout",
     "output_type": "stream",
     "text": [
      "`https://ingatlan.com/szeged/elado+haz/csaladi-haz/csongrad+megye+szeged+osz+utca/30841897` has some issues to provide advertiser details!\n"
     ]
    },
    {
     "name": "stderr",
     "output_type": "stream",
     "text": [
      "\r",
      " 37%|█████████████████████████████▊                                                  | 298/798 [21:35<35:00,  4.20s/it]"
     ]
    },
    {
     "name": "stdout",
     "output_type": "stream",
     "text": [
      "`https://ingatlan.com/szeged-felsovaros/elado+haz/csaladi-haz/csongrad+megye+szeged/30841375` has some issues to provide advertiser details!\n"
     ]
    },
    {
     "name": "stderr",
     "output_type": "stream",
     "text": [
      "\r",
      " 37%|█████████████████████████████▉                                                  | 299/798 [21:38<34:05,  4.10s/it]"
     ]
    },
    {
     "name": "stdout",
     "output_type": "stream",
     "text": [
      "`https://ingatlan.com/szeged-alsovaros/elado+haz/csaladi-haz/csongrad+megye+szeged/30840211` has some issues to provide advertiser details!\n"
     ]
    },
    {
     "name": "stderr",
     "output_type": "stream",
     "text": [
      " 38%|██████████████████████████████▎                                                 | 302/798 [21:51<35:13,  4.26s/it]"
     ]
    },
    {
     "name": "stdout",
     "output_type": "stream",
     "text": [
      "`https://ingatlan.com/szeged-kiskundorozsma/elado+haz/csaladi-haz/csongrad+megye+szeged/30839869` has some issues to provide advertiser details!\n"
     ]
    },
    {
     "name": "stderr",
     "output_type": "stream",
     "text": [
      "\r",
      " 38%|██████████████████████████████▍                                                 | 303/798 [21:56<35:28,  4.30s/it]"
     ]
    },
    {
     "name": "stdout",
     "output_type": "stream",
     "text": [
      "`https://ingatlan.com/szeged/elado+haz/csaladi-haz/csongrad+megye+szeged+boros+jozsef+utca/30839731` has some issues to provide advertiser details!\n"
     ]
    },
    {
     "name": "stderr",
     "output_type": "stream",
     "text": [
      "\r",
      " 38%|██████████████████████████████▍                                                 | 304/798 [22:00<35:13,  4.28s/it]"
     ]
    },
    {
     "name": "stdout",
     "output_type": "stream",
     "text": [
      "`https://ingatlan.com/szeged/elado+haz/sorhaz/csongrad+megye+szeged+pinty+utca/30835585` has some issues to provide advertiser details!\n"
     ]
    },
    {
     "name": "stderr",
     "output_type": "stream",
     "text": [
      " 38%|██████████████████████████████▊                                                 | 307/798 [22:13<34:48,  4.25s/it]"
     ]
    },
    {
     "name": "stdout",
     "output_type": "stream",
     "text": [
      "`https://ingatlan.com/szeged/elado+haz/csaladi-haz/csongrad+megye+szeged+fo+fasor+210/30823087` has some issues to provide advertiser details!\n"
     ]
    },
    {
     "name": "stderr",
     "output_type": "stream",
     "text": [
      "\r",
      " 39%|██████████████████████████████▉                                                 | 308/798 [22:18<37:08,  4.55s/it]"
     ]
    },
    {
     "name": "stdout",
     "output_type": "stream",
     "text": [
      "`https://ingatlan.com/szeged/elado+haz/sorhaz/csongrad+megye+szeged+kacsa+utca/30822259` has some issues to provide advertiser details!\n"
     ]
    },
    {
     "name": "stderr",
     "output_type": "stream",
     "text": [
      " 39%|███████████████████████████████                                                 | 310/798 [22:27<37:31,  4.61s/it]"
     ]
    },
    {
     "name": "stdout",
     "output_type": "stream",
     "text": [
      "`https://ingatlan.com/szeged-rokus/elado+haz/csaladi-haz/csongrad+megye+szeged/30816739` has some issues to provide advertiser details!\n"
     ]
    },
    {
     "name": "stderr",
     "output_type": "stream",
     "text": [
      " 39%|███████████████████████████████▌                                                | 315/798 [22:48<34:01,  4.23s/it]"
     ]
    },
    {
     "name": "stdout",
     "output_type": "stream",
     "text": [
      "`https://ingatlan.com/szeged-szoreg/elado+haz/csaladi-haz/csongrad+megye+szeged+kisszolo+utca/30798082` has some issues to provide advertiser details!\n"
     ]
    },
    {
     "name": "stderr",
     "output_type": "stream",
     "text": [
      " 40%|███████████████████████████████▊                                                | 317/798 [22:56<31:43,  3.96s/it]"
     ]
    },
    {
     "name": "stdout",
     "output_type": "stream",
     "text": [
      "`https://ingatlan.com/szeged-petofitelep/elado+haz/csaladi-haz/csongrad+megye+szeged/30794008` has some issues to provide advertiser details!\n"
     ]
    },
    {
     "name": "stderr",
     "output_type": "stream",
     "text": [
      " 40%|███████████████████████████████▉                                                | 319/798 [23:05<34:47,  4.36s/it]"
     ]
    },
    {
     "name": "stdout",
     "output_type": "stream",
     "text": [
      "`https://ingatlan.com/szeged/elado+haz/csaladi-haz/csongrad+megye+szeged+kezdi+utca/30785149` has some issues to provide advertiser details!\n"
     ]
    },
    {
     "name": "stderr",
     "output_type": "stream",
     "text": [
      "\r",
      " 40%|████████████████████████████████                                                | 320/798 [23:09<34:29,  4.33s/it]"
     ]
    },
    {
     "name": "stdout",
     "output_type": "stream",
     "text": [
      "`https://ingatlan.com/szeged-kiskundorozsma/elado+haz/csaladi-haz/csongrad+megye+szeged+valyogos+utca/30779542` has some issues to provide advertiser details!\n"
     ]
    },
    {
     "name": "stderr",
     "output_type": "stream",
     "text": [
      "\r",
      " 40%|████████████████████████████████▏                                               | 321/798 [23:14<34:24,  4.33s/it]"
     ]
    },
    {
     "name": "stdout",
     "output_type": "stream",
     "text": [
      "`https://ingatlan.com/szeged-moravaros/elado+haz/csaladi-haz/csongrad+megye+szeged/30775312` has some issues to provide advertiser details!\n"
     ]
    },
    {
     "name": "stderr",
     "output_type": "stream",
     "text": [
      " 41%|████████████████████████████████▌                                               | 325/798 [23:32<34:35,  4.39s/it]"
     ]
    },
    {
     "name": "stdout",
     "output_type": "stream",
     "text": [
      "`https://ingatlan.com/szeged/elado+haz/csaladi-haz/csongrad+megye+szeged+szekeres+utca/30767296` has some issues to provide advertiser details!\n"
     ]
    },
    {
     "name": "stderr",
     "output_type": "stream",
     "text": [
      "\r",
      " 41%|████████████████████████████████▋                                               | 326/798 [23:36<34:45,  4.42s/it]"
     ]
    },
    {
     "name": "stdout",
     "output_type": "stream",
     "text": [
      "`https://ingatlan.com/szeged/elado+haz/csaladi-haz/csongrad+megye+szeged+traktor+utca/30767131` has some issues to provide advertiser details!\n"
     ]
    },
    {
     "name": "stderr",
     "output_type": "stream",
     "text": [
      "\r",
      " 41%|████████████████████████████████▊                                               | 327/798 [23:40<34:02,  4.34s/it]"
     ]
    },
    {
     "name": "stdout",
     "output_type": "stream",
     "text": [
      "`https://ingatlan.com/szeged-petofitelep/elado+haz/csaladi-haz/csongrad+megye+szeged/30763831` has some issues to provide advertiser details!\n"
     ]
    },
    {
     "name": "stderr",
     "output_type": "stream",
     "text": [
      " 41%|████████████████████████████████▉                                               | 329/798 [23:49<33:10,  4.24s/it]"
     ]
    },
    {
     "name": "stdout",
     "output_type": "stream",
     "text": [
      "`https://ingatlan.com/szeged/elado+haz/csaladi-haz/csongrad+megye+szeged+vercse+utca+10/30758587` has some issues to provide advertiser details!\n"
     ]
    },
    {
     "name": "stderr",
     "output_type": "stream",
     "text": [
      "\r",
      " 41%|█████████████████████████████████                                               | 330/798 [23:52<32:16,  4.14s/it]"
     ]
    },
    {
     "name": "stdout",
     "output_type": "stream",
     "text": [
      "`https://ingatlan.com/szeged/elado+haz/csaladi-haz/csongrad+megye+szeged+traktor+utca/30755044` has some issues to provide advertiser details!\n"
     ]
    },
    {
     "name": "stderr",
     "output_type": "stream",
     "text": [
      " 42%|█████████████████████████████████▍                                              | 333/798 [24:05<31:28,  4.06s/it]"
     ]
    },
    {
     "name": "stdout",
     "output_type": "stream",
     "text": [
      "`https://ingatlan.com/szeged/elado+haz/ikerhaz/csongrad+megye+szeged+ivanovics+gyorgy+utca/30745186` has some issues to provide advertiser details!\n"
     ]
    },
    {
     "name": "stderr",
     "output_type": "stream",
     "text": [
      " 42%|█████████████████████████████████▌                                              | 335/798 [24:13<31:11,  4.04s/it]"
     ]
    },
    {
     "name": "stdout",
     "output_type": "stream",
     "text": [
      "`https://ingatlan.com/szeged/elado+haz/ikerhaz/csongrad+megye+szeged+irinyi+janos+utca/30740764` has some issues to provide advertiser details!\n"
     ]
    },
    {
     "name": "stderr",
     "output_type": "stream",
     "text": [
      "\r",
      " 42%|█████████████████████████████████▋                                              | 336/798 [24:16<30:46,  4.00s/it]"
     ]
    },
    {
     "name": "stdout",
     "output_type": "stream",
     "text": [
      "`https://ingatlan.com/szeged/elado+haz/sorhaz/csongrad+megye+szeged+gebics+utca/30739549` has some issues to provide advertiser details!\n"
     ]
    },
    {
     "name": "stderr",
     "output_type": "stream",
     "text": [
      "\r",
      " 42%|█████████████████████████████████▊                                              | 337/798 [24:20<30:14,  3.94s/it]"
     ]
    },
    {
     "name": "stdout",
     "output_type": "stream",
     "text": [
      "`https://ingatlan.com/szeged/elado+haz/csaladi-haz/csongrad+megye+szeged/30726214` has some issues to provide advertiser details!\n"
     ]
    },
    {
     "name": "stderr",
     "output_type": "stream",
     "text": [
      " 43%|██████████████████████████████████▏                                             | 341/798 [24:39<33:12,  4.36s/it]"
     ]
    },
    {
     "name": "stdout",
     "output_type": "stream",
     "text": [
      "`https://ingatlan.com/szeged-beketelep/elado+haz/csaladi-haz/csongrad+megye+szeged/30711613` has some issues to provide advertiser details!\n"
     ]
    },
    {
     "name": "stderr",
     "output_type": "stream",
     "text": [
      "\r",
      " 43%|██████████████████████████████████▎                                             | 342/798 [24:42<31:16,  4.11s/it]"
     ]
    },
    {
     "name": "stdout",
     "output_type": "stream",
     "text": [
      "`https://ingatlan.com/szeged-kiskundorozsma/elado+haz/tanya/csongrad+megye+szeged+rozsaszeki+utca+16/30707059` has some issues to provide advertiser details!\n"
     ]
    },
    {
     "name": "stderr",
     "output_type": "stream",
     "text": [
      "\r",
      " 43%|██████████████████████████████████▍                                             | 343/798 [24:46<30:39,  4.04s/it]"
     ]
    },
    {
     "name": "stdout",
     "output_type": "stream",
     "text": [
      "`https://ingatlan.com/szeged-tape/elado+haz/csaladi-haz/csongrad+megye+szeged/30703132` has some issues to provide advertiser details!\n"
     ]
    },
    {
     "name": "stderr",
     "output_type": "stream",
     "text": [
      "\r",
      " 43%|██████████████████████████████████▍                                             | 344/798 [24:50<31:06,  4.11s/it]"
     ]
    },
    {
     "name": "stdout",
     "output_type": "stream",
     "text": [
      "`https://ingatlan.com/szeged/elado+haz/csaladi-haz/csongrad+megye+szeged+gabor+aron+utca/30701632` has some issues to provide advertiser details!\n"
     ]
    },
    {
     "name": "stderr",
     "output_type": "stream",
     "text": [
      "\r",
      " 43%|██████████████████████████████████▌                                             | 345/798 [24:54<30:59,  4.10s/it]"
     ]
    },
    {
     "name": "stdout",
     "output_type": "stream",
     "text": [
      "`https://ingatlan.com/szeged/elado+haz/csaladi-haz/csongrad+megye+szeged+fraknoi+utca/30699508` has some issues to provide advertiser details!\n"
     ]
    },
    {
     "name": "stderr",
     "output_type": "stream",
     "text": [
      "\r",
      " 43%|██████████████████████████████████▋                                             | 346/798 [24:58<31:00,  4.12s/it]"
     ]
    },
    {
     "name": "stdout",
     "output_type": "stream",
     "text": [
      "`https://ingatlan.com/szeged-rokus/elado+haz/sorhaz/csongrad+megye+szeged/30697651` has some issues to provide advertiser details!\n"
     ]
    },
    {
     "name": "stderr",
     "output_type": "stream",
     "text": [
      " 44%|██████████████████████████████████▉                                             | 348/798 [25:07<31:05,  4.14s/it]"
     ]
    },
    {
     "name": "stdout",
     "output_type": "stream",
     "text": [
      "`https://ingatlan.com/szeged-tape/elado+haz/csaladi-haz/csongrad+megye+szeged/30692311` has some issues to provide advertiser details!\n"
     ]
    },
    {
     "name": "stderr",
     "output_type": "stream",
     "text": [
      "\r",
      " 44%|██████████████████████████████████▉                                             | 349/798 [25:10<30:00,  4.01s/it]"
     ]
    },
    {
     "name": "stdout",
     "output_type": "stream",
     "text": [
      "`https://ingatlan.com/szeged/elado+haz/csaladi-haz/csongrad+megye+szeged+kendergyari+utca/30692101` has some issues to provide advertiser details!\n"
     ]
    },
    {
     "name": "stderr",
     "output_type": "stream",
     "text": [
      " 44%|███████████████████████████████████▏                                            | 351/798 [25:19<30:24,  4.08s/it]"
     ]
    },
    {
     "name": "stdout",
     "output_type": "stream",
     "text": [
      "`https://ingatlan.com/szeged/elado+haz/csaladi-haz/csongrad+megye+szeged+nadas+utca+2/30683194` has some issues to provide advertiser details!\n"
     ]
    },
    {
     "name": "stderr",
     "output_type": "stream",
     "text": [
      "\r",
      " 44%|███████████████████████████████████▎                                            | 352/798 [25:23<29:43,  4.00s/it]"
     ]
    },
    {
     "name": "stdout",
     "output_type": "stream",
     "text": [
      "`https://ingatlan.com/szeged/elado+haz/csaladi-haz/csongrad+megye+szeged+lekai+utca+3/30682675` has some issues to provide advertiser details!\n"
     ]
    },
    {
     "name": "stderr",
     "output_type": "stream",
     "text": [
      " 44%|███████████████████████████████████▍                                            | 354/798 [25:33<34:20,  4.64s/it]"
     ]
    },
    {
     "name": "stdout",
     "output_type": "stream",
     "text": [
      "`https://ingatlan.com/szeged-beketelep/elado+haz/csaladi-haz/csongrad+megye+szeged/30679624` has some issues to provide advertiser details!\n"
     ]
    },
    {
     "name": "stderr",
     "output_type": "stream",
     "text": [
      " 46%|████████████████████████████████████▌                                           | 365/798 [26:19<31:00,  4.30s/it]"
     ]
    },
    {
     "name": "stdout",
     "output_type": "stream",
     "text": [
      "`https://ingatlan.com/szeged/elado+haz/csaladi-haz/csongrad+megye+szeged+fadrusz+utca/30658453` has some issues to provide advertiser details!\n"
     ]
    },
    {
     "name": "stderr",
     "output_type": "stream",
     "text": [
      " 46%|████████████████████████████████████▊                                           | 367/798 [26:28<30:58,  4.31s/it]"
     ]
    },
    {
     "name": "stdout",
     "output_type": "stream",
     "text": [
      "`https://ingatlan.com/szeged/elado+haz/csaladi-haz/csongrad+megye+szeged+szekeres+utca/30649342` has some issues to provide advertiser details!\n"
     ]
    },
    {
     "name": "stderr",
     "output_type": "stream",
     "text": [
      "\r",
      " 46%|████████████████████████████████████▉                                           | 368/798 [26:32<30:06,  4.20s/it]"
     ]
    },
    {
     "name": "stdout",
     "output_type": "stream",
     "text": [
      "`https://ingatlan.com/szeged/elado+haz/ikerhaz/csongrad+megye+szeged+muves+ut/30647497` has some issues to provide advertiser details!\n"
     ]
    },
    {
     "name": "stderr",
     "output_type": "stream",
     "text": [
      "\r",
      " 46%|████████████████████████████████████▉                                           | 369/798 [26:37<31:39,  4.43s/it]"
     ]
    },
    {
     "name": "stdout",
     "output_type": "stream",
     "text": [
      "`https://ingatlan.com/szeged-alsovaros/elado+haz/csaladi-haz/csongrad+megye+szeged/30639184` has some issues to provide advertiser details!\n"
     ]
    },
    {
     "name": "stderr",
     "output_type": "stream",
     "text": [
      " 46%|█████████████████████████████████████▏                                          | 371/798 [26:47<32:29,  4.57s/it]"
     ]
    },
    {
     "name": "stdout",
     "output_type": "stream",
     "text": [
      "`https://ingatlan.com/szeged-kiskundorozsma/elado+haz/csaladi-haz/csongrad+megye+szeged+orczy+istvan+utca/30637570` has some issues to provide advertiser details!\n"
     ]
    },
    {
     "name": "stderr",
     "output_type": "stream",
     "text": [
      " 47%|█████████████████████████████████████▋                                          | 376/798 [27:10<35:21,  5.03s/it]"
     ]
    },
    {
     "name": "stdout",
     "output_type": "stream",
     "text": [
      "`https://ingatlan.com/szeged/elado+haz/csaladi-haz/csongrad+megye+szeged/30622429` has some issues to provide advertiser details!\n"
     ]
    },
    {
     "name": "stderr",
     "output_type": "stream",
     "text": [
      "\r",
      " 47%|█████████████████████████████████████▊                                          | 377/798 [27:15<36:06,  5.15s/it]"
     ]
    },
    {
     "name": "stdout",
     "output_type": "stream",
     "text": [
      "`https://ingatlan.com/szeged/elado+haz/sorhaz/csongrad+megye+szeged+batthyany+utca/30618808` has some issues to provide advertiser details!\n"
     ]
    },
    {
     "name": "stderr",
     "output_type": "stream",
     "text": [
      " 47%|█████████████████████████████████████▉                                          | 379/798 [27:24<32:28,  4.65s/it]"
     ]
    },
    {
     "name": "stdout",
     "output_type": "stream",
     "text": [
      "`https://ingatlan.com/szeged-tape/elado+haz/csaladi-haz/csongrad+megye+szeged+fiume+utca/30608389` has some issues to provide advertiser details!\n"
     ]
    },
    {
     "name": "stderr",
     "output_type": "stream",
     "text": [
      "\r",
      " 48%|██████████████████████████████████████                                          | 380/798 [27:28<32:05,  4.61s/it]"
     ]
    },
    {
     "name": "stdout",
     "output_type": "stream",
     "text": [
      "`https://ingatlan.com/szeged-tape/elado+haz/csaladi-haz/csongrad+megye+szeged+berettyo+utca/30607891` has some issues to provide advertiser details!\n"
     ]
    },
    {
     "name": "stderr",
     "output_type": "stream",
     "text": [
      " 48%|██████████████████████████████████████▎                                         | 382/798 [27:37<31:06,  4.49s/it]"
     ]
    },
    {
     "name": "stdout",
     "output_type": "stream",
     "text": [
      "`https://ingatlan.com/szeged-bakto/elado+haz/csaladi-haz/csongrad+megye+szeged/30593500` has some issues to provide advertiser details!\n"
     ]
    },
    {
     "name": "stderr",
     "output_type": "stream",
     "text": [
      " 48%|██████████████████████████████████████▌                                         | 385/798 [27:49<28:56,  4.20s/it]"
     ]
    },
    {
     "name": "stdout",
     "output_type": "stream",
     "text": [
      "`https://ingatlan.com/szeged/elado+haz/csaladi-haz/csongrad+megye+szeged/30585832` has some issues to provide advertiser details!\n"
     ]
    },
    {
     "name": "stderr",
     "output_type": "stream",
     "text": [
      " 49%|██████████████████████████████████████▉                                         | 389/798 [28:08<30:32,  4.48s/it]"
     ]
    },
    {
     "name": "stdout",
     "output_type": "stream",
     "text": [
      "`https://ingatlan.com/szeged-dorozsma/elado+haz/csaladi-haz/csongrad+megye+szeged/30572938` has some issues to provide advertiser details!\n"
     ]
    },
    {
     "name": "stderr",
     "output_type": "stream",
     "text": [
      " 49%|███████████████████████████████████████▌                                        | 395/798 [28:35<31:36,  4.71s/it]"
     ]
    },
    {
     "name": "stdout",
     "output_type": "stream",
     "text": [
      "`https://ingatlan.com/szeged-kiskundorozsma/elado+haz/csaladi-haz/csongrad+megye+szeged+ingovany+utca/30528832` has some issues to provide advertiser details!\n"
     ]
    },
    {
     "name": "stderr",
     "output_type": "stream",
     "text": [
      " 50%|███████████████████████████████████████▉                                        | 398/798 [28:48<29:30,  4.43s/it]"
     ]
    },
    {
     "name": "stdout",
     "output_type": "stream",
     "text": [
      "`https://ingatlan.com/szeged-kiskundorozsma/elado+haz/csaladi-haz/csongrad+megye+szeged/30526903` has some issues to provide advertiser details!\n"
     ]
    },
    {
     "name": "stderr",
     "output_type": "stream",
     "text": [
      "\r",
      " 50%|████████████████████████████████████████                                        | 399/798 [28:52<29:05,  4.38s/it]"
     ]
    },
    {
     "name": "stdout",
     "output_type": "stream",
     "text": [
      "`https://ingatlan.com/szeged-szentmihaly/elado+haz/csaladi-haz/csongrad+megye+szeged+erdei+ferenc+utca/30506371` has some issues to provide advertiser details!\n"
     ]
    },
    {
     "name": "stderr",
     "output_type": "stream",
     "text": [
      "\r",
      " 50%|████████████████████████████████████████                                        | 400/798 [28:56<28:36,  4.31s/it]"
     ]
    },
    {
     "name": "stdout",
     "output_type": "stream",
     "text": [
      "`https://ingatlan.com/szeged-ujszeged/elado+haz/csaladi-haz/csongrad+megye+szeged/30504673` has some issues to provide advertiser details!\n"
     ]
    },
    {
     "name": "stderr",
     "output_type": "stream",
     "text": [
      " 51%|████████████████████████████████████████▌                                       | 404/798 [29:14<29:02,  4.42s/it]"
     ]
    },
    {
     "name": "stdout",
     "output_type": "stream",
     "text": [
      "`https://ingatlan.com/szeged/elado+haz/csaladi-haz/csongrad+megye+szeged+nadas+utca/30493342` has some issues to provide advertiser details!\n"
     ]
    },
    {
     "name": "stderr",
     "output_type": "stream",
     "text": [
      "\r",
      " 51%|████████████████████████████████████████▌                                       | 405/798 [29:19<29:14,  4.47s/it]"
     ]
    },
    {
     "name": "stdout",
     "output_type": "stream",
     "text": [
      "`https://ingatlan.com/szeged/elado+haz/csaladi-haz/csongrad+megye+szeged+forradalom+utca/30492496` has some issues to provide advertiser details!\n"
     ]
    },
    {
     "name": "stderr",
     "output_type": "stream",
     "text": [
      " 51%|█████████████████████████████████████████                                       | 410/798 [29:40<27:13,  4.21s/it]"
     ]
    },
    {
     "name": "stdout",
     "output_type": "stream",
     "text": [
      "`https://ingatlan.com/szeged/elado+haz/csaladi-haz/csongrad+megye+szeged+pozsonyi+ignac+utca/30468589` has some issues to provide advertiser details!\n"
     ]
    },
    {
     "name": "stderr",
     "output_type": "stream",
     "text": [
      " 52%|█████████████████████████████████████████▌                                      | 414/798 [29:57<28:04,  4.39s/it]"
     ]
    },
    {
     "name": "stdout",
     "output_type": "stream",
     "text": [
      "`https://ingatlan.com/szeged/elado+haz/csaladi-haz/csongrad+megye+szeged+aranka+utca/30454333` has some issues to provide advertiser details!\n"
     ]
    },
    {
     "name": "stderr",
     "output_type": "stream",
     "text": [
      " 52%|█████████████████████████████████████████▊                                      | 417/798 [30:12<29:25,  4.64s/it]"
     ]
    },
    {
     "name": "stdout",
     "output_type": "stream",
     "text": [
      "`https://ingatlan.com/szeged-ujszeged/elado+haz/ikerhaz/csongrad+megye+szeged/30447274` has some issues to provide advertiser details!\n"
     ]
    },
    {
     "name": "stderr",
     "output_type": "stream",
     "text": [
      " 53%|██████████████████████████████████████████                                      | 419/798 [30:21<28:35,  4.53s/it]"
     ]
    },
    {
     "name": "stdout",
     "output_type": "stream",
     "text": [
      "`https://ingatlan.com/szeged-bakto/elado+haz/ikerhaz/csongrad+megye+szeged/30439843` has some issues to provide advertiser details!\n"
     ]
    },
    {
     "name": "stderr",
     "output_type": "stream",
     "text": [
      " 53%|██████████████████████████████████████████▎                                     | 422/798 [30:34<27:30,  4.39s/it]"
     ]
    },
    {
     "name": "stdout",
     "output_type": "stream",
     "text": [
      "`https://ingatlan.com/szeged/elado+haz/ikerhaz/csongrad+megye+szeged+fo+fasor/30427513` has some issues to provide advertiser details!\n"
     ]
    },
    {
     "name": "stderr",
     "output_type": "stream",
     "text": [
      "\r",
      " 53%|██████████████████████████████████████████▍                                     | 423/798 [30:38<27:23,  4.38s/it]"
     ]
    },
    {
     "name": "stdout",
     "output_type": "stream",
     "text": [
      "`https://ingatlan.com/szeged/elado+haz/csaladi-haz/csongrad+megye+szeged/30421492` has some issues to provide advertiser details!\n"
     ]
    },
    {
     "name": "stderr",
     "output_type": "stream",
     "text": [
      " 54%|██████████████████████████████████████████▉                                     | 428/798 [30:59<26:23,  4.28s/it]"
     ]
    },
    {
     "name": "stdout",
     "output_type": "stream",
     "text": [
      "`https://ingatlan.com/szeged/elado+haz/ikerhaz/csongrad+megye+szeged+darda+utca/30406666` has some issues to provide advertiser details!\n"
     ]
    },
    {
     "name": "stderr",
     "output_type": "stream",
     "text": [
      " 54%|███████████████████████████████████████████                                     | 430/798 [31:08<26:25,  4.31s/it]"
     ]
    },
    {
     "name": "stdout",
     "output_type": "stream",
     "text": [
      "`https://ingatlan.com/szeged-szentmihaly/elado+haz/csaladi-haz/csongrad+megye+szeged+feherpart+utca/30400219` has some issues to provide advertiser details!\n"
     ]
    },
    {
     "name": "stderr",
     "output_type": "stream",
     "text": [
      " 54%|███████████████████████████████████████████▎                                    | 432/798 [31:18<28:59,  4.75s/it]"
     ]
    },
    {
     "name": "stdout",
     "output_type": "stream",
     "text": [
      "`https://ingatlan.com/szeged-szoreg/elado+haz/sorhaz/csongrad+megye+szeged/30389362` has some issues to provide advertiser details!\n"
     ]
    },
    {
     "name": "stderr",
     "output_type": "stream",
     "text": [
      "\r",
      " 54%|███████████████████████████████████████████▍                                    | 433/798 [31:23<28:51,  4.75s/it]"
     ]
    },
    {
     "name": "stdout",
     "output_type": "stream",
     "text": [
      "`https://ingatlan.com/szeged-szentmihaly/elado+haz/csaladi-haz/csongrad+megye+szeged+holt-tisza+sor/30375970` has some issues to provide advertiser details!\n"
     ]
    },
    {
     "name": "stderr",
     "output_type": "stream",
     "text": [
      "\r",
      " 54%|███████████████████████████████████████████▌                                    | 434/798 [31:27<27:19,  4.50s/it]"
     ]
    },
    {
     "name": "stdout",
     "output_type": "stream",
     "text": [
      "`https://ingatlan.com/szeged/elado+haz/sorhaz/csongrad+megye+szeged+pasztor+utca+592/30374558` has some issues to provide advertiser details!\n"
     ]
    },
    {
     "name": "stderr",
     "output_type": "stream",
     "text": [
      " 55%|███████████████████████████████████████████▋                                    | 436/798 [31:35<26:07,  4.33s/it]"
     ]
    },
    {
     "name": "stdout",
     "output_type": "stream",
     "text": [
      "`https://ingatlan.com/szeged/elado+haz/csaladi-haz/csongrad+megye+szeged/30346823` has some issues to provide advertiser details!\n"
     ]
    },
    {
     "name": "stderr",
     "output_type": "stream",
     "text": [
      " 55%|███████████████████████████████████████████▉                                    | 438/798 [31:43<24:54,  4.15s/it]"
     ]
    },
    {
     "name": "stdout",
     "output_type": "stream",
     "text": [
      "`https://ingatlan.com/szeged-beketelep/elado+haz/csaladi-haz/csongrad+megye+szeged/30330494` has some issues to provide advertiser details!\n"
     ]
    },
    {
     "name": "stderr",
     "output_type": "stream",
     "text": [
      "\r",
      " 55%|████████████████████████████████████████████                                    | 439/798 [31:47<24:38,  4.12s/it]"
     ]
    },
    {
     "name": "stdout",
     "output_type": "stream",
     "text": [
      "`https://ingatlan.com/szeged-beketelep/elado+haz/csaladi-haz/csongrad+megye+szeged/30329258` has some issues to provide advertiser details!\n"
     ]
    },
    {
     "name": "stderr",
     "output_type": "stream",
     "text": [
      "\r",
      " 55%|████████████████████████████████████████████                                    | 440/798 [31:51<24:14,  4.06s/it]"
     ]
    },
    {
     "name": "stdout",
     "output_type": "stream",
     "text": [
      "`https://ingatlan.com/szeged-beketelep/elado+haz/csaladi-haz/csongrad+megye+szeged/30328805` has some issues to provide advertiser details!\n"
     ]
    },
    {
     "name": "stderr",
     "output_type": "stream",
     "text": [
      " 56%|████████████████████████████████████████████▍                                   | 443/798 [32:05<25:58,  4.39s/it]"
     ]
    },
    {
     "name": "stdout",
     "output_type": "stream",
     "text": [
      "`https://ingatlan.com/szeged-beketelep/elado+haz/csaladi-haz/csongrad+megye+szeged/30324950` has some issues to provide advertiser details!\n"
     ]
    },
    {
     "name": "stderr",
     "output_type": "stream",
     "text": [
      " 56%|████████████████████████████████████████████▋                                   | 446/798 [32:17<23:38,  4.03s/it]"
     ]
    },
    {
     "name": "stdout",
     "output_type": "stream",
     "text": [
      "`https://ingatlan.com/szeged/elado+haz/ikerhaz/csongrad+megye+szeged+torokkanizsa+utca/30314783` has some issues to provide advertiser details!\n"
     ]
    },
    {
     "name": "stderr",
     "output_type": "stream",
     "text": [
      "\r",
      " 56%|████████████████████████████████████████████▊                                   | 447/798 [32:21<24:07,  4.12s/it]"
     ]
    },
    {
     "name": "stdout",
     "output_type": "stream",
     "text": [
      "`https://ingatlan.com/szeged/elado+haz/csaladi-haz/csongrad+megye+szeged+tarogato+utca/30308237` has some issues to provide advertiser details!\n"
     ]
    },
    {
     "name": "stderr",
     "output_type": "stream",
     "text": [
      "\r",
      " 56%|████████████████████████████████████████████▉                                   | 448/798 [32:25<23:53,  4.09s/it]"
     ]
    },
    {
     "name": "stdout",
     "output_type": "stream",
     "text": [
      "`https://ingatlan.com/szeged/elado+haz/csaladi-haz/csongrad+megye+szeged+furj+utca/30307319` has some issues to provide advertiser details!\n"
     ]
    },
    {
     "name": "stderr",
     "output_type": "stream",
     "text": [
      " 56%|█████████████████████████████████████████████                                   | 450/798 [32:33<23:21,  4.03s/it]"
     ]
    },
    {
     "name": "stdout",
     "output_type": "stream",
     "text": [
      "`https://ingatlan.com/szeged/elado+haz/sorhaz/csongrad+megye+szeged+fo+fasor/30300635` has some issues to provide advertiser details!\n"
     ]
    },
    {
     "name": "stderr",
     "output_type": "stream",
     "text": [
      " 57%|█████████████████████████████████████████████▍                                  | 453/798 [32:44<22:25,  3.90s/it]"
     ]
    },
    {
     "name": "stdout",
     "output_type": "stream",
     "text": [
      "Could not click on phone number\n",
      "`https://ingatlan.com/szeged-ujszeged/elado+haz/csaladi-haz/csongrad+megye+szeged/30293291` has some issues to provide advertiser details!\n"
     ]
    },
    {
     "name": "stderr",
     "output_type": "stream",
     "text": [
      " 57%|█████████████████████████████████████████████▌                                  | 455/798 [32:53<23:26,  4.10s/it]"
     ]
    },
    {
     "name": "stdout",
     "output_type": "stream",
     "text": [
      "`https://ingatlan.com/szeged/elado+haz/csaladi-haz/csongrad+megye+szeged+papai+utca/30272432` has some issues to provide advertiser details!\n"
     ]
    },
    {
     "name": "stderr",
     "output_type": "stream",
     "text": [
      "\r",
      " 57%|█████████████████████████████████████████████▋                                  | 456/798 [32:56<22:45,  3.99s/it]"
     ]
    },
    {
     "name": "stdout",
     "output_type": "stream",
     "text": [
      "`https://ingatlan.com/szeged/elado+haz/csaladi-haz/csongrad+megye+szeged+kozepkapu+utca/30266147` has some issues to provide advertiser details!\n"
     ]
    },
    {
     "name": "stderr",
     "output_type": "stream",
     "text": [
      "\r",
      " 57%|█████████████████████████████████████████████▊                                  | 457/798 [33:00<22:05,  3.89s/it]"
     ]
    },
    {
     "name": "stdout",
     "output_type": "stream",
     "text": [
      "`https://ingatlan.com/szeged-ujszeged/elado+haz/csaladi-haz/csongrad+megye+szeged/30262292` has some issues to provide advertiser details!\n"
     ]
    },
    {
     "name": "stderr",
     "output_type": "stream",
     "text": [
      " 58%|██████████████████████████████████████████████                                  | 459/798 [33:08<21:51,  3.87s/it]"
     ]
    },
    {
     "name": "stdout",
     "output_type": "stream",
     "text": [
      "`https://ingatlan.com/szeged-alsovaros/elado+haz/csaladi-haz/csongrad+megye+szeged/30261161` has some issues to provide advertiser details!\n"
     ]
    },
    {
     "name": "stderr",
     "output_type": "stream",
     "text": [
      "\r",
      " 58%|██████████████████████████████████████████████                                  | 460/798 [33:12<22:45,  4.04s/it]"
     ]
    },
    {
     "name": "stdout",
     "output_type": "stream",
     "text": [
      "`https://ingatlan.com/szeged-alsovaros/elado+haz/csaladi-haz/csongrad+megye+szeged/30261122` has some issues to provide advertiser details!\n"
     ]
    },
    {
     "name": "stderr",
     "output_type": "stream",
     "text": [
      " 58%|██████████████████████████████████████████████▍                                 | 463/798 [33:26<24:08,  4.32s/it]"
     ]
    },
    {
     "name": "stdout",
     "output_type": "stream",
     "text": [
      "`https://ingatlan.com/szeged/elado+haz/csaladi-haz/csongrad+megye+szeged+10+utca+7/30221291` has some issues to provide advertiser details!\n"
     ]
    },
    {
     "name": "stderr",
     "output_type": "stream",
     "text": [
      " 59%|██████████████████████████████████████████████▉                                 | 468/798 [33:47<23:25,  4.26s/it]"
     ]
    },
    {
     "name": "stdout",
     "output_type": "stream",
     "text": [
      "`https://ingatlan.com/szeged/elado+haz/csaladi-haz/csongrad+megye+szeged+hold+utca/30183986` has some issues to provide advertiser details!\n"
     ]
    },
    {
     "name": "stderr",
     "output_type": "stream",
     "text": [
      " 59%|███████████████████████████████████████████████▍                                | 473/798 [34:08<23:31,  4.34s/it]"
     ]
    },
    {
     "name": "stdout",
     "output_type": "stream",
     "text": [
      "`https://ingatlan.com/szeged/elado+haz/csaladi-haz/csongrad+megye+szeged/30163415` has some issues to provide advertiser details!\n"
     ]
    },
    {
     "name": "stderr",
     "output_type": "stream",
     "text": [
      " 60%|███████████████████████████████████████████████▊                                | 477/798 [34:26<23:59,  4.49s/it]"
     ]
    },
    {
     "name": "stdout",
     "output_type": "stream",
     "text": [
      "`https://ingatlan.com/szeged-beketelep/elado+haz/csaladi-haz/csongrad+megye+szeged/30158900` has some issues to provide advertiser details!\n"
     ]
    },
    {
     "name": "stderr",
     "output_type": "stream",
     "text": [
      " 60%|████████████████████████████████████████████████▎                               | 482/798 [34:49<23:55,  4.54s/it]"
     ]
    },
    {
     "name": "stdout",
     "output_type": "stream",
     "text": [
      "`https://ingatlan.com/szeged/elado+haz/csaladi-haz/csongrad+megye+szeged+hobiart+basa+utca/30143555` has some issues to provide advertiser details!\n"
     ]
    },
    {
     "name": "stderr",
     "output_type": "stream",
     "text": [
      " 61%|█████████████████████████████████████████████████                               | 489/798 [35:23<24:33,  4.77s/it]"
     ]
    },
    {
     "name": "stdout",
     "output_type": "stream",
     "text": [
      "`https://ingatlan.com/szeged-beketelep/elado+haz/csaladi-haz/csongrad+megye+szeged/30111653` has some issues to provide advertiser details!\n"
     ]
    },
    {
     "name": "stderr",
     "output_type": "stream",
     "text": [
      " 62%|█████████████████████████████████████████████████▏                              | 491/798 [35:32<23:58,  4.69s/it]"
     ]
    },
    {
     "name": "stdout",
     "output_type": "stream",
     "text": [
      "`https://ingatlan.com/szeged-kiskundorozsma/elado+haz/csaladi-haz/csongrad+megye+szeged+vadliba+utca/30106430` has some issues to provide advertiser details!\n"
     ]
    },
    {
     "name": "stderr",
     "output_type": "stream",
     "text": [
      "\r",
      " 62%|█████████████████████████████████████████████████▎                              | 492/798 [35:36<23:25,  4.59s/it]"
     ]
    },
    {
     "name": "stdout",
     "output_type": "stream",
     "text": [
      "`https://ingatlan.com/szeged/elado+haz/csaladi-haz/csongrad+megye+szeged+ustokos+utca/30088952` has some issues to provide advertiser details!\n"
     ]
    },
    {
     "name": "stderr",
     "output_type": "stream",
     "text": [
      "\r",
      " 62%|█████████████████████████████████████████████████▍                              | 493/798 [35:40<22:46,  4.48s/it]"
     ]
    },
    {
     "name": "stdout",
     "output_type": "stream",
     "text": [
      "`https://ingatlan.com/szeged-kiskundorozsma/elado+haz/hazresz/csongrad+megye+szeged+dorozsmai+ut/30085724` has some issues to provide advertiser details!\n"
     ]
    },
    {
     "name": "stderr",
     "output_type": "stream",
     "text": [
      " 62%|█████████████████████████████████████████████████▌                              | 495/798 [35:50<23:11,  4.59s/it]"
     ]
    },
    {
     "name": "stdout",
     "output_type": "stream",
     "text": [
      "`https://ingatlan.com/szeged-beketelep/elado+haz/csaladi-haz/csongrad+megye+szeged/30072347` has some issues to provide advertiser details!\n"
     ]
    },
    {
     "name": "stderr",
     "output_type": "stream",
     "text": [
      " 63%|██████████████████████████████████████████████████▎                             | 502/798 [36:22<22:48,  4.62s/it]"
     ]
    },
    {
     "name": "stdout",
     "output_type": "stream",
     "text": [
      "`https://ingatlan.com/szeged/elado+haz/csaladi-haz/csongrad+megye+szeged+zakany+utca/30059279` has some issues to provide advertiser details!\n"
     ]
    },
    {
     "name": "stderr",
     "output_type": "stream",
     "text": [
      "\r",
      " 63%|██████████████████████████████████████████████████▍                             | 503/798 [36:26<21:36,  4.39s/it]"
     ]
    },
    {
     "name": "stdout",
     "output_type": "stream",
     "text": [
      "`https://ingatlan.com/szeged-ujszeged/elado+haz/csaladi-haz/csongrad+megye+szeged/30054128` has some issues to provide advertiser details!\n"
     ]
    },
    {
     "name": "stderr",
     "output_type": "stream",
     "text": [
      " 63%|██████████████████████████████████████████████████▋                             | 506/798 [36:38<20:15,  4.16s/it]"
     ]
    },
    {
     "name": "stdout",
     "output_type": "stream",
     "text": [
      "`https://ingatlan.com/szeged/elado+haz/csaladi-haz/csongrad+megye+szeged+kulterulet+ii+tanya/30036677` has some issues to provide advertiser details!\n"
     ]
    },
    {
     "name": "stderr",
     "output_type": "stream",
     "text": [
      "\r",
      " 64%|██████████████████████████████████████████████████▊                             | 507/798 [36:42<20:27,  4.22s/it]"
     ]
    },
    {
     "name": "stdout",
     "output_type": "stream",
     "text": [
      "`https://ingatlan.com/szeged/elado+haz/ikerhaz/csongrad+megye+szeged+reizner+janos+utca/30022550` has some issues to provide advertiser details!\n"
     ]
    },
    {
     "name": "stderr",
     "output_type": "stream",
     "text": [
      " 64%|███████████████████████████████████████████████████                             | 509/798 [36:51<21:31,  4.47s/it]"
     ]
    },
    {
     "name": "stdout",
     "output_type": "stream",
     "text": [
      "`https://ingatlan.com/szeged-szoreg/elado+haz/csaladi-haz/csongrad+megye+szeged+magyar+utca/30011771` has some issues to provide advertiser details!\n"
     ]
    },
    {
     "name": "stderr",
     "output_type": "stream",
     "text": [
      "\r",
      " 64%|███████████████████████████████████████████████████▏                            | 510/798 [36:56<21:43,  4.53s/it]"
     ]
    },
    {
     "name": "stdout",
     "output_type": "stream",
     "text": [
      "`https://ingatlan.com/szeged/elado+haz/csaladi-haz/csongrad+megye+szeged+berkert+utca/30003359` has some issues to provide advertiser details!\n"
     ]
    },
    {
     "name": "stderr",
     "output_type": "stream",
     "text": [
      " 64%|███████████████████████████████████████████████████▎                            | 512/798 [37:05<21:03,  4.42s/it]"
     ]
    },
    {
     "name": "stdout",
     "output_type": "stream",
     "text": [
      "`https://ingatlan.com/szeged/elado+haz/csaladi-haz/csongrad+megye+szeged+hetenyi+geza+utca/29997410` has some issues to provide advertiser details!\n"
     ]
    },
    {
     "name": "stderr",
     "output_type": "stream",
     "text": [
      " 65%|███████████████████████████████████████████████████▋                            | 515/798 [37:18<21:10,  4.49s/it]"
     ]
    },
    {
     "name": "stdout",
     "output_type": "stream",
     "text": [
      "`https://ingatlan.com/szeged-kiskundorozsma/elado+haz/csaladi-haz/csongrad+megye+szeged+vadliba+utca/29970113` has some issues to provide advertiser details!\n"
     ]
    },
    {
     "name": "stderr",
     "output_type": "stream",
     "text": [
      "\r",
      " 65%|███████████████████████████████████████████████████▋                            | 516/798 [37:23<21:03,  4.48s/it]"
     ]
    },
    {
     "name": "stdout",
     "output_type": "stream",
     "text": [
      "`https://ingatlan.com/szeged-tape/elado+haz/csaladi-haz/csongrad+megye+szeged+kankalin+utca/29968808` has some issues to provide advertiser details!\n"
     ]
    },
    {
     "name": "stderr",
     "output_type": "stream",
     "text": [
      " 65%|████████████████████████████████████████████████████▎                           | 522/798 [37:48<19:05,  4.15s/it]"
     ]
    },
    {
     "name": "stdout",
     "output_type": "stream",
     "text": [
      "`https://ingatlan.com/szeged/elado+haz/csaladi-haz/csongrad+megye+szeged+asztalos+utca/29944340` has some issues to provide advertiser details!\n"
     ]
    },
    {
     "name": "stderr",
     "output_type": "stream",
     "text": [
      " 66%|████████████████████████████████████████████████████▌                           | 524/798 [37:57<19:55,  4.36s/it]"
     ]
    },
    {
     "name": "stdout",
     "output_type": "stream",
     "text": [
      "`https://ingatlan.com/szeged-ujszeged/elado+haz/sorhaz/csongrad+megye+szeged/29941040` has some issues to provide advertiser details!\n"
     ]
    },
    {
     "name": "stderr",
     "output_type": "stream",
     "text": [
      "\r",
      " 66%|████████████████████████████████████████████████████▋                           | 525/798 [38:00<19:08,  4.21s/it]"
     ]
    },
    {
     "name": "stdout",
     "output_type": "stream",
     "text": [
      "`https://ingatlan.com/szeged-ujszeged/elado+haz/sorhaz/csongrad+megye+szeged/29941037` has some issues to provide advertiser details!\n"
     ]
    },
    {
     "name": "stderr",
     "output_type": "stream",
     "text": [
      " 66%|████████████████████████████████████████████████████▉                           | 528/798 [38:13<19:05,  4.24s/it]"
     ]
    },
    {
     "name": "stdout",
     "output_type": "stream",
     "text": [
      "`https://ingatlan.com/szeged-fodorkert/elado+haz/csaladi-haz/csongrad+megye+szeged/29928437` has some issues to provide advertiser details!\n"
     ]
    },
    {
     "name": "stderr",
     "output_type": "stream",
     "text": [
      "\r",
      " 66%|█████████████████████████████████████████████████████                           | 529/798 [38:17<18:51,  4.21s/it]"
     ]
    },
    {
     "name": "stdout",
     "output_type": "stream",
     "text": [
      "`https://ingatlan.com/szeged-ujszeged/elado+haz/csaladi-haz/csongrad+megye+szeged/29911913` has some issues to provide advertiser details!\n"
     ]
    },
    {
     "name": "stderr",
     "output_type": "stream",
     "text": [
      " 67%|█████████████████████████████████████████████████████▎                          | 532/798 [38:29<18:06,  4.08s/it]"
     ]
    },
    {
     "name": "stdout",
     "output_type": "stream",
     "text": [
      "`https://ingatlan.com/szeged/elado+haz/csaladi-haz/csongrad+megye+szeged+dorozsmai+ut/29877629` has some issues to provide advertiser details!\n"
     ]
    },
    {
     "name": "stderr",
     "output_type": "stream",
     "text": [
      " 67%|█████████████████████████████████████████████████████▋                          | 536/798 [38:47<18:54,  4.33s/it]"
     ]
    },
    {
     "name": "stdout",
     "output_type": "stream",
     "text": [
      "`https://ingatlan.com/szeged-gyalaret/elado+haz/ikerhaz/csongrad+megye+szeged/29821859` has some issues to provide advertiser details!\n"
     ]
    },
    {
     "name": "stderr",
     "output_type": "stream",
     "text": [
      " 68%|██████████████████████████████████████████████████████                          | 539/798 [38:59<17:44,  4.11s/it]"
     ]
    },
    {
     "name": "stdout",
     "output_type": "stream",
     "text": [
      "`https://ingatlan.com/szeged-dorozsma/elado+haz/csaladi-haz/csongrad+megye+szeged/29796314` has some issues to provide advertiser details!\n"
     ]
    },
    {
     "name": "stderr",
     "output_type": "stream",
     "text": [
      " 68%|██████████████████████████████████████████████████████▏                         | 541/798 [39:07<17:39,  4.12s/it]"
     ]
    },
    {
     "name": "stdout",
     "output_type": "stream",
     "text": [
      "`https://ingatlan.com/szeged-moravaros/elado+haz/csaladi-haz/csongrad+megye+szeged/29780975` has some issues to provide advertiser details!\n"
     ]
    },
    {
     "name": "stderr",
     "output_type": "stream",
     "text": [
      " 68%|██████████████████████████████████████████████████████▍                         | 543/798 [39:16<17:36,  4.14s/it]"
     ]
    },
    {
     "name": "stdout",
     "output_type": "stream",
     "text": [
      "`https://ingatlan.com/szeged-szoreg/elado+haz/csaladi-haz/csongrad+megye+szeged+hosok+tere/29776904` has some issues to provide advertiser details!\n"
     ]
    },
    {
     "name": "stderr",
     "output_type": "stream",
     "text": [
      " 68%|██████████████████████████████████████████████████████▋                         | 546/798 [39:28<16:59,  4.05s/it]"
     ]
    },
    {
     "name": "stdout",
     "output_type": "stream",
     "text": [
      "`https://ingatlan.com/szeged-kiskundorozsma/elado+haz/hazresz/csongrad+megye+szeged/29773616` has some issues to provide advertiser details!\n"
     ]
    },
    {
     "name": "stderr",
     "output_type": "stream",
     "text": [
      "\r",
      " 69%|██████████████████████████████████████████████████████▊                         | 547/798 [39:32<17:26,  4.17s/it]"
     ]
    },
    {
     "name": "stdout",
     "output_type": "stream",
     "text": [
      "`https://ingatlan.com/szeged-gyalaret/elado+haz/csaladi-haz/csongrad+megye+szeged+ludvari+ut/29760107` has some issues to provide advertiser details!\n"
     ]
    },
    {
     "name": "stderr",
     "output_type": "stream",
     "text": [
      " 69%|███████████████████████████████████████████████████████                         | 549/798 [39:40<17:18,  4.17s/it]"
     ]
    },
    {
     "name": "stdout",
     "output_type": "stream",
     "text": [
      "Could not click on phone number\n",
      "`https://ingatlan.com/szeged-ujszeged/elado+haz/ikerhaz/csongrad+megye+szeged/29758613` has some issues to provide advertiser details!\n"
     ]
    },
    {
     "name": "stderr",
     "output_type": "stream",
     "text": [
      " 69%|███████████████████████████████████████████████████████▏                        | 551/798 [39:49<17:27,  4.24s/it]"
     ]
    },
    {
     "name": "stdout",
     "output_type": "stream",
     "text": [
      "`https://ingatlan.com/szeged/elado+haz/csaladi-haz/csongrad+megye+szeged/29741621` has some issues to provide advertiser details!\n"
     ]
    },
    {
     "name": "stderr",
     "output_type": "stream",
     "text": [
      "\r",
      " 69%|███████████████████████████████████████████████████████▎                        | 552/798 [39:53<17:05,  4.17s/it]"
     ]
    },
    {
     "name": "stdout",
     "output_type": "stream",
     "text": [
      "`https://ingatlan.com/szeged-bakto/elado+haz/ikerhaz/csongrad+megye+szeged/29741102` has some issues to provide advertiser details!\n"
     ]
    },
    {
     "name": "stderr",
     "output_type": "stream",
     "text": [
      " 70%|███████████████████████████████████████████████████████▋                        | 555/798 [40:05<16:26,  4.06s/it]"
     ]
    },
    {
     "name": "stdout",
     "output_type": "stream",
     "text": [
      "`https://ingatlan.com/szeged/elado+haz/csaladi-haz/csongrad+megye+szeged+pasztor+utca/29713295` has some issues to provide advertiser details!\n"
     ]
    },
    {
     "name": "stderr",
     "output_type": "stream",
     "text": [
      "\r",
      " 70%|███████████████████████████████████████████████████████▋                        | 556/798 [40:09<16:55,  4.20s/it]"
     ]
    },
    {
     "name": "stdout",
     "output_type": "stream",
     "text": [
      "`https://ingatlan.com/szeged/elado+haz/ikerhaz/csongrad+megye+szeged+papai+utca/29712497` has some issues to provide advertiser details!\n"
     ]
    },
    {
     "name": "stderr",
     "output_type": "stream",
     "text": [
      "\r",
      " 70%|███████████████████████████████████████████████████████▊                        | 557/798 [40:13<16:32,  4.12s/it]"
     ]
    },
    {
     "name": "stdout",
     "output_type": "stream",
     "text": [
      "`https://ingatlan.com/szeged-bakto/elado+haz/ikerhaz/csongrad+megye+szeged/29710730` has some issues to provide advertiser details!\n"
     ]
    },
    {
     "name": "stderr",
     "output_type": "stream",
     "text": [
      " 70%|████████████████████████████████████████████████████████▎                       | 562/798 [40:34<15:59,  4.07s/it]"
     ]
    },
    {
     "name": "stdout",
     "output_type": "stream",
     "text": [
      "`https://ingatlan.com/szeged-petofitelep/elado+haz/csaladi-haz/csongrad+megye+szeged/29680628` has some issues to provide advertiser details!\n"
     ]
    },
    {
     "name": "stderr",
     "output_type": "stream",
     "text": [
      "\r",
      " 71%|████████████████████████████████████████████████████████▍                       | 563/798 [40:38<15:43,  4.01s/it]"
     ]
    },
    {
     "name": "stdout",
     "output_type": "stream",
     "text": [
      "`https://ingatlan.com/szeged-szentmihaly/elado+haz/csaladi-haz/csongrad+megye+szeged+erdei+ferenc+utca/29667557` has some issues to provide advertiser details!\n"
     ]
    },
    {
     "name": "stderr",
     "output_type": "stream",
     "text": [
      " 71%|████████████████████████████████████████████████████████▋                       | 565/798 [40:46<15:48,  4.07s/it]"
     ]
    },
    {
     "name": "stdout",
     "output_type": "stream",
     "text": [
      "`https://ingatlan.com/szeged/elado+haz/csaladi-haz/csongrad+megye+szeged+paprika+utca/29663213` has some issues to provide advertiser details!\n"
     ]
    },
    {
     "name": "stderr",
     "output_type": "stream",
     "text": [
      "\r",
      " 71%|████████████████████████████████████████████████████████▋                       | 566/798 [40:50<15:31,  4.01s/it]"
     ]
    },
    {
     "name": "stdout",
     "output_type": "stream",
     "text": [
      "`https://ingatlan.com/szeged/elado+haz/ikerhaz/csongrad+megye+szeged+vellay+imre+utca/29659088` has some issues to provide advertiser details!\n"
     ]
    },
    {
     "name": "stderr",
     "output_type": "stream",
     "text": [
      "\r",
      " 71%|████████████████████████████████████████████████████████▊                       | 567/798 [40:54<15:27,  4.01s/it]"
     ]
    },
    {
     "name": "stdout",
     "output_type": "stream",
     "text": [
      "`https://ingatlan.com/szeged/elado+haz/csaladi-haz/csongrad+megye+szeged/29645429` has some issues to provide advertiser details!\n"
     ]
    },
    {
     "name": "stderr",
     "output_type": "stream",
     "text": [
      "\r",
      " 71%|████████████████████████████████████████████████████████▉                       | 568/798 [40:58<15:48,  4.12s/it]"
     ]
    },
    {
     "name": "stdout",
     "output_type": "stream",
     "text": [
      "`https://ingatlan.com/szeged-gyalaret/elado+haz/csaladi-haz/csongrad+megye+szeged+zatony+utca/29642978` has some issues to provide advertiser details!\n"
     ]
    },
    {
     "name": "stderr",
     "output_type": "stream",
     "text": [
      "\r",
      " 71%|█████████████████████████████████████████████████████████                       | 569/798 [41:02<15:36,  4.09s/it]"
     ]
    },
    {
     "name": "stdout",
     "output_type": "stream",
     "text": [
      "`https://ingatlan.com/szeged-tape/elado+haz/csaladi-haz/csongrad+megye+szeged/29629619` has some issues to provide advertiser details!\n"
     ]
    },
    {
     "name": "stderr",
     "output_type": "stream",
     "text": [
      " 72%|█████████████████████████████████████████████████████████▏                      | 571/798 [41:11<15:50,  4.19s/it]"
     ]
    },
    {
     "name": "stdout",
     "output_type": "stream",
     "text": [
      "`https://ingatlan.com/szeged-tape/elado+haz/csaladi-haz/csongrad+megye+szeged+beszterce+utca/29600669` has some issues to provide advertiser details!\n"
     ]
    },
    {
     "name": "stderr",
     "output_type": "stream",
     "text": [
      " 72%|█████████████████████████████████████████████████████████▌                      | 574/798 [41:22<14:56,  4.00s/it]"
     ]
    },
    {
     "name": "stdout",
     "output_type": "stream",
     "text": [
      "`https://ingatlan.com/szeged/elado+haz/sorhaz/csongrad+megye+szeged/29590121` has some issues to provide advertiser details!\n"
     ]
    },
    {
     "name": "stderr",
     "output_type": "stream",
     "text": [
      "\r",
      " 72%|█████████████████████████████████████████████████████████▋                      | 575/798 [41:26<14:43,  3.96s/it]"
     ]
    },
    {
     "name": "stdout",
     "output_type": "stream",
     "text": [
      "`https://ingatlan.com/szeged-sziksos/elado+haz/csaladi-haz/csongrad+megye+szeged/29585048` has some issues to provide advertiser details!\n"
     ]
    },
    {
     "name": "stderr",
     "output_type": "stream",
     "text": [
      "\r",
      " 72%|█████████████████████████████████████████████████████████▋                      | 576/798 [41:30<14:46,  3.99s/it]"
     ]
    },
    {
     "name": "stdout",
     "output_type": "stream",
     "text": [
      "`https://ingatlan.com/szeged-subasa/elado+haz/csaladi-haz/csongrad+megye+szeged+kakukkfu+utca/29562326` has some issues to provide advertiser details!\n"
     ]
    },
    {
     "name": "stderr",
     "output_type": "stream",
     "text": [
      "\r",
      " 72%|█████████████████████████████████████████████████████████▊                      | 577/798 [41:34<14:48,  4.02s/it]"
     ]
    },
    {
     "name": "stdout",
     "output_type": "stream",
     "text": [
      "`https://ingatlan.com/szeged-ujszeged/elado+haz/csaladi-haz/csongrad+megye+szeged/29558222` has some issues to provide advertiser details!\n"
     ]
    },
    {
     "name": "stderr",
     "output_type": "stream",
     "text": [
      " 73%|██████████████████████████████████████████████████████████                      | 579/798 [41:43<15:00,  4.11s/it]"
     ]
    },
    {
     "name": "stdout",
     "output_type": "stream",
     "text": [
      "`https://ingatlan.com/szeged-gyalaret/elado+haz/csaladi-haz/csongrad+megye+szeged/29541578` has some issues to provide advertiser details!\n"
     ]
    },
    {
     "name": "stderr",
     "output_type": "stream",
     "text": [
      "\r",
      " 73%|██████████████████████████████████████████████████████████▏                     | 580/798 [41:47<15:10,  4.18s/it]"
     ]
    },
    {
     "name": "stdout",
     "output_type": "stream",
     "text": [
      "`https://ingatlan.com/szeged/elado+haz/csaladi-haz/csongrad+megye+szeged+mokrini+utca/29537729` has some issues to provide advertiser details!\n"
     ]
    },
    {
     "name": "stderr",
     "output_type": "stream",
     "text": [
      " 73%|██████████████████████████████████████████████████████████▌                     | 584/798 [42:05<15:51,  4.45s/it]"
     ]
    },
    {
     "name": "stdout",
     "output_type": "stream",
     "text": [
      "`https://ingatlan.com/szeged-moravaros/elado+haz/csaladi-haz/csongrad+megye+szeged/29517077` has some issues to provide advertiser details!\n"
     ]
    },
    {
     "name": "stderr",
     "output_type": "stream",
     "text": [
      "\r",
      " 73%|██████████████████████████████████████████████████████████▋                     | 585/798 [42:09<15:28,  4.36s/it]"
     ]
    },
    {
     "name": "stdout",
     "output_type": "stream",
     "text": [
      "`https://ingatlan.com/szeged/elado+haz/ikerhaz/csongrad+megye+szeged/29509520` has some issues to provide advertiser details!\n"
     ]
    },
    {
     "name": "stderr",
     "output_type": "stream",
     "text": [
      "\r",
      " 73%|██████████████████████████████████████████████████████████▋                     | 586/798 [42:13<15:05,  4.27s/it]"
     ]
    },
    {
     "name": "stdout",
     "output_type": "stream",
     "text": [
      "`https://ingatlan.com/szeged/elado+haz/csaladi-haz/csongrad+megye+szeged+to+utca/29507078` has some issues to provide advertiser details!\n"
     ]
    },
    {
     "name": "stderr",
     "output_type": "stream",
     "text": [
      "\r",
      " 74%|██████████████████████████████████████████████████████████▊                     | 587/798 [42:18<15:31,  4.41s/it]"
     ]
    },
    {
     "name": "stdout",
     "output_type": "stream",
     "text": [
      "`https://ingatlan.com/szeged/elado+haz/csaladi-haz/csongrad+megye+szeged+gomba+utca/29504465` has some issues to provide advertiser details!\n"
     ]
    },
    {
     "name": "stderr",
     "output_type": "stream",
     "text": [
      " 74%|███████████████████████████████████████████████████████████▏                    | 590/798 [42:31<15:29,  4.47s/it]"
     ]
    },
    {
     "name": "stdout",
     "output_type": "stream",
     "text": [
      "`https://ingatlan.com/szeged-ujszeged/elado+haz/ikerhaz/csongrad+megye+szeged/29498831` has some issues to provide advertiser details!\n"
     ]
    },
    {
     "name": "stderr",
     "output_type": "stream",
     "text": [
      " 75%|███████████████████████████████████████████████████████████▋                    | 595/798 [42:52<13:56,  4.12s/it]"
     ]
    },
    {
     "name": "stdout",
     "output_type": "stream",
     "text": [
      "`https://ingatlan.com/szeged-tape/elado+haz/tanya/csongrad+megye+szeged/29454356` has some issues to provide advertiser details!\n"
     ]
    },
    {
     "name": "stderr",
     "output_type": "stream",
     "text": [
      " 75%|███████████████████████████████████████████████████████████▉                    | 598/798 [43:05<14:09,  4.25s/it]"
     ]
    },
    {
     "name": "stdout",
     "output_type": "stream",
     "text": [
      "`https://ingatlan.com/szeged/elado+haz/csaladi-haz/csongrad+megye+szeged+csallokozi+utca/29424266` has some issues to provide advertiser details!\n"
     ]
    },
    {
     "name": "stderr",
     "output_type": "stream",
     "text": [
      " 76%|████████████████████████████████████████████████████████████▍                   | 603/798 [43:25<13:39,  4.20s/it]"
     ]
    },
    {
     "name": "stdout",
     "output_type": "stream",
     "text": [
      "`https://ingatlan.com/szeged-bakto/elado+haz/csaladi-haz/csongrad+megye+szeged/29388698` has some issues to provide advertiser details!\n"
     ]
    },
    {
     "name": "stderr",
     "output_type": "stream",
     "text": [
      " 76%|████████████████████████████████████████████████████████████▉                   | 608/798 [43:46<13:16,  4.19s/it]"
     ]
    },
    {
     "name": "stdout",
     "output_type": "stream",
     "text": [
      "`https://ingatlan.com/szeged/elado+haz/csaladi-haz/csongrad+megye+szeged+alkotmany+utca/29365334` has some issues to provide advertiser details!\n"
     ]
    },
    {
     "name": "stderr",
     "output_type": "stream",
     "text": [
      " 76%|█████████████████████████████████████████████████████████████▏                  | 610/798 [43:54<12:27,  3.98s/it]"
     ]
    },
    {
     "name": "stdout",
     "output_type": "stream",
     "text": [
      "`https://ingatlan.com/szeged-rokus/elado+haz/ikerhaz/csongrad+megye+szeged/29359049` has some issues to provide advertiser details!\n"
     ]
    },
    {
     "name": "stderr",
     "output_type": "stream",
     "text": [
      " 77%|█████████████████████████████████████████████████████████████▌                  | 614/798 [44:12<13:10,  4.29s/it]"
     ]
    },
    {
     "name": "stdout",
     "output_type": "stream",
     "text": [
      "`https://ingatlan.com/szeged/elado+haz/csaladi-haz/csongrad+megye+szeged+erdelyi+ter/29342339` has some issues to provide the `map-holder` css element!\n",
      "`https://ingatlan.com/szeged/elado+haz/csaladi-haz/csongrad+megye+szeged+erdelyi+ter/29342339` has some issues to provide coordinates!\n",
      "Could not click on phone number\n",
      "`https://ingatlan.com/szeged/elado+haz/csaladi-haz/csongrad+megye+szeged+erdelyi+ter/29342339` has some issues to provide advertiser details!\n"
     ]
    },
    {
     "name": "stderr",
     "output_type": "stream",
     "text": [
      " 77%|█████████████████████████████████████████████████████████████▊                  | 616/798 [44:17<11:11,  3.69s/it]"
     ]
    },
    {
     "name": "stdout",
     "output_type": "stream",
     "text": [
      "`https://ingatlan.com/szeged-sziksos/elado+haz/csaladi-haz/csongrad+megye+szeged/29338001` has some issues to provide advertiser details!\n"
     ]
    },
    {
     "name": "stderr",
     "output_type": "stream",
     "text": [
      " 78%|██████████████████████████████████████████████████████████████▍                 | 623/798 [44:46<12:06,  4.15s/it]"
     ]
    },
    {
     "name": "stdout",
     "output_type": "stream",
     "text": [
      "`https://ingatlan.com/szeged-alsovaros/elado+haz/csaladi-haz/csongrad+megye+szeged/29282708` has some issues to provide advertiser details!\n"
     ]
    },
    {
     "name": "stderr",
     "output_type": "stream",
     "text": [
      "\r",
      " 78%|██████████████████████████████████████████████████████████████▌                 | 624/798 [44:50<11:45,  4.05s/it]"
     ]
    },
    {
     "name": "stdout",
     "output_type": "stream",
     "text": [
      "`https://ingatlan.com/szeged-felsovaros/elado+haz/csaladi-haz/csongrad+megye+szeged/29264174` has some issues to provide advertiser details!\n"
     ]
    },
    {
     "name": "stderr",
     "output_type": "stream",
     "text": [
      " 79%|███████████████████████████████████████████████████████████████▎                | 631/798 [45:18<11:16,  4.05s/it]"
     ]
    },
    {
     "name": "stdout",
     "output_type": "stream",
     "text": [
      "`https://ingatlan.com/szeged-rokus/elado+haz/csaladi-haz/csongrad+megye+szeged/29204213` has some issues to provide advertiser details!\n"
     ]
    },
    {
     "name": "stderr",
     "output_type": "stream",
     "text": [
      " 79%|███████████████████████████████████████████████████████████████▍                | 633/798 [45:27<11:26,  4.16s/it]"
     ]
    },
    {
     "name": "stdout",
     "output_type": "stream",
     "text": [
      "`https://ingatlan.com/szeged-ujszeged/elado+haz/csaladi-haz/csongrad+megye+szeged/29202782` has some issues to provide advertiser details!\n"
     ]
    },
    {
     "name": "stderr",
     "output_type": "stream",
     "text": [
      " 80%|███████████████████████████████████████████████████████████████▊                | 636/798 [45:40<11:19,  4.19s/it]"
     ]
    },
    {
     "name": "stdout",
     "output_type": "stream",
     "text": [
      "`https://ingatlan.com/szeged/elado+haz/csaladi-haz/csongrad+megye+szeged+gabor+aron+utca+15/29174765` has some issues to provide advertiser details!\n"
     ]
    },
    {
     "name": "stderr",
     "output_type": "stream",
     "text": [
      " 81%|████████████████████████████████████████████████████████████████▍               | 643/798 [46:09<10:50,  4.20s/it]"
     ]
    },
    {
     "name": "stdout",
     "output_type": "stream",
     "text": [
      "`https://ingatlan.com/szeged/elado+haz/sorhaz/csongrad+megye+szeged+araszt+utca/29105813` has some issues to provide advertiser details!\n"
     ]
    },
    {
     "name": "stderr",
     "output_type": "stream",
     "text": [
      " 82%|█████████████████████████████████████████████████████████████████▋              | 655/798 [47:01<11:25,  4.79s/it]"
     ]
    },
    {
     "name": "stdout",
     "output_type": "stream",
     "text": [
      "`https://ingatlan.com/szeged-szentmihaly/elado+haz/csaladi-haz/csongrad+megye+szeged/28949051` has some issues to provide advertiser details!\n"
     ]
    },
    {
     "name": "stderr",
     "output_type": "stream",
     "text": [
      "\r",
      " 82%|█████████████████████████████████████████████████████████████████▊              | 656/798 [47:05<10:42,  4.53s/it]"
     ]
    },
    {
     "name": "stdout",
     "output_type": "stream",
     "text": [
      "`https://ingatlan.com/szeged/elado+haz/ikerhaz/csongrad+megye+szeged+szogi+jozsef+utca/28948307` has some issues to provide advertiser details!\n"
     ]
    },
    {
     "name": "stderr",
     "output_type": "stream",
     "text": [
      " 83%|██████████████████████████████████████████████████████████████████              | 659/798 [47:17<10:03,  4.34s/it]"
     ]
    },
    {
     "name": "stdout",
     "output_type": "stream",
     "text": [
      "`https://ingatlan.com/szeged/elado+haz/csaladi-haz/csongrad+megye+szeged+thokoly+utca/28825823` has some issues to provide advertiser details!\n"
     ]
    },
    {
     "name": "stderr",
     "output_type": "stream",
     "text": [
      " 83%|██████████████████████████████████████████████████████████████████▊             | 666/798 [47:46<09:07,  4.15s/it]"
     ]
    },
    {
     "name": "stdout",
     "output_type": "stream",
     "text": [
      "`https://ingatlan.com/szeged/elado+haz/ikerhaz/csongrad+megye+szeged+korosmezo+utca/28761062` has some issues to provide advertiser details!\n"
     ]
    },
    {
     "name": "stderr",
     "output_type": "stream",
     "text": [
      "\r",
      " 84%|██████████████████████████████████████████████████████████████████▊             | 667/798 [47:50<08:48,  4.03s/it]"
     ]
    },
    {
     "name": "stdout",
     "output_type": "stream",
     "text": [
      "`https://ingatlan.com/szeged-ujszeged/elado+haz/csaladi-haz/csongrad+megye+szeged/28757222` has some issues to provide advertiser details!\n"
     ]
    },
    {
     "name": "stderr",
     "output_type": "stream",
     "text": [
      "\r",
      " 84%|██████████████████████████████████████████████████████████████████▉             | 668/798 [47:54<09:01,  4.16s/it]"
     ]
    },
    {
     "name": "stdout",
     "output_type": "stream",
     "text": [
      "`https://ingatlan.com/szeged/elado+haz/csaladi-haz/csongrad+megye+szeged+petofi+sandor+sugarut+4/28752326` has some issues to provide advertiser details!\n"
     ]
    },
    {
     "name": "stderr",
     "output_type": "stream",
     "text": [
      " 84%|███████████████████████████████████████████████████████████████████▏            | 670/798 [48:02<08:34,  4.02s/it]"
     ]
    },
    {
     "name": "stdout",
     "output_type": "stream",
     "text": [
      "`https://ingatlan.com/szeged-bakto/elado+haz/csaladi-haz/csongrad+megye+szeged/28658522` has some issues to provide advertiser details!\n"
     ]
    },
    {
     "name": "stderr",
     "output_type": "stream",
     "text": [
      " 85%|███████████████████████████████████████████████████████████████████▊            | 676/798 [48:26<08:19,  4.09s/it]"
     ]
    },
    {
     "name": "stdout",
     "output_type": "stream",
     "text": [
      "`https://ingatlan.com/szeged-szoreg/elado+haz/csaladi-haz/csongrad+megye+szeged/28579796` has some issues to provide advertiser details!\n"
     ]
    },
    {
     "name": "stderr",
     "output_type": "stream",
     "text": [
      "\r",
      " 85%|███████████████████████████████████████████████████████████████████▊            | 677/798 [48:30<07:58,  3.95s/it]"
     ]
    },
    {
     "name": "stdout",
     "output_type": "stream",
     "text": [
      "`https://ingatlan.com/szeged/elado+haz/csaladi-haz/csongrad+megye+szeged+katona+jozsef+utca/28568231` has some issues to provide advertiser details!\n"
     ]
    },
    {
     "name": "stderr",
     "output_type": "stream",
     "text": [
      " 86%|████████████████████████████████████████████████████████████████████▊           | 686/798 [49:08<07:53,  4.23s/it]"
     ]
    },
    {
     "name": "stdout",
     "output_type": "stream",
     "text": [
      "`https://ingatlan.com/szeged/elado+haz/csaladi-haz/csongrad+megye+szeged+makai+ut/28250123` has some issues to provide advertiser details!\n"
     ]
    },
    {
     "name": "stderr",
     "output_type": "stream",
     "text": [
      " 86%|████████████████████████████████████████████████████████████████████▉           | 688/798 [49:16<07:57,  4.34s/it]"
     ]
    },
    {
     "name": "stdout",
     "output_type": "stream",
     "text": [
      "`https://ingatlan.com/szeged-kiskundorozsma/elado+haz/csaladi-haz/csongrad+megye+szeged/28222931` has some issues to provide advertiser details!\n"
     ]
    },
    {
     "name": "stderr",
     "output_type": "stream",
     "text": [
      "\r",
      " 86%|█████████████████████████████████████████████████████████████████████           | 689/798 [49:20<07:44,  4.26s/it]"
     ]
    },
    {
     "name": "stdout",
     "output_type": "stream",
     "text": [
      "`https://ingatlan.com/szeged-ujszeged/elado+haz/csaladi-haz/csongrad+megye+szeged/28144514` has some issues to provide advertiser details!\n"
     ]
    },
    {
     "name": "stderr",
     "output_type": "stream",
     "text": [
      " 87%|█████████████████████████████████████████████████████████████████████▋          | 695/798 [49:46<07:22,  4.29s/it]"
     ]
    },
    {
     "name": "stdout",
     "output_type": "stream",
     "text": [
      "`https://ingatlan.com/szeged-kiskundorozsma/elado+haz/csaladi-haz/csongrad+megye+szeged+valyogos+utca+32/28039157` has some issues to provide advertiser details!\n"
     ]
    },
    {
     "name": "stderr",
     "output_type": "stream",
     "text": [
      " 87%|█████████████████████████████████████████████████████████████████████▊          | 697/798 [49:53<06:47,  4.04s/it]"
     ]
    },
    {
     "name": "stdout",
     "output_type": "stream",
     "text": [
      "`https://ingatlan.com/szeged-rokus/elado+haz/ikerhaz/csongrad+megye+szeged/27978488` has some issues to provide advertiser details!\n"
     ]
    },
    {
     "name": "stderr",
     "output_type": "stream",
     "text": [
      " 88%|██████████████████████████████████████████████████████████████████████▍         | 702/798 [50:14<06:40,  4.17s/it]"
     ]
    },
    {
     "name": "stdout",
     "output_type": "stream",
     "text": [
      "`https://ingatlan.com/szeged/elado+haz/csaladi-haz/csongrad+megye+szeged+demeter+ferenc+utca/27873539` has some issues to provide advertiser details!\n"
     ]
    },
    {
     "name": "stderr",
     "output_type": "stream",
     "text": [
      "\r",
      " 88%|██████████████████████████████████████████████████████████████████████▍         | 703/798 [50:18<06:30,  4.11s/it]"
     ]
    },
    {
     "name": "stdout",
     "output_type": "stream",
     "text": [
      "`https://ingatlan.com/szeged-sziksos/elado+haz/csaladi-haz/csongrad+megye+szeged/27845753` has some issues to provide advertiser details!\n"
     ]
    },
    {
     "name": "stderr",
     "output_type": "stream",
     "text": [
      " 88%|██████████████████████████████████████████████████████████████████████▊         | 706/798 [50:30<06:22,  4.16s/it]"
     ]
    },
    {
     "name": "stdout",
     "output_type": "stream",
     "text": [
      "`https://ingatlan.com/szeged/elado+haz/csaladi-haz/csongrad+megye+szeged+diofa+utca+3c/27712538` has some issues to provide advertiser details!\n"
     ]
    },
    {
     "name": "stderr",
     "output_type": "stream",
     "text": [
      "\r",
      " 89%|██████████████████████████████████████████████████████████████████████▉         | 707/798 [50:34<06:18,  4.15s/it]"
     ]
    },
    {
     "name": "stdout",
     "output_type": "stream",
     "text": [
      "`https://ingatlan.com/szeged/elado+haz/ikerhaz/csongrad+megye+szeged+sipos+ivan+utca/27701969` has some issues to provide advertiser details!\n"
     ]
    },
    {
     "name": "stderr",
     "output_type": "stream",
     "text": [
      " 89%|███████████████████████████████████████████████████████████████████████▎        | 711/798 [50:50<05:47,  4.00s/it]"
     ]
    },
    {
     "name": "stdout",
     "output_type": "stream",
     "text": [
      "`https://ingatlan.com/szeged-belvaros/elado+haz/csaladi-haz/csongrad+megye+szeged/27473523` has some issues to provide advertiser details!\n"
     ]
    },
    {
     "name": "stderr",
     "output_type": "stream",
     "text": [
      " 89%|███████████████████████████████████████████████████████████████████████▌        | 714/798 [51:02<05:40,  4.05s/it]"
     ]
    },
    {
     "name": "stdout",
     "output_type": "stream",
     "text": [
      "`https://ingatlan.com/szeged-ujszeged/elado+haz/csaladi-haz/csongrad+megye+szeged/27375252` has some issues to provide advertiser details!\n"
     ]
    },
    {
     "name": "stderr",
     "output_type": "stream",
     "text": [
      " 90%|███████████████████████████████████████████████████████████████████████▉        | 718/798 [51:19<05:24,  4.06s/it]"
     ]
    },
    {
     "name": "stdout",
     "output_type": "stream",
     "text": [
      "`https://ingatlan.com/szeged-szoreg/elado+haz/csaladi-haz/csongrad+megye+szeged/27334470` has some issues to provide advertiser details!\n"
     ]
    },
    {
     "name": "stderr",
     "output_type": "stream",
     "text": [
      " 91%|████████████████████████████████████████████████████████████████████████▉       | 727/798 [51:57<05:18,  4.49s/it]"
     ]
    },
    {
     "name": "stdout",
     "output_type": "stream",
     "text": [
      "`https://ingatlan.com/szeged-ujszeged/elado+haz/ikerhaz/csongrad+megye+szeged/26752099` has some issues to provide advertiser details!\n"
     ]
    },
    {
     "name": "stderr",
     "output_type": "stream",
     "text": [
      "\r",
      " 91%|████████████████████████████████████████████████████████████████████████▉       | 728/798 [52:02<05:24,  4.63s/it]"
     ]
    },
    {
     "name": "stdout",
     "output_type": "stream",
     "text": [
      "`https://ingatlan.com/szeged/elado+haz/csaladi-haz/csongrad+megye+szeged+papai+utca/26740464` has some issues to provide advertiser details!\n"
     ]
    },
    {
     "name": "stderr",
     "output_type": "stream",
     "text": [
      "\r",
      " 91%|█████████████████████████████████████████████████████████████████████████       | 729/798 [52:06<05:16,  4.58s/it]"
     ]
    },
    {
     "name": "stdout",
     "output_type": "stream",
     "text": [
      "`https://ingatlan.com/szeged-petofitelep/elado+haz/csaladi-haz/csongrad+megye+szeged/26717174` has some issues to provide advertiser details!\n"
     ]
    },
    {
     "name": "stderr",
     "output_type": "stream",
     "text": [
      " 92%|█████████████████████████████████████████████████████████████████████████▊      | 736/798 [52:35<04:19,  4.18s/it]"
     ]
    },
    {
     "name": "stdout",
     "output_type": "stream",
     "text": [
      "`https://ingatlan.com/szeged/elado+haz/tanya/csongrad+megye+szeged/26376283` has some issues to provide advertiser details!\n"
     ]
    },
    {
     "name": "stderr",
     "output_type": "stream",
     "text": [
      " 93%|██████████████████████████████████████████████████████████████████████████▎     | 741/798 [52:57<04:15,  4.47s/it]"
     ]
    },
    {
     "name": "stdout",
     "output_type": "stream",
     "text": [
      "`https://ingatlan.com/szeged-ujszeged/elado+haz/sorhaz/csongrad+megye+szeged/26060116` has some issues to provide advertiser details!\n"
     ]
    },
    {
     "name": "stderr",
     "output_type": "stream",
     "text": [
      " 93%|██████████████████████████████████████████████████████████████████████████▊     | 746/798 [53:18<03:34,  4.12s/it]"
     ]
    },
    {
     "name": "stdout",
     "output_type": "stream",
     "text": [
      "`https://ingatlan.com/szeged-kiskundorozsma/elado+haz/tanya/csongrad+megye+szeged/25393717` has some issues to provide advertiser details!\n"
     ]
    },
    {
     "name": "stderr",
     "output_type": "stream",
     "text": [
      "\r",
      " 94%|██████████████████████████████████████████████████████████████████████████▉     | 747/798 [53:22<03:36,  4.25s/it]"
     ]
    },
    {
     "name": "stdout",
     "output_type": "stream",
     "text": [
      "`https://ingatlan.com/szeged-ujszeged/elado+haz/csaladi-haz/csongrad+megye+szeged/25098983` has some issues to provide advertiser details!\n"
     ]
    },
    {
     "name": "stderr",
     "output_type": "stream",
     "text": [
      " 94%|███████████████████████████████████████████████████████████████████████████▍    | 752/798 [53:44<03:19,  4.34s/it]"
     ]
    },
    {
     "name": "stdout",
     "output_type": "stream",
     "text": [
      "`https://ingatlan.com/szeged/elado+haz/csaladi-haz/csongrad+megye+szeged+tiszavirag+utca+1b/23725604` has some issues to provide advertiser details!\n"
     ]
    },
    {
     "name": "stderr",
     "output_type": "stream",
     "text": [
      " 95%|████████████████████████████████████████████████████████████████████████████▎   | 761/798 [54:23<02:44,  4.44s/it]"
     ]
    },
    {
     "name": "stdout",
     "output_type": "stream",
     "text": [
      "`https://ingatlan.com/szeged/elado+haz/tanya/csongrad+megye+szeged/22759300` has some issues to provide advertiser details!\n"
     ]
    },
    {
     "name": "stderr",
     "output_type": "stream",
     "text": [
      " 96%|████████████████████████████████████████████████████████████████████████████▋   | 765/798 [54:40<02:21,  4.30s/it]"
     ]
    },
    {
     "name": "stdout",
     "output_type": "stream",
     "text": [
      "`https://ingatlan.com/szeged/elado+haz/csaladi-haz/csongrad+megye+szeged+thokoly+utca/22576082` has some issues to provide advertiser details!\n"
     ]
    },
    {
     "name": "stderr",
     "output_type": "stream",
     "text": [
      " 97%|█████████████████████████████████████████████████████████████████████████████▍  | 772/798 [55:10<01:55,  4.44s/it]"
     ]
    },
    {
     "name": "stdout",
     "output_type": "stream",
     "text": [
      "`https://ingatlan.com/szeged/elado+haz/csaladi-haz/csongrad+megye+szeged+bank+ban+utca/21002114` has some issues to provide advertiser details!\n"
     ]
    },
    {
     "name": "stderr",
     "output_type": "stream",
     "text": [
      "\r",
      " 97%|█████████████████████████████████████████████████████████████████████████████▍  | 773/798 [55:14<01:47,  4.31s/it]"
     ]
    },
    {
     "name": "stdout",
     "output_type": "stream",
     "text": [
      "`https://ingatlan.com/szeged/elado+haz/csaladi-haz/csongrad+megye+szeged+veres+acs+utca+25/20790303` has some issues to provide advertiser details!\n"
     ]
    },
    {
     "name": "stderr",
     "output_type": "stream",
     "text": [
      " 97%|█████████████████████████████████████████████████████████████████████████████▊  | 776/798 [55:28<01:34,  4.29s/it]"
     ]
    },
    {
     "name": "stdout",
     "output_type": "stream",
     "text": [
      "`https://ingatlan.com/szeged/elado+haz/csaladi-haz/csongrad+megye+szeged+szucs+utca/7068595` has some issues to provide advertiser details!\n"
     ]
    },
    {
     "name": "stderr",
     "output_type": "stream",
     "text": [
      "\r",
      " 97%|█████████████████████████████████████████████████████████████████████████████▉  | 777/798 [55:32<01:29,  4.24s/it]"
     ]
    },
    {
     "name": "stdout",
     "output_type": "stream",
     "text": [
      "`https://ingatlan.com/szeged-felsovaros/elado+haz/csaladi-haz/csongrad+megye+szeged/6227002` has some issues to provide advertiser details!\n"
     ]
    },
    {
     "name": "stderr",
     "output_type": "stream",
     "text": [
      "\r",
      " 97%|█████████████████████████████████████████████████████████████████████████████▉  | 778/798 [55:36<01:23,  4.17s/it]"
     ]
    },
    {
     "name": "stdout",
     "output_type": "stream",
     "text": [
      "`https://ingatlan.com/szeged/elado+haz/csaladi-haz/csongrad+megye+szeged+francia+utca/23128248` has some issues to provide advertiser details!\n"
     ]
    },
    {
     "name": "stderr",
     "output_type": "stream",
     "text": [
      " 98%|██████████████████████████████████████████████████████████████████████████████▎ | 781/798 [55:50<01:19,  4.67s/it]"
     ]
    },
    {
     "name": "stdout",
     "output_type": "stream",
     "text": [
      "`https://ingatlan.com/szeged-tape/elado+haz/csaladi-haz/csongrad+megye+szeged+raba+utca+48/30949456` has some issues to provide advertiser details!\n"
     ]
    },
    {
     "name": "stderr",
     "output_type": "stream",
     "text": [
      "\r",
      " 98%|██████████████████████████████████████████████████████████████████████████████▍ | 782/798 [55:55<01:14,  4.67s/it]"
     ]
    },
    {
     "name": "stdout",
     "output_type": "stream",
     "text": [
      "`https://ingatlan.com/szeged-ujszeged/elado+haz/csaladi-haz/csongrad+megye+szeged/29677925` has some issues to provide advertiser details!\n"
     ]
    },
    {
     "name": "stderr",
     "output_type": "stream",
     "text": [
      "\r",
      " 98%|██████████████████████████████████████████████████████████████████████████████▍ | 783/798 [55:59<01:08,  4.57s/it]"
     ]
    },
    {
     "name": "stdout",
     "output_type": "stream",
     "text": [
      "`https://ingatlan.com/szeged/elado+haz/ikerhaz/csongrad+megye+szeged/30261587` has some issues to provide advertiser details!\n"
     ]
    },
    {
     "name": "stderr",
     "output_type": "stream",
     "text": [
      "\r",
      " 98%|██████████████████████████████████████████████████████████████████████████████▌ | 784/798 [56:04<01:03,  4.53s/it]"
     ]
    },
    {
     "name": "stdout",
     "output_type": "stream",
     "text": [
      "`https://ingatlan.com/szeged/elado+haz/csaladi-haz/csongrad+megye+szeged+tolgyfa+utca/30958201` has some issues to provide advertiser details!\n"
     ]
    },
    {
     "name": "stderr",
     "output_type": "stream",
     "text": [
      " 98%|██████████████████████████████████████████████████████████████████████████████▊ | 786/798 [56:13<00:53,  4.48s/it]"
     ]
    },
    {
     "name": "stdout",
     "output_type": "stream",
     "text": [
      "`https://ingatlan.com/szeged-ujszeged/elado+haz/sorhaz/csongrad+megye+szeged/28436405` has some issues to provide advertiser details!\n"
     ]
    },
    {
     "name": "stderr",
     "output_type": "stream",
     "text": [
      " 99%|██████████████████████████████████████████████████████████████████████████████▉ | 788/798 [56:22<00:45,  4.60s/it]"
     ]
    },
    {
     "name": "stdout",
     "output_type": "stream",
     "text": [
      "`https://ingatlan.com/szeged/elado+haz/csaladi-haz/csongrad+megye+szeged+regi+posta+ut/30810253` has some issues to provide advertiser details!\n"
     ]
    },
    {
     "name": "stderr",
     "output_type": "stream",
     "text": [
      "\r",
      " 99%|███████████████████████████████████████████████████████████████████████████████ | 789/798 [56:26<00:39,  4.38s/it]"
     ]
    },
    {
     "name": "stdout",
     "output_type": "stream",
     "text": [
      "`https://ingatlan.com/szeged/elado+haz/ikerhaz/csongrad+megye+szeged+boda+domokos+utca/30567241` has some issues to provide advertiser details!\n"
     ]
    },
    {
     "name": "stderr",
     "output_type": "stream",
     "text": [
      " 99%|███████████████████████████████████████████████████████████████████████████████▍| 793/798 [56:44<00:22,  4.56s/it]"
     ]
    },
    {
     "name": "stdout",
     "output_type": "stream",
     "text": [
      "`https://ingatlan.com/szeged/elado+haz/csaladi-haz/csongrad+megye+szeged+makai+ut/30917089` has some issues to provide advertiser details!\n"
     ]
    },
    {
     "name": "stderr",
     "output_type": "stream",
     "text": [
      "\r",
      " 99%|███████████████████████████████████████████████████████████████████████████████▌| 794/798 [56:49<00:17,  4.46s/it]"
     ]
    },
    {
     "name": "stdout",
     "output_type": "stream",
     "text": [
      "`https://ingatlan.com/szeged/elado+haz/csaladi-haz/csongrad+megye+szeged+adai+utca/30916459` has some issues to provide advertiser details!\n"
     ]
    },
    {
     "name": "stderr",
     "output_type": "stream",
     "text": [
      "\r",
      "100%|███████████████████████████████████████████████████████████████████████████████▋| 795/798 [56:53<00:13,  4.45s/it]"
     ]
    },
    {
     "name": "stdout",
     "output_type": "stream",
     "text": [
      "`https://ingatlan.com/szeged/elado+haz/sorhaz/csongrad+megye+szeged+harsfa+utca/30916315` has some issues to provide advertiser details!\n"
     ]
    },
    {
     "name": "stderr",
     "output_type": "stream",
     "text": [
      "\r",
      "100%|███████████████████████████████████████████████████████████████████████████████▊| 796/798 [56:57<00:08,  4.31s/it]"
     ]
    },
    {
     "name": "stdout",
     "output_type": "stream",
     "text": [
      "`https://ingatlan.com/szeged/elado+haz/sorhaz/csongrad+megye+szeged+mozdony+utca/30907279` has some issues to provide advertiser details!\n"
     ]
    },
    {
     "name": "stderr",
     "output_type": "stream",
     "text": [
      "\r",
      "100%|███████████████████████████████████████████████████████████████████████████████▉| 797/798 [57:01<00:04,  4.18s/it]"
     ]
    },
    {
     "name": "stdout",
     "output_type": "stream",
     "text": [
      "`https://ingatlan.com/szeged-szoreg/elado+haz/csaladi-haz/csongrad+megye+szeged+kisszolo+utca/30893821` has some issues to provide advertiser details!\n"
     ]
    },
    {
     "name": "stderr",
     "output_type": "stream",
     "text": [
      "100%|████████████████████████████████████████████████████████████████████████████████| 798/798 [57:05<00:00,  4.17s/it]\n",
      "0it [00:00, ?it/s]\n",
      "100%|██████████████████████████████████████████████████████████████████████████████████| 19/19 [01:03<00:00,  3.37s/it]\n",
      "  5%|████▎                                                                              | 1/19 [00:07<02:19,  7.77s/it]"
     ]
    },
    {
     "name": "stdout",
     "output_type": "stream",
     "text": [
      "`https://ingatlan.com/algyo/elado+haz/csaladi-haz/csongrad+megye+algyo/30906706` has some issues to provide advertiser details!\n"
     ]
    },
    {
     "name": "stderr",
     "output_type": "stream",
     "text": [
      " 16%|█████████████                                                                      | 3/19 [00:16<01:37,  6.06s/it]"
     ]
    },
    {
     "name": "stdout",
     "output_type": "stream",
     "text": [
      "`https://ingatlan.com/algyo/elado+haz/csaladi-haz/csongrad+megye+algyo/30981658` has some issues to provide advertiser details!\n"
     ]
    },
    {
     "name": "stderr",
     "output_type": "stream",
     "text": [
      " 26%|█████████████████████▊                                                             | 5/19 [00:25<01:12,  5.19s/it]"
     ]
    },
    {
     "name": "stdout",
     "output_type": "stream",
     "text": [
      "`https://ingatlan.com/algyo/elado+haz/csaladi-haz/csongrad+megye+algyo/30153023` has some issues to provide advertiser details!\n"
     ]
    },
    {
     "name": "stderr",
     "output_type": "stream",
     "text": [
      "\r",
      " 32%|██████████████████████████▏                                                        | 6/19 [00:31<01:10,  5.40s/it]"
     ]
    },
    {
     "name": "stdout",
     "output_type": "stream",
     "text": [
      "`https://ingatlan.com/algyo/elado+haz/csaladi-haz/csongrad+megye+algyo+kerekes+utca/30909907` has some issues to provide advertiser details!\n"
     ]
    },
    {
     "name": "stderr",
     "output_type": "stream",
     "text": [
      " 47%|███████████████████████████████████████▎                                           | 9/19 [00:45<00:49,  4.95s/it]"
     ]
    },
    {
     "name": "stdout",
     "output_type": "stream",
     "text": [
      "`https://ingatlan.com/algyo/elado+haz/csaladi-haz/csongrad+megye+algyo+geza+utca/30823912` has some issues to provide advertiser details!\n"
     ]
    },
    {
     "name": "stderr",
     "output_type": "stream",
     "text": [
      " 63%|███████████████████████████████████████████████████▊                              | 12/19 [00:58<00:31,  4.52s/it]"
     ]
    },
    {
     "name": "stdout",
     "output_type": "stream",
     "text": [
      "`https://ingatlan.com/algyo/elado+haz/csaladi-haz/csongrad+megye+algyo+fazekas+utca/30670795` has some issues to provide advertiser details!\n"
     ]
    },
    {
     "name": "stderr",
     "output_type": "stream",
     "text": [
      " 84%|█████████████████████████████████████████████████████████████████████             | 16/19 [01:15<00:13,  4.34s/it]"
     ]
    },
    {
     "name": "stdout",
     "output_type": "stream",
     "text": [
      "`https://ingatlan.com/algyo/elado+haz/csaladi-haz/csongrad+megye+algyo+vasarhelyi+utca+7b/29938997` has some issues to provide advertiser details!\n"
     ]
    },
    {
     "name": "stderr",
     "output_type": "stream",
     "text": [
      " 95%|█████████████████████████████████████████████████████████████████████████████▋    | 18/19 [01:23<00:04,  4.27s/it]"
     ]
    },
    {
     "name": "stdout",
     "output_type": "stream",
     "text": [
      "`https://ingatlan.com/algyo/elado+haz/csaladi-haz/csongrad+megye+algyo/29202089` has some issues to provide advertiser details!\n"
     ]
    },
    {
     "name": "stderr",
     "output_type": "stream",
     "text": [
      "100%|██████████████████████████████████████████████████████████████████████████████████| 19/19 [01:28<00:00,  4.29s/it]\n",
      "C:\\Users\\divekizs\\Python\\Scripts\\Property-finder\\accumulate_data.py:31: FutureWarning: Sorting because non-concatenation axis is not aligned. A future version\n",
      "of pandas will change to not sort by default.\n",
      "\n",
      "To accept the future behavior, pass 'sort=False'.\n",
      "\n",
      "To retain the current behavior and silence the warning, pass 'sort=True'.\n",
      "\n",
      "  tmp = scraper.container.to_dataframe()\n",
      "100%|████████████████████████████████████████████████████████████████████████████████████| 1/1 [00:03<00:00,  3.61s/it]\n",
      "100%|██████████████████████████████████████████████████████████████████████████████████| 40/40 [02:19<00:00,  3.42s/it]\n",
      "  8%|██████▏                                                                            | 3/40 [00:20<04:32,  7.38s/it]"
     ]
    },
    {
     "name": "stdout",
     "output_type": "stream",
     "text": [
      "`https://ingatlan.com/morahalom/elado+haz/csaladi-haz/csongrad+megye+morahalom+szegedi+ut/29735999` has some issues to provide advertiser details!\n"
     ]
    },
    {
     "name": "stderr",
     "output_type": "stream",
     "text": [
      " 30%|████████████████████████▌                                                         | 12/40 [01:03<02:08,  4.58s/it]"
     ]
    },
    {
     "name": "stdout",
     "output_type": "stream",
     "text": [
      "`https://ingatlan.com/morahalom-varoskozpont/elado+haz/csaladi-haz/csongrad+megye+morahalom/27646882` has some issues to provide advertiser details!\n"
     ]
    },
    {
     "name": "stderr",
     "output_type": "stream",
     "text": [
      " 35%|████████████████████████████▋                                                     | 14/40 [01:12<02:00,  4.63s/it]"
     ]
    },
    {
     "name": "stdout",
     "output_type": "stream",
     "text": [
      "`https://ingatlan.com/morahalom-felsovaros/elado+haz/tanya/csongrad+megye+morahalom/24964600` has some issues to provide advertiser details!\n"
     ]
    },
    {
     "name": "stderr",
     "output_type": "stream",
     "text": [
      " 48%|██████████████████████████████████████▉                                           | 19/40 [01:36<01:37,  4.64s/it]"
     ]
    },
    {
     "name": "stdout",
     "output_type": "stream",
     "text": [
      "`https://ingatlan.com/morahalom/elado+haz/csaladi-haz/csongrad+megye+morahalom/21634368` has some issues to provide advertiser details!\n"
     ]
    },
    {
     "name": "stderr",
     "output_type": "stream",
     "text": [
      " 70%|█████████████████████████████████████████████████████████▍                        | 28/40 [02:16<00:52,  4.38s/it]"
     ]
    },
    {
     "name": "stdout",
     "output_type": "stream",
     "text": [
      "`https://ingatlan.com/morahalom/elado+haz/csaladi-haz/csongrad+megye+morahalom+hataror+ut/30729766` has some issues to provide advertiser details!\n"
     ]
    },
    {
     "name": "stderr",
     "output_type": "stream",
     "text": [
      " 82%|███████████████████████████████████████████████████████████████████▋              | 33/40 [02:37<00:30,  4.33s/it]"
     ]
    },
    {
     "name": "stdout",
     "output_type": "stream",
     "text": [
      "Could not click on phone number\n",
      "`https://ingatlan.com/morahalom/elado+haz/csaladi-haz/csongrad+megye+morahalom+foldmuves+utca/30322274` has some issues to provide advertiser details!\n"
     ]
    },
    {
     "name": "stderr",
     "output_type": "stream",
     "text": [
      " 95%|█████████████████████████████████████████████████████████████████████████████▉    | 38/40 [03:00<00:08,  4.45s/it]"
     ]
    },
    {
     "name": "stdout",
     "output_type": "stream",
     "text": [
      "`https://ingatlan.com/morahalom/elado+haz/tanya/csongrad+megye+morahalom/30035162` has some issues to provide advertiser details!\n"
     ]
    },
    {
     "name": "stderr",
     "output_type": "stream",
     "text": [
      "\r",
      " 98%|███████████████████████████████████████████████████████████████████████████████▉  | 39/40 [03:04<00:04,  4.46s/it]"
     ]
    },
    {
     "name": "stdout",
     "output_type": "stream",
     "text": [
      "`https://ingatlan.com/morahalom/elado+haz/tanya/csongrad+megye+morahalom/29995382` has some issues to provide advertiser details!\n"
     ]
    },
    {
     "name": "stderr",
     "output_type": "stream",
     "text": [
      "100%|██████████████████████████████████████████████████████████████████████████████████| 40/40 [03:09<00:00,  4.49s/it]\n",
      "100%|████████████████████████████████████████████████████████████████████████████████████| 4/4 [00:14<00:00,  3.63s/it]\n",
      "100%|██████████████████████████████████████████████████████████████████████████████████| 97/97 [05:23<00:00,  3.28s/it]\n",
      "  0%|                                                                                           | 0/97 [00:00<?, ?it/s]"
     ]
    },
    {
     "name": "stdout",
     "output_type": "stream",
     "text": [
      "`{'class': 'parameter-value'}` is not found\n",
      "`{'class': 'parameter-value'}` is not found\n"
     ]
    },
    {
     "name": "stderr",
     "output_type": "stream",
     "text": [
      "\r",
      "  1%|▊                                                                                  | 1/97 [00:07<12:16,  7.68s/it]"
     ]
    },
    {
     "name": "stdout",
     "output_type": "stream",
     "text": [
      "`{'class': 'parameter-value'}` is not found\n",
      "`{'class': 'parameter-value'}` is not found\n",
      "`https://ingatlan.com/szeged/elado+garazs/onallo/csongrad+megye+szeged+arva+utca/30820732` has some issues to provide advertiser details!\n"
     ]
    },
    {
     "name": "stderr",
     "output_type": "stream",
     "text": [
      "\r",
      "  2%|█▋                                                                                 | 2/97 [00:11<10:22,  6.55s/it]"
     ]
    },
    {
     "name": "stdout",
     "output_type": "stream",
     "text": [
      "`{'class': 'parameter-value'}` is not found\n",
      "`{'class': 'parameter-value'}` is not found\n"
     ]
    },
    {
     "name": "stderr",
     "output_type": "stream",
     "text": [
      "\r",
      "  3%|██▌                                                                                | 3/97 [00:15<08:56,  5.71s/it]"
     ]
    },
    {
     "name": "stdout",
     "output_type": "stream",
     "text": [
      "`{'class': 'parameter-value'}` is not found\n",
      "`{'class': 'parameter-value'}` is not found\n",
      "`https://ingatlan.com/szeged/elado+garazs/onallo/csongrad+megye+szeged+vasas+szent+peter+utca/30766795` has some issues to provide advertiser details!\n"
     ]
    },
    {
     "name": "stderr",
     "output_type": "stream",
     "text": [
      "\r",
      "  4%|███▍                                                                               | 4/97 [00:19<08:12,  5.30s/it]"
     ]
    },
    {
     "name": "stdout",
     "output_type": "stream",
     "text": [
      "`{'class': 'parameter-value'}` is not found\n",
      "`{'class': 'parameter-value'}` is not found\n",
      "`https://ingatlan.com/szeged/elado+garazs/onallo/csongrad+megye+szeged+gelei+jozsef+utca/30763165` has some issues to provide advertiser details!\n"
     ]
    },
    {
     "name": "stderr",
     "output_type": "stream",
     "text": [
      "\r",
      "  5%|████▎                                                                              | 5/97 [00:23<07:38,  4.98s/it]"
     ]
    },
    {
     "name": "stdout",
     "output_type": "stream",
     "text": [
      "`{'class': 'parameter-value'}` is not found\n",
      "`{'class': 'parameter-value'}` is not found\n"
     ]
    },
    {
     "name": "stderr",
     "output_type": "stream",
     "text": [
      "\r",
      "  6%|█████▏                                                                             | 6/97 [00:28<07:09,  4.72s/it]"
     ]
    },
    {
     "name": "stdout",
     "output_type": "stream",
     "text": [
      "`{'class': 'parameter-value'}` is not found\n",
      "`{'class': 'parameter-value'}` is not found\n"
     ]
    },
    {
     "name": "stderr",
     "output_type": "stream",
     "text": [
      "\r",
      "  7%|█████▉                                                                             | 7/97 [00:33<07:12,  4.80s/it]"
     ]
    },
    {
     "name": "stdout",
     "output_type": "stream",
     "text": [
      "`{'class': 'parameter-value'}` is not found\n",
      "`{'class': 'parameter-value'}` is not found\n",
      "`https://ingatlan.com/szeged/elado+garazs/onallo/csongrad+megye+szeged+vedres+utca/30744361` has some issues to provide advertiser details!\n"
     ]
    },
    {
     "name": "stderr",
     "output_type": "stream",
     "text": [
      "\r",
      "  8%|██████▊                                                                            | 8/97 [00:37<06:55,  4.67s/it]"
     ]
    },
    {
     "name": "stdout",
     "output_type": "stream",
     "text": [
      "`{'class': 'parameter-value'}` is not found\n",
      "`{'class': 'parameter-value'}` is not found\n"
     ]
    },
    {
     "name": "stderr",
     "output_type": "stream",
     "text": [
      "\r",
      "  9%|███████▋                                                                           | 9/97 [00:41<06:32,  4.46s/it]"
     ]
    },
    {
     "name": "stdout",
     "output_type": "stream",
     "text": [
      "`{'class': 'parameter-value'}` is not found\n",
      "`{'class': 'parameter-value'}` is not found\n",
      "`https://ingatlan.com/szeged/elado+garazs/teremgarazs/csongrad+megye+szeged+petofi+sandor+sugarut/30738121` has some issues to provide advertiser details!\n"
     ]
    },
    {
     "name": "stderr",
     "output_type": "stream",
     "text": [
      "\r",
      " 10%|████████▍                                                                         | 10/97 [00:45<06:17,  4.33s/it]"
     ]
    },
    {
     "name": "stdout",
     "output_type": "stream",
     "text": [
      "`{'class': 'parameter-value'}` is not found\n",
      "`{'class': 'parameter-value'}` is not found\n",
      "`https://ingatlan.com/szeged-felsovaros/elado+garazs/onallo/csongrad+megye+szeged/30718819` has some issues to provide advertiser details!\n"
     ]
    },
    {
     "name": "stderr",
     "output_type": "stream",
     "text": [
      "\r",
      " 11%|█████████▎                                                                        | 11/97 [00:49<06:02,  4.21s/it]"
     ]
    },
    {
     "name": "stdout",
     "output_type": "stream",
     "text": [
      "`{'class': 'parameter-value'}` is not found\n",
      "`{'class': 'parameter-value'}` is not found\n",
      "`https://ingatlan.com/szeged/elado+garazs/onallo/csongrad+megye+szeged+kenguru+koz+3/30698986` has some issues to provide advertiser details!\n"
     ]
    },
    {
     "name": "stderr",
     "output_type": "stream",
     "text": [
      "\r",
      " 12%|██████████▏                                                                       | 12/97 [00:53<06:08,  4.33s/it]"
     ]
    },
    {
     "name": "stdout",
     "output_type": "stream",
     "text": [
      "`{'class': 'parameter-value'}` is not found\n",
      "`{'class': 'parameter-value'}` is not found\n"
     ]
    },
    {
     "name": "stderr",
     "output_type": "stream",
     "text": [
      "\r",
      " 13%|██████████▉                                                                       | 13/97 [00:58<05:58,  4.26s/it]"
     ]
    },
    {
     "name": "stdout",
     "output_type": "stream",
     "text": [
      "`{'class': 'parameter-value'}` is not found\n",
      "`{'class': 'parameter-value'}` is not found\n"
     ]
    },
    {
     "name": "stderr",
     "output_type": "stream",
     "text": [
      "\r",
      " 14%|███████████▊                                                                      | 14/97 [01:01<05:43,  4.14s/it]"
     ]
    },
    {
     "name": "stdout",
     "output_type": "stream",
     "text": [
      "`{'class': 'parameter-value'}` is not found\n",
      "`{'class': 'parameter-value'}` is not found\n",
      "Could not click on phone number\n",
      "`https://ingatlan.com/szeged/elado+garazs/onallo/csongrad+megye+szeged+szent+ferenc+utca+23/30660733` has some issues to provide advertiser details!\n"
     ]
    },
    {
     "name": "stderr",
     "output_type": "stream",
     "text": [
      "\r",
      " 15%|████████████▋                                                                     | 15/97 [01:05<05:25,  3.97s/it]"
     ]
    },
    {
     "name": "stdout",
     "output_type": "stream",
     "text": [
      "`{'class': 'parameter-value'}` is not found\n",
      "`{'class': 'parameter-value'}` is not found\n",
      "`https://ingatlan.com/szeged/elado+garazs/onallo/csongrad+megye+szeged+szent+ferenc+utca+23/30660700` has some issues to provide advertiser details!\n"
     ]
    },
    {
     "name": "stderr",
     "output_type": "stream",
     "text": [
      "\r",
      " 16%|█████████████▌                                                                    | 16/97 [01:09<05:28,  4.06s/it]"
     ]
    },
    {
     "name": "stdout",
     "output_type": "stream",
     "text": [
      "`{'class': 'parameter-value'}` is not found\n",
      "`{'class': 'parameter-value'}` is not found\n"
     ]
    },
    {
     "name": "stderr",
     "output_type": "stream",
     "text": [
      "\r",
      " 18%|██████████████▎                                                                   | 17/97 [01:13<05:14,  3.94s/it]"
     ]
    },
    {
     "name": "stdout",
     "output_type": "stream",
     "text": [
      "`{'class': 'parameter-value'}` is not found\n",
      "`{'class': 'parameter-value'}` is not found\n",
      "`https://ingatlan.com/szeged/elado+garazs/onallo/csongrad+megye+szeged+kortoltes+utca/30644071` has some issues to provide advertiser details!\n"
     ]
    },
    {
     "name": "stderr",
     "output_type": "stream",
     "text": [
      "\r",
      " 19%|███████████████▏                                                                  | 18/97 [01:17<05:07,  3.89s/it]"
     ]
    },
    {
     "name": "stdout",
     "output_type": "stream",
     "text": [
      "`{'class': 'parameter-value'}` is not found\n",
      "`{'class': 'parameter-value'}` is not found\n"
     ]
    },
    {
     "name": "stderr",
     "output_type": "stream",
     "text": [
      "\r",
      " 20%|████████████████                                                                  | 19/97 [01:21<05:03,  3.89s/it]"
     ]
    },
    {
     "name": "stdout",
     "output_type": "stream",
     "text": [
      "`{'class': 'parameter-value'}` is not found\n",
      "`{'class': 'parameter-value'}` is not found\n",
      "`https://ingatlan.com/szeged-tarjan/elado+garazs/onallo/csongrad+megye+szeged/30582577` has some issues to provide advertiser details!\n"
     ]
    },
    {
     "name": "stderr",
     "output_type": "stream",
     "text": [
      "\r",
      " 21%|████████████████▉                                                                 | 20/97 [01:24<04:57,  3.86s/it]"
     ]
    },
    {
     "name": "stdout",
     "output_type": "stream",
     "text": [
      "`{'class': 'parameter-value'}` is not found\n",
      "`{'class': 'parameter-value'}` is not found\n",
      "`https://ingatlan.com/szeged/elado+garazs/onallo/csongrad+megye+szeged+etelka+sor/30575611` has some issues to provide advertiser details!\n"
     ]
    },
    {
     "name": "stderr",
     "output_type": "stream",
     "text": [
      "\r",
      " 22%|█████████████████▊                                                                | 21/97 [01:28<04:48,  3.80s/it]"
     ]
    },
    {
     "name": "stdout",
     "output_type": "stream",
     "text": [
      "`{'class': 'parameter-value'}` is not found\n",
      "`{'class': 'parameter-value'}` is not found\n",
      "`https://ingatlan.com/szeged/elado+garazs/onallo/csongrad+megye+szeged+kemes+utca/30575224` has some issues to provide advertiser details!\n"
     ]
    },
    {
     "name": "stderr",
     "output_type": "stream",
     "text": [
      "\r",
      " 23%|██████████████████▌                                                               | 22/97 [01:32<04:48,  3.85s/it]"
     ]
    },
    {
     "name": "stdout",
     "output_type": "stream",
     "text": [
      "`{'class': 'parameter-value'}` is not found\n",
      "`{'class': 'parameter-value'}` is not found\n",
      "`https://ingatlan.com/szeged/elado+garazs/onallo/csongrad+megye+szeged+szilleri+sugarut+38/30575194` has some issues to provide advertiser details!\n"
     ]
    },
    {
     "name": "stderr",
     "output_type": "stream",
     "text": [
      "\r",
      " 24%|███████████████████▍                                                              | 23/97 [01:36<04:47,  3.88s/it]"
     ]
    },
    {
     "name": "stdout",
     "output_type": "stream",
     "text": [
      "`{'class': 'parameter-value'}` is not found\n",
      "`{'class': 'parameter-value'}` is not found\n"
     ]
    },
    {
     "name": "stderr",
     "output_type": "stream",
     "text": [
      "\r",
      " 25%|████████████████████▎                                                             | 24/97 [01:40<04:47,  3.93s/it]"
     ]
    },
    {
     "name": "stdout",
     "output_type": "stream",
     "text": [
      "`{'class': 'parameter-value'}` is not found\n",
      "`{'class': 'parameter-value'}` is not found\n"
     ]
    },
    {
     "name": "stderr",
     "output_type": "stream",
     "text": [
      "\r",
      " 26%|█████████████████████▏                                                            | 25/97 [01:44<04:46,  3.98s/it]"
     ]
    },
    {
     "name": "stdout",
     "output_type": "stream",
     "text": [
      "`{'class': 'parameter-value'}` is not found\n",
      "`{'class': 'parameter-value'}` is not found\n",
      "`https://ingatlan.com/szeged/elado+garazs/teremgarazs/csongrad+megye+szeged+tompai+kapu+ut+2b/30521851` has some issues to provide advertiser details!\n"
     ]
    },
    {
     "name": "stderr",
     "output_type": "stream",
     "text": [
      "\r",
      " 27%|█████████████████████▉                                                            | 26/97 [01:48<04:44,  4.00s/it]"
     ]
    },
    {
     "name": "stdout",
     "output_type": "stream",
     "text": [
      "`{'class': 'parameter-value'}` is not found\n",
      "`{'class': 'parameter-value'}` is not found\n"
     ]
    },
    {
     "name": "stderr",
     "output_type": "stream",
     "text": [
      "\r",
      " 28%|██████████████████████▊                                                           | 27/97 [01:53<04:56,  4.24s/it]"
     ]
    },
    {
     "name": "stdout",
     "output_type": "stream",
     "text": [
      "`{'class': 'parameter-value'}` is not found\n",
      "`{'class': 'parameter-value'}` is not found\n",
      "`https://ingatlan.com/szeged/elado+garazs/onallo/csongrad+megye+szeged+romai+korut/30437149` has some issues to provide advertiser details!\n"
     ]
    },
    {
     "name": "stderr",
     "output_type": "stream",
     "text": [
      "\r",
      " 29%|███████████████████████▋                                                          | 28/97 [01:57<04:46,  4.16s/it]"
     ]
    },
    {
     "name": "stdout",
     "output_type": "stream",
     "text": [
      "`{'class': 'parameter-value'}` is not found\n",
      "`{'class': 'parameter-value'}` is not found\n",
      "`https://ingatlan.com/szeged/elado+garazs/onallo/csongrad+megye+szeged+kalvaria+sugarut+92-94/30434056` has some issues to provide advertiser details!\n"
     ]
    },
    {
     "name": "stderr",
     "output_type": "stream",
     "text": [
      "\r",
      " 30%|████████████████████████▌                                                         | 29/97 [02:01<04:38,  4.09s/it]"
     ]
    },
    {
     "name": "stdout",
     "output_type": "stream",
     "text": [
      "`{'class': 'parameter-value'}` is not found\n",
      "`{'class': 'parameter-value'}` is not found\n"
     ]
    },
    {
     "name": "stderr",
     "output_type": "stream",
     "text": [
      "\r",
      " 31%|█████████████████████████▎                                                        | 30/97 [02:05<04:35,  4.11s/it]"
     ]
    },
    {
     "name": "stdout",
     "output_type": "stream",
     "text": [
      "`{'class': 'parameter-value'}` is not found\n",
      "`{'class': 'parameter-value'}` is not found\n",
      "`https://ingatlan.com/szeged/elado+garazs/onallo/csongrad+megye+szeged+dugonics+utca/30335507` has some issues to provide advertiser details!\n"
     ]
    },
    {
     "name": "stderr",
     "output_type": "stream",
     "text": [
      "\r",
      " 32%|██████████████████████████▏                                                       | 31/97 [02:09<04:24,  4.01s/it]"
     ]
    },
    {
     "name": "stdout",
     "output_type": "stream",
     "text": [
      "`{'class': 'parameter-value'}` is not found\n",
      "`{'class': 'parameter-value'}` is not found\n"
     ]
    },
    {
     "name": "stderr",
     "output_type": "stream",
     "text": [
      "\r",
      " 33%|███████████████████████████                                                       | 32/97 [02:13<04:17,  3.96s/it]"
     ]
    },
    {
     "name": "stdout",
     "output_type": "stream",
     "text": [
      "`{'class': 'parameter-value'}` is not found\n",
      "`{'class': 'parameter-value'}` is not found\n",
      "`https://ingatlan.com/szeged/elado+garazs/onallo/csongrad+megye+szeged+fakopancs+utca/30314270` has some issues to provide advertiser details!\n"
     ]
    },
    {
     "name": "stderr",
     "output_type": "stream",
     "text": [
      "\r",
      " 34%|███████████████████████████▉                                                      | 33/97 [02:16<04:11,  3.94s/it]"
     ]
    },
    {
     "name": "stdout",
     "output_type": "stream",
     "text": [
      "`{'class': 'parameter-value'}` is not found\n",
      "`{'class': 'parameter-value'}` is not found\n",
      "`https://ingatlan.com/szeged/elado+garazs/onallo/csongrad+megye+szeged/30163421` has some issues to provide advertiser details!\n"
     ]
    },
    {
     "name": "stderr",
     "output_type": "stream",
     "text": [
      "\r",
      " 35%|████████████████████████████▋                                                     | 34/97 [02:21<04:16,  4.08s/it]"
     ]
    },
    {
     "name": "stdout",
     "output_type": "stream",
     "text": [
      "`{'class': 'parameter-value'}` is not found\n",
      "`{'class': 'parameter-value'}` is not found\n"
     ]
    },
    {
     "name": "stderr",
     "output_type": "stream",
     "text": [
      "\r",
      " 36%|█████████████████████████████▌                                                    | 35/97 [02:25<04:07,  3.99s/it]"
     ]
    },
    {
     "name": "stdout",
     "output_type": "stream",
     "text": [
      "`{'class': 'parameter-value'}` is not found\n",
      "`{'class': 'parameter-value'}` is not found\n",
      "`https://ingatlan.com/szeged/elado+garazs/onallo/csongrad+megye+szeged+allomas+utca/30046589` has some issues to provide advertiser details!\n"
     ]
    },
    {
     "name": "stderr",
     "output_type": "stream",
     "text": [
      "\r",
      " 37%|██████████████████████████████▍                                                   | 36/97 [02:28<03:59,  3.93s/it]"
     ]
    },
    {
     "name": "stdout",
     "output_type": "stream",
     "text": [
      "`{'class': 'parameter-value'}` is not found\n",
      "`{'class': 'parameter-value'}` is not found\n",
      "`https://ingatlan.com/szeged/elado+garazs/onallo/csongrad+megye+szeged+tisza+lajos+korut+18-20/29968853` has some issues to provide advertiser details!\n"
     ]
    },
    {
     "name": "stderr",
     "output_type": "stream",
     "text": [
      "\r",
      " 38%|███████████████████████████████▎                                                  | 37/97 [02:32<03:56,  3.95s/it]"
     ]
    },
    {
     "name": "stdout",
     "output_type": "stream",
     "text": [
      "`{'class': 'parameter-value'}` is not found\n",
      "`{'class': 'parameter-value'}` is not found\n"
     ]
    },
    {
     "name": "stderr",
     "output_type": "stream",
     "text": [
      "\r",
      " 39%|████████████████████████████████                                                  | 38/97 [02:36<03:52,  3.94s/it]"
     ]
    },
    {
     "name": "stdout",
     "output_type": "stream",
     "text": [
      "`{'class': 'parameter-value'}` is not found\n",
      "`{'class': 'parameter-value'}` is not found\n"
     ]
    },
    {
     "name": "stderr",
     "output_type": "stream",
     "text": [
      "\r",
      " 40%|████████████████████████████████▉                                                 | 39/97 [02:40<03:46,  3.90s/it]"
     ]
    },
    {
     "name": "stdout",
     "output_type": "stream",
     "text": [
      "`{'class': 'parameter-value'}` is not found\n",
      "`{'class': 'parameter-value'}` is not found\n"
     ]
    },
    {
     "name": "stderr",
     "output_type": "stream",
     "text": [
      "\r",
      " 41%|█████████████████████████████████▊                                                | 40/97 [02:44<03:45,  3.96s/it]"
     ]
    },
    {
     "name": "stdout",
     "output_type": "stream",
     "text": [
      "`{'class': 'parameter-value'}` is not found\n",
      "`{'class': 'parameter-value'}` is not found\n",
      "`https://ingatlan.com/szeged/elado+garazs/onallo/csongrad+megye+szeged/29877857` has some issues to provide advertiser details!\n"
     ]
    },
    {
     "name": "stderr",
     "output_type": "stream",
     "text": [
      "\r",
      " 42%|██████████████████████████████████▋                                               | 41/97 [02:48<03:39,  3.91s/it]"
     ]
    },
    {
     "name": "stdout",
     "output_type": "stream",
     "text": [
      "`{'class': 'parameter-value'}` is not found\n",
      "`{'class': 'parameter-value'}` is not found\n"
     ]
    },
    {
     "name": "stderr",
     "output_type": "stream",
     "text": [
      "\r",
      " 43%|███████████████████████████████████▌                                              | 42/97 [02:53<03:43,  4.07s/it]"
     ]
    },
    {
     "name": "stdout",
     "output_type": "stream",
     "text": [
      "`{'class': 'parameter-value'}` is not found\n",
      "`{'class': 'parameter-value'}` is not found\n"
     ]
    },
    {
     "name": "stderr",
     "output_type": "stream",
     "text": [
      "\r",
      " 44%|████████████████████████████████████▎                                             | 43/97 [02:57<03:42,  4.11s/it]"
     ]
    },
    {
     "name": "stdout",
     "output_type": "stream",
     "text": [
      "`{'class': 'parameter-value'}` is not found\n",
      "`{'class': 'parameter-value'}` is not found\n"
     ]
    },
    {
     "name": "stderr",
     "output_type": "stream",
     "text": [
      "\r",
      " 45%|█████████████████████████████████████▏                                            | 44/97 [03:01<03:35,  4.07s/it]"
     ]
    },
    {
     "name": "stdout",
     "output_type": "stream",
     "text": [
      "`{'class': 'parameter-value'}` is not found\n",
      "`{'class': 'parameter-value'}` is not found\n"
     ]
    },
    {
     "name": "stderr",
     "output_type": "stream",
     "text": [
      "\r",
      " 46%|██████████████████████████████████████                                            | 45/97 [03:04<03:26,  3.97s/it]"
     ]
    },
    {
     "name": "stdout",
     "output_type": "stream",
     "text": [
      "`{'class': 'parameter-value'}` is not found\n",
      "`{'class': 'parameter-value'}` is not found\n",
      "`https://ingatlan.com/szeged/elado+garazs/onallo/csongrad+megye+szeged+hajnal+utca/29726231` has some issues to provide advertiser details!\n"
     ]
    },
    {
     "name": "stderr",
     "output_type": "stream",
     "text": [
      "\r",
      " 47%|██████████████████████████████████████▉                                           | 46/97 [03:08<03:16,  3.85s/it]"
     ]
    },
    {
     "name": "stdout",
     "output_type": "stream",
     "text": [
      "`{'class': 'parameter-value'}` is not found\n",
      "`{'class': 'parameter-value'}` is not found\n",
      "`https://ingatlan.com/szeged/elado+garazs/onallo/csongrad+megye+szeged+veres+acs+utca/29705279` has some issues to provide advertiser details!\n"
     ]
    },
    {
     "name": "stderr",
     "output_type": "stream",
     "text": [
      "\r",
      " 48%|███████████████████████████████████████▋                                          | 47/97 [03:12<03:16,  3.93s/it]"
     ]
    },
    {
     "name": "stdout",
     "output_type": "stream",
     "text": [
      "`{'class': 'parameter-value'}` is not found\n",
      "`{'class': 'parameter-value'}` is not found\n",
      "`https://ingatlan.com/szeged/elado+garazs/onallo/csongrad+megye+szeged+kossuth+lajos+sugarut/29673686` has some issues to provide advertiser details!\n"
     ]
    },
    {
     "name": "stderr",
     "output_type": "stream",
     "text": [
      "\r",
      " 49%|████████████████████████████████████████▌                                         | 48/97 [03:16<03:11,  3.90s/it]"
     ]
    },
    {
     "name": "stdout",
     "output_type": "stream",
     "text": [
      "`{'class': 'parameter-value'}` is not found\n",
      "`{'class': 'parameter-value'}` is not found\n"
     ]
    },
    {
     "name": "stderr",
     "output_type": "stream",
     "text": [
      "\r",
      " 51%|█████████████████████████████████████████▍                                        | 49/97 [03:20<03:12,  4.00s/it]"
     ]
    },
    {
     "name": "stdout",
     "output_type": "stream",
     "text": [
      "`{'class': 'parameter-value'}` is not found\n",
      "`{'class': 'parameter-value'}` is not found\n",
      "`https://ingatlan.com/szeged/elado+garazs/onallo/csongrad+megye+szeged+hajnal+utca/29467505` has some issues to provide advertiser details!\n"
     ]
    },
    {
     "name": "stderr",
     "output_type": "stream",
     "text": [
      "\r",
      " 52%|██████████████████████████████████████████▎                                       | 50/97 [03:24<03:03,  3.91s/it]"
     ]
    },
    {
     "name": "stdout",
     "output_type": "stream",
     "text": [
      "`{'class': 'parameter-value'}` is not found\n",
      "`{'class': 'parameter-value'}` is not found\n",
      "`https://ingatlan.com/szeged-alsovaros/elado+garazs/onallo/csongrad+megye+szeged/29428856` has some issues to provide advertiser details!\n"
     ]
    },
    {
     "name": "stderr",
     "output_type": "stream",
     "text": [
      "\r",
      " 53%|███████████████████████████████████████████                                       | 51/97 [03:28<03:00,  3.92s/it]"
     ]
    },
    {
     "name": "stdout",
     "output_type": "stream",
     "text": [
      "`{'class': 'parameter-value'}` is not found\n",
      "`{'class': 'parameter-value'}` is not found\n"
     ]
    },
    {
     "name": "stderr",
     "output_type": "stream",
     "text": [
      "\r",
      " 54%|███████████████████████████████████████████▉                                      | 52/97 [03:32<03:03,  4.07s/it]"
     ]
    },
    {
     "name": "stdout",
     "output_type": "stream",
     "text": [
      "`{'class': 'parameter-value'}` is not found\n",
      "`{'class': 'parameter-value'}` is not found\n"
     ]
    },
    {
     "name": "stderr",
     "output_type": "stream",
     "text": [
      "\r",
      " 55%|████████████████████████████████████████████▊                                     | 53/97 [03:36<02:56,  4.02s/it]"
     ]
    },
    {
     "name": "stdout",
     "output_type": "stream",
     "text": [
      "`{'class': 'parameter-value'}` is not found\n",
      "`{'class': 'parameter-value'}` is not found\n"
     ]
    },
    {
     "name": "stderr",
     "output_type": "stream",
     "text": [
      "\r",
      " 56%|█████████████████████████████████████████████▋                                    | 54/97 [03:40<02:47,  3.90s/it]"
     ]
    },
    {
     "name": "stdout",
     "output_type": "stream",
     "text": [
      "`{'class': 'parameter-value'}` is not found\n",
      "`{'class': 'parameter-value'}` is not found\n"
     ]
    },
    {
     "name": "stderr",
     "output_type": "stream",
     "text": [
      "\r",
      " 57%|██████████████████████████████████████████████▍                                   | 55/97 [03:43<02:40,  3.83s/it]"
     ]
    },
    {
     "name": "stdout",
     "output_type": "stream",
     "text": [
      "`{'class': 'parameter-value'}` is not found\n",
      "`{'class': 'parameter-value'}` is not found\n",
      "`https://ingatlan.com/szeged/elado+garazs/onallo/csongrad+megye+szeged+veres+acs+utca+49/29216258` has some issues to provide advertiser details!\n"
     ]
    },
    {
     "name": "stderr",
     "output_type": "stream",
     "text": [
      "\r",
      " 58%|███████████████████████████████████████████████▎                                  | 56/97 [03:48<02:40,  3.92s/it]"
     ]
    },
    {
     "name": "stdout",
     "output_type": "stream",
     "text": [
      "`{'class': 'parameter-value'}` is not found\n",
      "`{'class': 'parameter-value'}` is not found\n"
     ]
    },
    {
     "name": "stderr",
     "output_type": "stream",
     "text": [
      "\r",
      " 59%|████████████████████████████████████████████████▏                                 | 57/97 [03:52<02:37,  3.94s/it]"
     ]
    },
    {
     "name": "stdout",
     "output_type": "stream",
     "text": [
      "`{'class': 'parameter-value'}` is not found\n",
      "`{'class': 'parameter-value'}` is not found\n",
      "`https://ingatlan.com/szeged/elado+garazs/onallo/csongrad+megye+szeged/29160683` has some issues to provide advertiser details!\n"
     ]
    },
    {
     "name": "stderr",
     "output_type": "stream",
     "text": [
      "\r",
      " 60%|█████████████████████████████████████████████████                                 | 58/97 [03:56<02:33,  3.94s/it]"
     ]
    },
    {
     "name": "stdout",
     "output_type": "stream",
     "text": [
      "`{'class': 'parameter-value'}` is not found\n",
      "`{'class': 'parameter-value'}` is not found\n"
     ]
    },
    {
     "name": "stderr",
     "output_type": "stream",
     "text": [
      "\r",
      " 61%|█████████████████████████████████████████████████▉                                | 59/97 [04:00<02:32,  4.02s/it]"
     ]
    },
    {
     "name": "stdout",
     "output_type": "stream",
     "text": [
      "`{'class': 'parameter-value'}` is not found\n",
      "`{'class': 'parameter-value'}` is not found\n"
     ]
    },
    {
     "name": "stderr",
     "output_type": "stream",
     "text": [
      "\r",
      " 62%|██████████████████████████████████████████████████▋                               | 60/97 [04:04<02:29,  4.04s/it]"
     ]
    },
    {
     "name": "stdout",
     "output_type": "stream",
     "text": [
      "`{'class': 'parameter-value'}` is not found\n",
      "`{'class': 'parameter-value'}` is not found\n",
      "`https://ingatlan.com/szeged-belvaros/elado+garazs/onallo/csongrad+megye+szeged/28491665` has some issues to provide advertiser details!\n"
     ]
    },
    {
     "name": "stderr",
     "output_type": "stream",
     "text": [
      "\r",
      " 63%|███████████████████████████████████████████████████▌                              | 61/97 [04:08<02:23,  3.98s/it]"
     ]
    },
    {
     "name": "stdout",
     "output_type": "stream",
     "text": [
      "`{'class': 'parameter-value'}` is not found\n",
      "`{'class': 'parameter-value'}` is not found\n",
      "`https://ingatlan.com/szeged/elado+garazs/onallo/csongrad+megye+szeged+sik+sandor+utca/28372364` has some issues to provide advertiser details!\n"
     ]
    },
    {
     "name": "stderr",
     "output_type": "stream",
     "text": [
      "\r",
      " 64%|████████████████████████████████████████████████████▍                             | 62/97 [04:12<02:19,  3.99s/it]"
     ]
    },
    {
     "name": "stdout",
     "output_type": "stream",
     "text": [
      "`{'class': 'parameter-value'}` is not found\n",
      "`{'class': 'parameter-value'}` is not found\n"
     ]
    },
    {
     "name": "stderr",
     "output_type": "stream",
     "text": [
      "\r",
      " 65%|█████████████████████████████████████████████████████▎                            | 63/97 [04:16<02:14,  3.94s/it]"
     ]
    },
    {
     "name": "stdout",
     "output_type": "stream",
     "text": [
      "`{'class': 'parameter-value'}` is not found\n",
      "`{'class': 'parameter-value'}` is not found\n"
     ]
    },
    {
     "name": "stderr",
     "output_type": "stream",
     "text": [
      "\r",
      " 66%|██████████████████████████████████████████████████████                            | 64/97 [04:20<02:13,  4.05s/it]"
     ]
    },
    {
     "name": "stdout",
     "output_type": "stream",
     "text": [
      "`{'class': 'parameter-value'}` is not found\n",
      "`{'class': 'parameter-value'}` is not found\n",
      "`https://ingatlan.com/szeged/elado+garazs/onallo/csongrad+megye+szeged+zakany+utca/28240313` has some issues to provide advertiser details!\n"
     ]
    },
    {
     "name": "stderr",
     "output_type": "stream",
     "text": [
      "\r",
      " 67%|██████████████████████████████████████████████████████▉                           | 65/97 [04:24<02:07,  4.00s/it]"
     ]
    },
    {
     "name": "stdout",
     "output_type": "stream",
     "text": [
      "`{'class': 'parameter-value'}` is not found\n",
      "`{'class': 'parameter-value'}` is not found\n"
     ]
    },
    {
     "name": "stderr",
     "output_type": "stream",
     "text": [
      "\r",
      " 68%|███████████████████████████████████████████████████████▊                          | 66/97 [04:28<02:06,  4.09s/it]"
     ]
    },
    {
     "name": "stdout",
     "output_type": "stream",
     "text": [
      "`{'class': 'parameter-value'}` is not found\n",
      "`{'class': 'parameter-value'}` is not found\n"
     ]
    },
    {
     "name": "stderr",
     "output_type": "stream",
     "text": [
      "\r",
      " 69%|████████████████████████████████████████████████████████▋                         | 67/97 [04:32<01:59,  3.97s/it]"
     ]
    },
    {
     "name": "stdout",
     "output_type": "stream",
     "text": [
      "`{'class': 'parameter-value'}` is not found\n",
      "`{'class': 'parameter-value'}` is not found\n",
      "`https://ingatlan.com/szeged/elado+garazs/onallo/csongrad+megye+szeged+boldogasszony+sugarut/27892517` has some issues to provide advertiser details!\n"
     ]
    },
    {
     "name": "stderr",
     "output_type": "stream",
     "text": [
      "\r",
      " 70%|█████████████████████████████████████████████████████████▍                        | 68/97 [04:36<01:54,  3.94s/it]"
     ]
    },
    {
     "name": "stdout",
     "output_type": "stream",
     "text": [
      "`{'class': 'parameter-value'}` is not found\n",
      "`{'class': 'parameter-value'}` is not found\n",
      "`https://ingatlan.com/szeged/elado+garazs/onallo/csongrad+megye+szeged+rakoczi+utca/27705812` has some issues to provide advertiser details!\n"
     ]
    },
    {
     "name": "stderr",
     "output_type": "stream",
     "text": [
      "\r",
      " 71%|██████████████████████████████████████████████████████████▎                       | 69/97 [04:39<01:48,  3.88s/it]"
     ]
    },
    {
     "name": "stdout",
     "output_type": "stream",
     "text": [
      "`{'class': 'parameter-value'}` is not found\n",
      "`{'class': 'parameter-value'}` is not found\n",
      "`https://ingatlan.com/szeged/elado+garazs/beallo/csongrad+megye+szeged+beke+utca/26782804` has some issues to provide advertiser details!\n"
     ]
    },
    {
     "name": "stderr",
     "output_type": "stream",
     "text": [
      "\r",
      " 72%|███████████████████████████████████████████████████████████▏                      | 70/97 [04:43<01:43,  3.83s/it]"
     ]
    },
    {
     "name": "stdout",
     "output_type": "stream",
     "text": [
      "`{'class': 'parameter-value'}` is not found\n",
      "`{'class': 'parameter-value'}` is not found\n"
     ]
    },
    {
     "name": "stderr",
     "output_type": "stream",
     "text": [
      "\r",
      " 73%|████████████████████████████████████████████████████████████                      | 71/97 [04:47<01:41,  3.88s/it]"
     ]
    },
    {
     "name": "stdout",
     "output_type": "stream",
     "text": [
      "`{'class': 'parameter-value'}` is not found\n",
      "`{'class': 'parameter-value'}` is not found\n",
      "`https://ingatlan.com/szeged/elado+garazs/onallo/csongrad+megye+szeged+tisza+lajos+korut+13/24546883` has some issues to provide advertiser details!\n"
     ]
    },
    {
     "name": "stderr",
     "output_type": "stream",
     "text": [
      "\r",
      " 74%|████████████████████████████████████████████████████████████▊                     | 72/97 [04:51<01:36,  3.88s/it]"
     ]
    },
    {
     "name": "stdout",
     "output_type": "stream",
     "text": [
      "`{'class': 'parameter-value'}` is not found\n",
      "`{'class': 'parameter-value'}` is not found\n"
     ]
    },
    {
     "name": "stderr",
     "output_type": "stream",
     "text": [
      "\r",
      " 75%|█████████████████████████████████████████████████████████████▋                    | 73/97 [04:55<01:33,  3.89s/it]"
     ]
    },
    {
     "name": "stdout",
     "output_type": "stream",
     "text": [
      "`{'class': 'parameter-value'}` is not found\n",
      "`{'class': 'parameter-value'}` is not found\n"
     ]
    },
    {
     "name": "stderr",
     "output_type": "stream",
     "text": [
      "\r",
      " 76%|██████████████████████████████████████████████████████████████▌                   | 74/97 [04:59<01:29,  3.87s/it]"
     ]
    },
    {
     "name": "stdout",
     "output_type": "stream",
     "text": [
      "`{'class': 'parameter-value'}` is not found\n",
      "`{'class': 'parameter-value'}` is not found\n",
      "`https://ingatlan.com/szeged-belvaros/elado+garazs/onallo/csongrad+megye+szeged/22665475` has some issues to provide advertiser details!\n"
     ]
    },
    {
     "name": "stderr",
     "output_type": "stream",
     "text": [
      "\r",
      " 77%|███████████████████████████████████████████████████████████████▍                  | 75/97 [05:03<01:25,  3.90s/it]"
     ]
    },
    {
     "name": "stdout",
     "output_type": "stream",
     "text": [
      "`{'class': 'parameter-value'}` is not found\n",
      "`{'class': 'parameter-value'}` is not found\n",
      "`https://ingatlan.com/szeged/elado+garazs/onallo/csongrad+megye+szeged+felso+tisza+part/21196613` has some issues to provide advertiser details!\n"
     ]
    },
    {
     "name": "stderr",
     "output_type": "stream",
     "text": [
      "\r",
      " 78%|████████████████████████████████████████████████████████████████▏                 | 76/97 [05:07<01:23,  3.99s/it]"
     ]
    },
    {
     "name": "stdout",
     "output_type": "stream",
     "text": [
      "`{'class': 'parameter-value'}` is not found\n",
      "`{'class': 'parameter-value'}` is not found\n"
     ]
    },
    {
     "name": "stderr",
     "output_type": "stream",
     "text": [
      "\r",
      " 79%|█████████████████████████████████████████████████████████████████                 | 77/97 [05:11<01:18,  3.95s/it]"
     ]
    },
    {
     "name": "stdout",
     "output_type": "stream",
     "text": [
      "`{'class': 'parameter-value'}` is not found\n",
      "`{'class': 'parameter-value'}` is not found\n"
     ]
    },
    {
     "name": "stderr",
     "output_type": "stream",
     "text": [
      "\r",
      " 80%|█████████████████████████████████████████████████████████████████▉                | 78/97 [05:14<01:14,  3.90s/it]"
     ]
    },
    {
     "name": "stdout",
     "output_type": "stream",
     "text": [
      "`{'class': 'parameter-value'}` is not found\n",
      "`{'class': 'parameter-value'}` is not found\n"
     ]
    },
    {
     "name": "stderr",
     "output_type": "stream",
     "text": [
      "\r",
      " 81%|██████████████████████████████████████████████████████████████████▊               | 79/97 [05:18<01:09,  3.87s/it]"
     ]
    },
    {
     "name": "stdout",
     "output_type": "stream",
     "text": [
      "`{'class': 'parameter-value'}` is not found\n",
      "`{'class': 'parameter-value'}` is not found\n"
     ]
    },
    {
     "name": "stderr",
     "output_type": "stream",
     "text": [
      "\r",
      " 82%|███████████████████████████████████████████████████████████████████▋              | 80/97 [05:22<01:07,  3.97s/it]"
     ]
    },
    {
     "name": "stdout",
     "output_type": "stream",
     "text": [
      "`{'class': 'parameter-value'}` is not found\n",
      "`{'class': 'parameter-value'}` is not found\n"
     ]
    },
    {
     "name": "stderr",
     "output_type": "stream",
     "text": [
      "\r",
      " 84%|████████████████████████████████████████████████████████████████████▍             | 81/97 [05:26<01:02,  3.93s/it]"
     ]
    },
    {
     "name": "stdout",
     "output_type": "stream",
     "text": [
      "`{'class': 'parameter-value'}` is not found\n",
      "`{'class': 'parameter-value'}` is not found\n",
      "`https://ingatlan.com/szeged/elado+garazs/onallo/csongrad+megye+szeged+veres+acs+utca+49/30701422` has some issues to provide advertiser details!\n"
     ]
    },
    {
     "name": "stderr",
     "output_type": "stream",
     "text": [
      "\r",
      " 85%|█████████████████████████████████████████████████████████████████████▎            | 82/97 [05:31<01:00,  4.02s/it]"
     ]
    },
    {
     "name": "stdout",
     "output_type": "stream",
     "text": [
      "`{'class': 'parameter-value'}` is not found\n",
      "`{'class': 'parameter-value'}` is not found\n"
     ]
    },
    {
     "name": "stderr",
     "output_type": "stream",
     "text": [
      "\r",
      " 86%|██████████████████████████████████████████████████████████████████████▏           | 83/97 [05:34<00:55,  3.96s/it]"
     ]
    },
    {
     "name": "stdout",
     "output_type": "stream",
     "text": [
      "`{'class': 'parameter-value'}` is not found\n",
      "`{'class': 'parameter-value'}` is not found\n"
     ]
    },
    {
     "name": "stderr",
     "output_type": "stream",
     "text": [
      "\r",
      " 87%|███████████████████████████████████████████████████████████████████████           | 84/97 [05:38<00:51,  3.93s/it]"
     ]
    },
    {
     "name": "stdout",
     "output_type": "stream",
     "text": [
      "`{'class': 'parameter-value'}` is not found\n",
      "`{'class': 'parameter-value'}` is not found\n"
     ]
    },
    {
     "name": "stderr",
     "output_type": "stream",
     "text": [
      "\r",
      " 88%|███████████████████████████████████████████████████████████████████████▊          | 85/97 [05:42<00:46,  3.90s/it]"
     ]
    },
    {
     "name": "stdout",
     "output_type": "stream",
     "text": [
      "`{'class': 'parameter-value'}` is not found\n",
      "`{'class': 'parameter-value'}` is not found\n",
      "`https://ingatlan.com/szeged/elado+garazs/onallo/csongrad+megye+szeged+halo+utca/30951286` has some issues to provide advertiser details!\n"
     ]
    },
    {
     "name": "stderr",
     "output_type": "stream",
     "text": [
      "\r",
      " 89%|████████████████████████████████████████████████████████████████████████▋         | 86/97 [05:46<00:43,  3.93s/it]"
     ]
    },
    {
     "name": "stdout",
     "output_type": "stream",
     "text": [
      "`{'class': 'parameter-value'}` is not found\n",
      "`{'class': 'parameter-value'}` is not found\n",
      "`https://ingatlan.com/szeged/elado+garazs/onallo/csongrad+megye+szeged+gondor+sor+j/30925450` has some issues to provide advertiser details!\n"
     ]
    },
    {
     "name": "stderr",
     "output_type": "stream",
     "text": [
      "\r",
      " 90%|█████████████████████████████████████████████████████████████████████████▌        | 87/97 [05:50<00:38,  3.88s/it]"
     ]
    },
    {
     "name": "stdout",
     "output_type": "stream",
     "text": [
      "`{'class': 'parameter-value'}` is not found\n",
      "`{'class': 'parameter-value'}` is not found\n",
      "`https://ingatlan.com/szeged/elado+garazs/onallo/csongrad+megye+szeged+halo+utca/30918352` has some issues to provide advertiser details!\n"
     ]
    },
    {
     "name": "stderr",
     "output_type": "stream",
     "text": [
      "\r",
      " 91%|██████████████████████████████████████████████████████████████████████████▍       | 88/97 [05:54<00:35,  3.94s/it]"
     ]
    },
    {
     "name": "stdout",
     "output_type": "stream",
     "text": [
      "`{'class': 'parameter-value'}` is not found\n",
      "`{'class': 'parameter-value'}` is not found\n",
      "`https://ingatlan.com/szeged/elado+garazs/onallo/csongrad+megye+szeged+szovetkezeti+ut/30914362` has some issues to provide advertiser details!\n"
     ]
    },
    {
     "name": "stderr",
     "output_type": "stream",
     "text": [
      "\r",
      " 92%|███████████████████████████████████████████████████████████████████████████▏      | 89/97 [05:58<00:32,  4.02s/it]"
     ]
    },
    {
     "name": "stdout",
     "output_type": "stream",
     "text": [
      "`{'class': 'parameter-value'}` is not found\n",
      "`{'class': 'parameter-value'}` is not found\n",
      "`https://ingatlan.com/szeged/elado+garazs/onallo/csongrad+megye+szeged+hargitai+utca+1/30896497` has some issues to provide advertiser details!\n"
     ]
    },
    {
     "name": "stderr",
     "output_type": "stream",
     "text": [
      "\r",
      " 93%|████████████████████████████████████████████████████████████████████████████      | 90/97 [06:03<00:29,  4.16s/it]"
     ]
    },
    {
     "name": "stdout",
     "output_type": "stream",
     "text": [
      "`{'class': 'parameter-value'}` is not found\n",
      "`{'class': 'parameter-value'}` is not found\n"
     ]
    },
    {
     "name": "stderr",
     "output_type": "stream",
     "text": [
      "\r",
      " 94%|████████████████████████████████████████████████████████████████████████████▉     | 91/97 [06:07<00:24,  4.12s/it]"
     ]
    },
    {
     "name": "stdout",
     "output_type": "stream",
     "text": [
      "`{'class': 'parameter-value'}` is not found\n",
      "`{'class': 'parameter-value'}` is not found\n",
      "`https://ingatlan.com/szeged/elado+garazs/onallo/csongrad+megye+szeged+debreceni+utca/30890884` has some issues to provide advertiser details!\n"
     ]
    },
    {
     "name": "stderr",
     "output_type": "stream",
     "text": [
      "\r",
      " 95%|█████████████████████████████████████████████████████████████████████████████▊    | 92/97 [06:11<00:20,  4.12s/it]"
     ]
    },
    {
     "name": "stdout",
     "output_type": "stream",
     "text": [
      "`{'class': 'parameter-value'}` is not found\n",
      "`{'class': 'parameter-value'}` is not found\n",
      "`https://ingatlan.com/szeged/elado+garazs/onallo/csongrad+megye+szeged+kisteleki+ede+utca/30868087` has some issues to provide advertiser details!\n"
     ]
    },
    {
     "name": "stderr",
     "output_type": "stream",
     "text": [
      "\r",
      " 96%|██████████████████████████████████████████████████████████████████████████████▌   | 93/97 [06:15<00:16,  4.13s/it]"
     ]
    },
    {
     "name": "stdout",
     "output_type": "stream",
     "text": [
      "`{'class': 'parameter-value'}` is not found\n",
      "`{'class': 'parameter-value'}` is not found\n"
     ]
    },
    {
     "name": "stderr",
     "output_type": "stream",
     "text": [
      "\r",
      " 97%|███████████████████████████████████████████████████████████████████████████████▍  | 94/97 [06:19<00:11,  3.99s/it]"
     ]
    },
    {
     "name": "stdout",
     "output_type": "stream",
     "text": [
      "`{'class': 'parameter-value'}` is not found\n",
      "`{'class': 'parameter-value'}` is not found\n",
      "`https://ingatlan.com/szeged/elado+garazs/onallo/csongrad+megye+szeged+rona+utca/30845398` has some issues to provide advertiser details!\n"
     ]
    },
    {
     "name": "stderr",
     "output_type": "stream",
     "text": [
      "\r",
      " 98%|████████████████████████████████████████████████████████████████████████████████▎ | 95/97 [06:23<00:08,  4.09s/it]"
     ]
    },
    {
     "name": "stdout",
     "output_type": "stream",
     "text": [
      "`{'class': 'parameter-value'}` is not found\n",
      "`{'class': 'parameter-value'}` is not found\n"
     ]
    },
    {
     "name": "stderr",
     "output_type": "stream",
     "text": [
      "\r",
      " 99%|█████████████████████████████████████████████████████████████████████████████████▏| 96/97 [06:27<00:04,  4.08s/it]"
     ]
    },
    {
     "name": "stdout",
     "output_type": "stream",
     "text": [
      "`{'class': 'parameter-value'}` is not found\n",
      "`{'class': 'parameter-value'}` is not found\n",
      "`https://ingatlan.com/szeged-petofitelep/elado+garazs/onallo/csongrad+megye+szeged/30839857` has some issues to provide advertiser details!\n"
     ]
    },
    {
     "name": "stderr",
     "output_type": "stream",
     "text": [
      "100%|██████████████████████████████████████████████████████████████████████████████████| 97/97 [06:31<00:00,  4.01s/it]\n"
     ]
    },
    {
     "ename": "ValueError",
     "evalue": "No engine for filetype: 'csv'",
     "output_type": "error",
     "traceback": [
      "\u001b[1;31m---------------------------------------------------------------------------\u001b[0m",
      "\u001b[1;31mOptionError\u001b[0m                               Traceback (most recent call last)",
      "\u001b[1;32m~\\AppData\\Local\\Continuum\\anaconda3\\lib\\site-packages\\pandas\\io\\excel.py\u001b[0m in \u001b[0;36m__new__\u001b[1;34m(cls, path, engine, **kwargs)\u001b[0m\n\u001b[0;32m   1049\u001b[0m                     engine = config.get_option('io.excel.{ext}.writer'\n\u001b[1;32m-> 1050\u001b[1;33m                                                .format(ext=ext))\n\u001b[0m\u001b[0;32m   1051\u001b[0m                     \u001b[1;32mif\u001b[0m \u001b[0mengine\u001b[0m \u001b[1;33m==\u001b[0m \u001b[1;34m'auto'\u001b[0m\u001b[1;33m:\u001b[0m\u001b[1;33m\u001b[0m\u001b[1;33m\u001b[0m\u001b[0m\n",
      "\u001b[1;32m~\\AppData\\Local\\Continuum\\anaconda3\\lib\\site-packages\\pandas\\core\\config.py\u001b[0m in \u001b[0;36m__call__\u001b[1;34m(self, *args, **kwds)\u001b[0m\n\u001b[0;32m    226\u001b[0m     \u001b[1;32mdef\u001b[0m \u001b[0m__call__\u001b[0m\u001b[1;33m(\u001b[0m\u001b[0mself\u001b[0m\u001b[1;33m,\u001b[0m \u001b[1;33m*\u001b[0m\u001b[0margs\u001b[0m\u001b[1;33m,\u001b[0m \u001b[1;33m**\u001b[0m\u001b[0mkwds\u001b[0m\u001b[1;33m)\u001b[0m\u001b[1;33m:\u001b[0m\u001b[1;33m\u001b[0m\u001b[1;33m\u001b[0m\u001b[0m\n\u001b[1;32m--> 227\u001b[1;33m         \u001b[1;32mreturn\u001b[0m \u001b[0mself\u001b[0m\u001b[1;33m.\u001b[0m\u001b[0m__func__\u001b[0m\u001b[1;33m(\u001b[0m\u001b[1;33m*\u001b[0m\u001b[0margs\u001b[0m\u001b[1;33m,\u001b[0m \u001b[1;33m**\u001b[0m\u001b[0mkwds\u001b[0m\u001b[1;33m)\u001b[0m\u001b[1;33m\u001b[0m\u001b[1;33m\u001b[0m\u001b[0m\n\u001b[0m\u001b[0;32m    228\u001b[0m \u001b[1;33m\u001b[0m\u001b[0m\n",
      "\u001b[1;32m~\\AppData\\Local\\Continuum\\anaconda3\\lib\\site-packages\\pandas\\core\\config.py\u001b[0m in \u001b[0;36m_get_option\u001b[1;34m(pat, silent)\u001b[0m\n\u001b[0;32m     96\u001b[0m \u001b[1;32mdef\u001b[0m \u001b[0m_get_option\u001b[0m\u001b[1;33m(\u001b[0m\u001b[0mpat\u001b[0m\u001b[1;33m,\u001b[0m \u001b[0msilent\u001b[0m\u001b[1;33m=\u001b[0m\u001b[1;32mFalse\u001b[0m\u001b[1;33m)\u001b[0m\u001b[1;33m:\u001b[0m\u001b[1;33m\u001b[0m\u001b[1;33m\u001b[0m\u001b[0m\n\u001b[1;32m---> 97\u001b[1;33m     \u001b[0mkey\u001b[0m \u001b[1;33m=\u001b[0m \u001b[0m_get_single_key\u001b[0m\u001b[1;33m(\u001b[0m\u001b[0mpat\u001b[0m\u001b[1;33m,\u001b[0m \u001b[0msilent\u001b[0m\u001b[1;33m)\u001b[0m\u001b[1;33m\u001b[0m\u001b[1;33m\u001b[0m\u001b[0m\n\u001b[0m\u001b[0;32m     98\u001b[0m \u001b[1;33m\u001b[0m\u001b[0m\n",
      "\u001b[1;32m~\\AppData\\Local\\Continuum\\anaconda3\\lib\\site-packages\\pandas\\core\\config.py\u001b[0m in \u001b[0;36m_get_single_key\u001b[1;34m(pat, silent)\u001b[0m\n\u001b[0;32m     82\u001b[0m             \u001b[0m_warn_if_deprecated\u001b[0m\u001b[1;33m(\u001b[0m\u001b[0mpat\u001b[0m\u001b[1;33m)\u001b[0m\u001b[1;33m\u001b[0m\u001b[1;33m\u001b[0m\u001b[0m\n\u001b[1;32m---> 83\u001b[1;33m         \u001b[1;32mraise\u001b[0m \u001b[0mOptionError\u001b[0m\u001b[1;33m(\u001b[0m\u001b[1;34m'No such keys(s): {pat!r}'\u001b[0m\u001b[1;33m.\u001b[0m\u001b[0mformat\u001b[0m\u001b[1;33m(\u001b[0m\u001b[0mpat\u001b[0m\u001b[1;33m=\u001b[0m\u001b[0mpat\u001b[0m\u001b[1;33m)\u001b[0m\u001b[1;33m)\u001b[0m\u001b[1;33m\u001b[0m\u001b[1;33m\u001b[0m\u001b[0m\n\u001b[0m\u001b[0;32m     84\u001b[0m     \u001b[1;32mif\u001b[0m \u001b[0mlen\u001b[0m\u001b[1;33m(\u001b[0m\u001b[0mkeys\u001b[0m\u001b[1;33m)\u001b[0m \u001b[1;33m>\u001b[0m \u001b[1;36m1\u001b[0m\u001b[1;33m:\u001b[0m\u001b[1;33m\u001b[0m\u001b[1;33m\u001b[0m\u001b[0m\n",
      "\u001b[1;31mOptionError\u001b[0m: \"No such keys(s): 'io.excel.csv.writer'\"",
      "\nDuring handling of the above exception, another exception occurred:\n",
      "\u001b[1;31mValueError\u001b[0m                                Traceback (most recent call last)",
      "\u001b[1;32m~\\Python\\Scripts\\Property-finder\\accumulate_data.py\u001b[0m in \u001b[0;36m<module>\u001b[1;34m\u001b[0m\n\u001b[0;32m     50\u001b[0m     \u001b[0msave_name\u001b[0m \u001b[1;33m=\u001b[0m \u001b[0mos\u001b[0m\u001b[1;33m.\u001b[0m\u001b[0mpath\u001b[0m\u001b[1;33m.\u001b[0m\u001b[0mjoin\u001b[0m\u001b[1;33m(\u001b[0m\u001b[0mpath_name\u001b[0m\u001b[1;33m,\u001b[0m \u001b[0mdate\u001b[0m\u001b[1;33m.\u001b[0m\u001b[0mstrftime\u001b[0m\u001b[1;33m(\u001b[0m\u001b[1;34m'%Y%m%d'\u001b[0m\u001b[1;33m)\u001b[0m \u001b[1;33m+\u001b[0m \u001b[1;34m'_result.xlsx'\u001b[0m\u001b[1;33m)\u001b[0m\u001b[1;33m\u001b[0m\u001b[1;33m\u001b[0m\u001b[0m\n\u001b[0;32m     51\u001b[0m \u001b[1;33m\u001b[0m\u001b[0m\n\u001b[1;32m---> 52\u001b[1;33m     \u001b[0mdf\u001b[0m \u001b[1;33m=\u001b[0m \u001b[0mdownload_data\u001b[0m\u001b[1;33m(\u001b[0m\u001b[0msearch_params\u001b[0m\u001b[1;33m)\u001b[0m\u001b[1;33m\u001b[0m\u001b[1;33m\u001b[0m\u001b[0m\n\u001b[0m\u001b[0;32m     53\u001b[0m     \u001b[0mdf\u001b[0m\u001b[1;33m.\u001b[0m\u001b[0mto_excel\u001b[0m\u001b[1;33m(\u001b[0m\u001b[0msave_name\u001b[0m\u001b[1;33m)\u001b[0m\u001b[1;33m\u001b[0m\u001b[1;33m\u001b[0m\u001b[0m\n\u001b[0;32m     54\u001b[0m     \u001b[1;31m### read averages from excel\u001b[0m\u001b[1;33m\u001b[0m\u001b[1;33m\u001b[0m\u001b[1;33m\u001b[0m\u001b[0m\n",
      "\u001b[1;32m~\\AppData\\Local\\Continuum\\anaconda3\\lib\\site-packages\\pandas\\core\\generic.py\u001b[0m in \u001b[0;36mto_excel\u001b[1;34m(self, excel_writer, sheet_name, na_rep, float_format, columns, header, index, index_label, startrow, startcol, engine, merge_cells, encoding, inf_rep, verbose, freeze_panes)\u001b[0m\n\u001b[0;32m   2125\u001b[0m         formatter.write(excel_writer, sheet_name=sheet_name, startrow=startrow,\n\u001b[0;32m   2126\u001b[0m                         \u001b[0mstartcol\u001b[0m\u001b[1;33m=\u001b[0m\u001b[0mstartcol\u001b[0m\u001b[1;33m,\u001b[0m \u001b[0mfreeze_panes\u001b[0m\u001b[1;33m=\u001b[0m\u001b[0mfreeze_panes\u001b[0m\u001b[1;33m,\u001b[0m\u001b[1;33m\u001b[0m\u001b[1;33m\u001b[0m\u001b[0m\n\u001b[1;32m-> 2127\u001b[1;33m                         engine=engine)\n\u001b[0m\u001b[0;32m   2128\u001b[0m \u001b[1;33m\u001b[0m\u001b[0m\n\u001b[0;32m   2129\u001b[0m     def to_json(self, path_or_buf=None, orient=None, date_format=None,\n",
      "\u001b[1;32m~\\AppData\\Local\\Continuum\\anaconda3\\lib\\site-packages\\pandas\\io\\formats\\excel.py\u001b[0m in \u001b[0;36mwrite\u001b[1;34m(self, writer, sheet_name, startrow, startcol, freeze_panes, engine)\u001b[0m\n\u001b[0;32m    654\u001b[0m             \u001b[0mneed_save\u001b[0m \u001b[1;33m=\u001b[0m \u001b[1;32mFalse\u001b[0m\u001b[1;33m\u001b[0m\u001b[1;33m\u001b[0m\u001b[0m\n\u001b[0;32m    655\u001b[0m         \u001b[1;32melse\u001b[0m\u001b[1;33m:\u001b[0m\u001b[1;33m\u001b[0m\u001b[1;33m\u001b[0m\u001b[0m\n\u001b[1;32m--> 656\u001b[1;33m             \u001b[0mwriter\u001b[0m \u001b[1;33m=\u001b[0m \u001b[0mExcelWriter\u001b[0m\u001b[1;33m(\u001b[0m\u001b[0m_stringify_path\u001b[0m\u001b[1;33m(\u001b[0m\u001b[0mwriter\u001b[0m\u001b[1;33m)\u001b[0m\u001b[1;33m,\u001b[0m \u001b[0mengine\u001b[0m\u001b[1;33m=\u001b[0m\u001b[0mengine\u001b[0m\u001b[1;33m)\u001b[0m\u001b[1;33m\u001b[0m\u001b[1;33m\u001b[0m\u001b[0m\n\u001b[0m\u001b[0;32m    657\u001b[0m             \u001b[0mneed_save\u001b[0m \u001b[1;33m=\u001b[0m \u001b[1;32mTrue\u001b[0m\u001b[1;33m\u001b[0m\u001b[1;33m\u001b[0m\u001b[0m\n\u001b[0;32m    658\u001b[0m \u001b[1;33m\u001b[0m\u001b[0m\n",
      "\u001b[1;32m~\\AppData\\Local\\Continuum\\anaconda3\\lib\\site-packages\\pandas\\io\\excel.py\u001b[0m in \u001b[0;36m__new__\u001b[1;34m(cls, path, engine, **kwargs)\u001b[0m\n\u001b[0;32m   1054\u001b[0m                     error = ValueError(\"No engine for filetype: '{ext}'\"\n\u001b[0;32m   1055\u001b[0m                                        .format(ext=ext))\n\u001b[1;32m-> 1056\u001b[1;33m                     \u001b[1;32mraise\u001b[0m \u001b[0merror\u001b[0m\u001b[1;33m\u001b[0m\u001b[1;33m\u001b[0m\u001b[0m\n\u001b[0m\u001b[0;32m   1057\u001b[0m             \u001b[0mcls\u001b[0m \u001b[1;33m=\u001b[0m \u001b[0mget_writer\u001b[0m\u001b[1;33m(\u001b[0m\u001b[0mengine\u001b[0m\u001b[1;33m)\u001b[0m\u001b[1;33m\u001b[0m\u001b[1;33m\u001b[0m\u001b[0m\n\u001b[0;32m   1058\u001b[0m \u001b[1;33m\u001b[0m\u001b[0m\n",
      "\u001b[1;31mValueError\u001b[0m: No engine for filetype: 'csv'"
     ]
    }
   ],
   "source": [
    "%run accumulate_data.py"
   ]
  },
  {
   "cell_type": "markdown",
   "metadata": {},
   "source": [
    "# Property characteristics over time"
   ]
  },
  {
   "cell_type": "code",
   "execution_count": 45,
   "metadata": {},
   "outputs": [],
   "source": [
    "# read data\n",
    "# list of results\n",
    "dir_list = os.listdir('Data')\n",
    "df = pd.DataFrame()\n",
    "cities = list(set([item[key] for item in search_params for key in item.keys() if key == 'city']))\n",
    "\n",
    "for item in dir_list:\n",
    "    pn = os.path.join('Data', item)\n",
    "    tmp = pd.read_excel(pn)\n",
    "    df = pd.concat([df, tmp], sort=False)\n",
    "\n",
    "    "
   ]
  },
  {
   "cell_type": "code",
   "execution_count": 48,
   "metadata": {},
   "outputs": [],
   "source": [
    "def boxplot_history(df, y='price', city='Szeged', prop_type='House', color='skyblue'):\n",
    "    if 'Date' not in df.columns:\n",
    "        raise KeyError('`Date` column has to be in your dataframe')\n",
    "    #tmp = df[(df.type==prop_type) & (df.city==city)].copy()\n",
    "    tmp = df[(df.type==prop_type)].copy()\n",
    "    tmp['Date'] = tmp['Date'].dt.strftime('%Y-%m-%d')\n",
    "    sns.catplot(x=\"Date\", y=y, data=tmp, col='city',kind=\"box\", sharey=False, color=color)\n",
    "    #sns.boxplot(x='Date', y=y, data=tmp, color='skyblue')"
   ]
  },
  {
   "cell_type": "markdown",
   "metadata": {},
   "source": [
    "## House price and unit price boxplots as function of time"
   ]
  },
  {
   "cell_type": "code",
   "execution_count": 49,
   "metadata": {},
   "outputs": [
    {
     "data": {
      "image/png": "[encoded data removed]",
      "text/plain": [
       "<Figure size 1080x360 with 3 Axes>"
      ]
     },
     "metadata": {
      "needs_background": "light"
     },
     "output_type": "display_data"
    },
    {
     "data": {
      "image/png": "[encoded data removed]",
      "text/plain": [
       "<Figure size 1080x360 with 3 Axes>"
      ]
     },
     "metadata": {
      "needs_background": "light"
     },
     "output_type": "display_data"
    }
   ],
   "source": [
    "boxplot_history(df, y='price')\n",
    "boxplot_history(df, y='unit_price')"
   ]
  },
  {
   "cell_type": "markdown",
   "metadata": {},
   "source": [
    "## Flat price and unit price boxplots as function of time"
   ]
  },
  {
   "cell_type": "code",
   "execution_count": 50,
   "metadata": {},
   "outputs": [
    {
     "ename": "ValueError",
     "evalue": "min() arg is an empty sequence",
     "output_type": "error",
     "traceback": [
      "\u001b[1;31m---------------------------------------------------------------------------\u001b[0m",
      "\u001b[1;31mValueError\u001b[0m                                Traceback (most recent call last)",
      "\u001b[1;32m<ipython-input-50-26c1281bc501>\u001b[0m in \u001b[0;36m<module>\u001b[1;34m\u001b[0m\n\u001b[1;32m----> 1\u001b[1;33m \u001b[0mboxplot_history\u001b[0m\u001b[1;33m(\u001b[0m\u001b[0mdf\u001b[0m\u001b[1;33m,\u001b[0m \u001b[0my\u001b[0m\u001b[1;33m=\u001b[0m\u001b[1;34m'price'\u001b[0m\u001b[1;33m,\u001b[0m \u001b[0mprop_type\u001b[0m\u001b[1;33m=\u001b[0m\u001b[1;34m'Flat'\u001b[0m\u001b[1;33m)\u001b[0m\u001b[1;33m\u001b[0m\u001b[1;33m\u001b[0m\u001b[0m\n\u001b[0m\u001b[0;32m      2\u001b[0m \u001b[0mboxplot_history\u001b[0m\u001b[1;33m(\u001b[0m\u001b[0mdf\u001b[0m\u001b[1;33m,\u001b[0m \u001b[0my\u001b[0m\u001b[1;33m=\u001b[0m\u001b[1;34m'unit_price'\u001b[0m\u001b[1;33m,\u001b[0m \u001b[0mprop_type\u001b[0m\u001b[1;33m=\u001b[0m\u001b[1;34m'Flat'\u001b[0m\u001b[1;33m)\u001b[0m\u001b[1;33m\u001b[0m\u001b[1;33m\u001b[0m\u001b[0m\n",
      "\u001b[1;32m<ipython-input-48-eed2ae4aa89e>\u001b[0m in \u001b[0;36mboxplot_history\u001b[1;34m(df, y, city, prop_type, color)\u001b[0m\n\u001b[0;32m      5\u001b[0m     \u001b[0mtmp\u001b[0m \u001b[1;33m=\u001b[0m \u001b[0mdf\u001b[0m\u001b[1;33m[\u001b[0m\u001b[1;33m(\u001b[0m\u001b[0mdf\u001b[0m\u001b[1;33m.\u001b[0m\u001b[0mtype\u001b[0m\u001b[1;33m==\u001b[0m\u001b[0mprop_type\u001b[0m\u001b[1;33m)\u001b[0m\u001b[1;33m]\u001b[0m\u001b[1;33m.\u001b[0m\u001b[0mcopy\u001b[0m\u001b[1;33m(\u001b[0m\u001b[1;33m)\u001b[0m\u001b[1;33m\u001b[0m\u001b[1;33m\u001b[0m\u001b[0m\n\u001b[0;32m      6\u001b[0m     \u001b[0mtmp\u001b[0m\u001b[1;33m[\u001b[0m\u001b[1;34m'Date'\u001b[0m\u001b[1;33m]\u001b[0m \u001b[1;33m=\u001b[0m \u001b[0mtmp\u001b[0m\u001b[1;33m[\u001b[0m\u001b[1;34m'Date'\u001b[0m\u001b[1;33m]\u001b[0m\u001b[1;33m.\u001b[0m\u001b[0mdt\u001b[0m\u001b[1;33m.\u001b[0m\u001b[0mstrftime\u001b[0m\u001b[1;33m(\u001b[0m\u001b[1;34m'%Y-%m-%d'\u001b[0m\u001b[1;33m)\u001b[0m\u001b[1;33m\u001b[0m\u001b[1;33m\u001b[0m\u001b[0m\n\u001b[1;32m----> 7\u001b[1;33m     \u001b[0msns\u001b[0m\u001b[1;33m.\u001b[0m\u001b[0mcatplot\u001b[0m\u001b[1;33m(\u001b[0m\u001b[0mx\u001b[0m\u001b[1;33m=\u001b[0m\u001b[1;34m\"Date\"\u001b[0m\u001b[1;33m,\u001b[0m \u001b[0my\u001b[0m\u001b[1;33m=\u001b[0m\u001b[0my\u001b[0m\u001b[1;33m,\u001b[0m \u001b[0mdata\u001b[0m\u001b[1;33m=\u001b[0m\u001b[0mtmp\u001b[0m\u001b[1;33m,\u001b[0m \u001b[0mcol\u001b[0m\u001b[1;33m=\u001b[0m\u001b[1;34m'city'\u001b[0m\u001b[1;33m,\u001b[0m\u001b[0mkind\u001b[0m\u001b[1;33m=\u001b[0m\u001b[1;34m\"box\"\u001b[0m\u001b[1;33m,\u001b[0m \u001b[0msharey\u001b[0m\u001b[1;33m=\u001b[0m\u001b[1;32mFalse\u001b[0m\u001b[1;33m,\u001b[0m \u001b[0mcolor\u001b[0m\u001b[1;33m=\u001b[0m\u001b[0mcolor\u001b[0m\u001b[1;33m)\u001b[0m\u001b[1;33m\u001b[0m\u001b[1;33m\u001b[0m\u001b[0m\n\u001b[0m\u001b[0;32m      8\u001b[0m     \u001b[1;31m#sns.boxplot(x='Date', y=y, data=tmp, color='skyblue')\u001b[0m\u001b[1;33m\u001b[0m\u001b[1;33m\u001b[0m\u001b[1;33m\u001b[0m\u001b[0m\n",
      "\u001b[1;32m~\\AppData\\Local\\Continuum\\anaconda3\\lib\\site-packages\\seaborn\\categorical.py\u001b[0m in \u001b[0;36mcatplot\u001b[1;34m(x, y, hue, data, row, col, col_wrap, estimator, ci, n_boot, units, order, hue_order, row_order, col_order, kind, height, aspect, orient, color, palette, legend, legend_out, sharex, sharey, margin_titles, facet_kws, **kwargs)\u001b[0m\n\u001b[0;32m   3722\u001b[0m     \u001b[1;31m# so we need to define ``palette`` to get default behavior for the\u001b[0m\u001b[1;33m\u001b[0m\u001b[1;33m\u001b[0m\u001b[1;33m\u001b[0m\u001b[0m\n\u001b[0;32m   3723\u001b[0m     \u001b[1;31m# categorical functions\u001b[0m\u001b[1;33m\u001b[0m\u001b[1;33m\u001b[0m\u001b[1;33m\u001b[0m\u001b[0m\n\u001b[1;32m-> 3724\u001b[1;33m     \u001b[0mp\u001b[0m\u001b[1;33m.\u001b[0m\u001b[0mestablish_colors\u001b[0m\u001b[1;33m(\u001b[0m\u001b[0mcolor\u001b[0m\u001b[1;33m,\u001b[0m \u001b[0mpalette\u001b[0m\u001b[1;33m,\u001b[0m \u001b[1;36m1\u001b[0m\u001b[1;33m)\u001b[0m\u001b[1;33m\u001b[0m\u001b[1;33m\u001b[0m\u001b[0m\n\u001b[0m\u001b[0;32m   3725\u001b[0m     \u001b[1;32mif\u001b[0m \u001b[0mkind\u001b[0m \u001b[1;33m!=\u001b[0m \u001b[1;34m\"point\"\u001b[0m \u001b[1;32mor\u001b[0m \u001b[0mhue\u001b[0m \u001b[1;32mis\u001b[0m \u001b[1;32mnot\u001b[0m \u001b[1;32mNone\u001b[0m\u001b[1;33m:\u001b[0m\u001b[1;33m\u001b[0m\u001b[1;33m\u001b[0m\u001b[0m\n\u001b[0;32m   3726\u001b[0m         \u001b[0mpalette\u001b[0m \u001b[1;33m=\u001b[0m \u001b[0mp\u001b[0m\u001b[1;33m.\u001b[0m\u001b[0mcolors\u001b[0m\u001b[1;33m\u001b[0m\u001b[1;33m\u001b[0m\u001b[0m\n",
      "\u001b[1;32m~\\AppData\\Local\\Continuum\\anaconda3\\lib\\site-packages\\seaborn\\categorical.py\u001b[0m in \u001b[0;36mestablish_colors\u001b[1;34m(self, color, palette, saturation)\u001b[0m\n\u001b[0;32m    313\u001b[0m         \u001b[1;31m# Determine the gray color to use for the lines framing the plot\u001b[0m\u001b[1;33m\u001b[0m\u001b[1;33m\u001b[0m\u001b[1;33m\u001b[0m\u001b[0m\n\u001b[0;32m    314\u001b[0m         \u001b[0mlight_vals\u001b[0m \u001b[1;33m=\u001b[0m \u001b[1;33m[\u001b[0m\u001b[0mcolorsys\u001b[0m\u001b[1;33m.\u001b[0m\u001b[0mrgb_to_hls\u001b[0m\u001b[1;33m(\u001b[0m\u001b[1;33m*\u001b[0m\u001b[0mc\u001b[0m\u001b[1;33m)\u001b[0m\u001b[1;33m[\u001b[0m\u001b[1;36m1\u001b[0m\u001b[1;33m]\u001b[0m \u001b[1;32mfor\u001b[0m \u001b[0mc\u001b[0m \u001b[1;32min\u001b[0m \u001b[0mrgb_colors\u001b[0m\u001b[1;33m]\u001b[0m\u001b[1;33m\u001b[0m\u001b[1;33m\u001b[0m\u001b[0m\n\u001b[1;32m--> 315\u001b[1;33m         \u001b[0mlum\u001b[0m \u001b[1;33m=\u001b[0m \u001b[0mmin\u001b[0m\u001b[1;33m(\u001b[0m\u001b[0mlight_vals\u001b[0m\u001b[1;33m)\u001b[0m \u001b[1;33m*\u001b[0m \u001b[1;36m.6\u001b[0m\u001b[1;33m\u001b[0m\u001b[1;33m\u001b[0m\u001b[0m\n\u001b[0m\u001b[0;32m    316\u001b[0m         \u001b[0mgray\u001b[0m \u001b[1;33m=\u001b[0m \u001b[0mmpl\u001b[0m\u001b[1;33m.\u001b[0m\u001b[0mcolors\u001b[0m\u001b[1;33m.\u001b[0m\u001b[0mrgb2hex\u001b[0m\u001b[1;33m(\u001b[0m\u001b[1;33m(\u001b[0m\u001b[0mlum\u001b[0m\u001b[1;33m,\u001b[0m \u001b[0mlum\u001b[0m\u001b[1;33m,\u001b[0m \u001b[0mlum\u001b[0m\u001b[1;33m)\u001b[0m\u001b[1;33m)\u001b[0m\u001b[1;33m\u001b[0m\u001b[1;33m\u001b[0m\u001b[0m\n\u001b[0;32m    317\u001b[0m \u001b[1;33m\u001b[0m\u001b[0m\n",
      "\u001b[1;31mValueError\u001b[0m: min() arg is an empty sequence"
     ]
    }
   ],
   "source": [
    "boxplot_history(df, y='price', prop_type='Flat')\n",
    "boxplot_history(df, y='unit_price', prop_type='Flat')"
   ]
  },
  {
   "cell_type": "markdown",
   "metadata": {},
   "source": [
    "## Garage price and unit price boxplots as function of time"
   ]
  },
  {
   "cell_type": "code",
   "execution_count": 51,
   "metadata": {},
   "outputs": [
    {
     "data": {
      "image/png": "[encoded data removed]",
      "text/plain": [
       "<Figure size 360x360 with 1 Axes>"
      ]
     },
     "metadata": {
      "needs_background": "light"
     },
     "output_type": "display_data"
    },
    {
     "data": {
      "image/png": "[encoded data removed]",
      "text/plain": [
       "<Figure size 360x360 with 1 Axes>"
      ]
     },
     "metadata": {
      "needs_background": "light"
     },
     "output_type": "display_data"
    }
   ],
   "source": [
    "boxplot_history(df, y='price', prop_type='Garage')\n",
    "boxplot_history(df, y='unit_price', prop_type='Garage')"
   ]
  },
  {
   "cell_type": "markdown",
   "metadata": {},
   "source": [
    "## Average house prices"
   ]
  },
  {
   "cell_type": "code",
   "execution_count": 9,
   "metadata": {},
   "outputs": [],
   "source": [
    "    save_name = os.path.join(path_name, date.strftime('%Y%m%d') + '_result.xlsx')\n",
    "    df['Date'] = pd.to_datetime(date)\n",
    "    df.to_excel(save_name, index=False)\n",
    "   \n",
    "    av_hist, avhist_colnames = read_historical_data('Averages/averages.xlsx')\n",
    "\n",
    "    ### Calculate stats on the properties\n",
    "    av = get_averages(df)\n",
    "    av = av.loc[:,avhist_colnames]\n",
    "\n",
    "    ### concatenate historical and recent data\n",
    "    av = pd.concat([av_hist, av], sort=False)\n",
    "\n",
    "\n",
    "    # save averages to excel\n",
    "    av.to_excel('Averages/averages.xlsx', index=True)\n"
   ]
  },
  {
   "cell_type": "code",
   "execution_count": 6,
   "metadata": {},
   "outputs": [
    {
     "ename": "ValueError",
     "evalue": "No engine for filetype: 'csv'",
     "output_type": "error",
     "traceback": [
      "\u001b[1;31m---------------------------------------------------------------------------\u001b[0m",
      "\u001b[1;31mOptionError\u001b[0m                               Traceback (most recent call last)",
      "\u001b[1;32m~\\AppData\\Local\\Continuum\\anaconda3\\lib\\site-packages\\pandas\\io\\excel.py\u001b[0m in \u001b[0;36m__new__\u001b[1;34m(cls, path, engine, **kwargs)\u001b[0m\n\u001b[0;32m   1049\u001b[0m                     engine = config.get_option('io.excel.{ext}.writer'\n\u001b[1;32m-> 1050\u001b[1;33m                                                .format(ext=ext))\n\u001b[0m\u001b[0;32m   1051\u001b[0m                     \u001b[1;32mif\u001b[0m \u001b[0mengine\u001b[0m \u001b[1;33m==\u001b[0m \u001b[1;34m'auto'\u001b[0m\u001b[1;33m:\u001b[0m\u001b[1;33m\u001b[0m\u001b[1;33m\u001b[0m\u001b[0m\n",
      "\u001b[1;32m~\\AppData\\Local\\Continuum\\anaconda3\\lib\\site-packages\\pandas\\core\\config.py\u001b[0m in \u001b[0;36m__call__\u001b[1;34m(self, *args, **kwds)\u001b[0m\n\u001b[0;32m    226\u001b[0m     \u001b[1;32mdef\u001b[0m \u001b[0m__call__\u001b[0m\u001b[1;33m(\u001b[0m\u001b[0mself\u001b[0m\u001b[1;33m,\u001b[0m \u001b[1;33m*\u001b[0m\u001b[0margs\u001b[0m\u001b[1;33m,\u001b[0m \u001b[1;33m**\u001b[0m\u001b[0mkwds\u001b[0m\u001b[1;33m)\u001b[0m\u001b[1;33m:\u001b[0m\u001b[1;33m\u001b[0m\u001b[1;33m\u001b[0m\u001b[0m\n\u001b[1;32m--> 227\u001b[1;33m         \u001b[1;32mreturn\u001b[0m \u001b[0mself\u001b[0m\u001b[1;33m.\u001b[0m\u001b[0m__func__\u001b[0m\u001b[1;33m(\u001b[0m\u001b[1;33m*\u001b[0m\u001b[0margs\u001b[0m\u001b[1;33m,\u001b[0m \u001b[1;33m**\u001b[0m\u001b[0mkwds\u001b[0m\u001b[1;33m)\u001b[0m\u001b[1;33m\u001b[0m\u001b[1;33m\u001b[0m\u001b[0m\n\u001b[0m\u001b[0;32m    228\u001b[0m \u001b[1;33m\u001b[0m\u001b[0m\n",
      "\u001b[1;32m~\\AppData\\Local\\Continuum\\anaconda3\\lib\\site-packages\\pandas\\core\\config.py\u001b[0m in \u001b[0;36m_get_option\u001b[1;34m(pat, silent)\u001b[0m\n\u001b[0;32m     96\u001b[0m \u001b[1;32mdef\u001b[0m \u001b[0m_get_option\u001b[0m\u001b[1;33m(\u001b[0m\u001b[0mpat\u001b[0m\u001b[1;33m,\u001b[0m \u001b[0msilent\u001b[0m\u001b[1;33m=\u001b[0m\u001b[1;32mFalse\u001b[0m\u001b[1;33m)\u001b[0m\u001b[1;33m:\u001b[0m\u001b[1;33m\u001b[0m\u001b[1;33m\u001b[0m\u001b[0m\n\u001b[1;32m---> 97\u001b[1;33m     \u001b[0mkey\u001b[0m \u001b[1;33m=\u001b[0m \u001b[0m_get_single_key\u001b[0m\u001b[1;33m(\u001b[0m\u001b[0mpat\u001b[0m\u001b[1;33m,\u001b[0m \u001b[0msilent\u001b[0m\u001b[1;33m)\u001b[0m\u001b[1;33m\u001b[0m\u001b[1;33m\u001b[0m\u001b[0m\n\u001b[0m\u001b[0;32m     98\u001b[0m \u001b[1;33m\u001b[0m\u001b[0m\n",
      "\u001b[1;32m~\\AppData\\Local\\Continuum\\anaconda3\\lib\\site-packages\\pandas\\core\\config.py\u001b[0m in \u001b[0;36m_get_single_key\u001b[1;34m(pat, silent)\u001b[0m\n\u001b[0;32m     82\u001b[0m             \u001b[0m_warn_if_deprecated\u001b[0m\u001b[1;33m(\u001b[0m\u001b[0mpat\u001b[0m\u001b[1;33m)\u001b[0m\u001b[1;33m\u001b[0m\u001b[1;33m\u001b[0m\u001b[0m\n\u001b[1;32m---> 83\u001b[1;33m         \u001b[1;32mraise\u001b[0m \u001b[0mOptionError\u001b[0m\u001b[1;33m(\u001b[0m\u001b[1;34m'No such keys(s): {pat!r}'\u001b[0m\u001b[1;33m.\u001b[0m\u001b[0mformat\u001b[0m\u001b[1;33m(\u001b[0m\u001b[0mpat\u001b[0m\u001b[1;33m=\u001b[0m\u001b[0mpat\u001b[0m\u001b[1;33m)\u001b[0m\u001b[1;33m)\u001b[0m\u001b[1;33m\u001b[0m\u001b[1;33m\u001b[0m\u001b[0m\n\u001b[0m\u001b[0;32m     84\u001b[0m     \u001b[1;32mif\u001b[0m \u001b[0mlen\u001b[0m\u001b[1;33m(\u001b[0m\u001b[0mkeys\u001b[0m\u001b[1;33m)\u001b[0m \u001b[1;33m>\u001b[0m \u001b[1;36m1\u001b[0m\u001b[1;33m:\u001b[0m\u001b[1;33m\u001b[0m\u001b[1;33m\u001b[0m\u001b[0m\n",
      "\u001b[1;31mOptionError\u001b[0m: \"No such keys(s): 'io.excel.csv.writer'\"",
      "\nDuring handling of the above exception, another exception occurred:\n",
      "\u001b[1;31mValueError\u001b[0m                                Traceback (most recent call last)",
      "\u001b[1;32m<ipython-input-6-904c57401ef2>\u001b[0m in \u001b[0;36m<module>\u001b[1;34m\u001b[0m\n\u001b[1;32m----> 1\u001b[1;33m \u001b[0mdf\u001b[0m\u001b[1;33m.\u001b[0m\u001b[0mto_excel\u001b[0m\u001b[1;33m(\u001b[0m\u001b[0msave_name\u001b[0m\u001b[1;33m,\u001b[0m \u001b[0mindex\u001b[0m\u001b[1;33m=\u001b[0m\u001b[1;32mFalse\u001b[0m\u001b[1;33m)\u001b[0m\u001b[1;33m\u001b[0m\u001b[1;33m\u001b[0m\u001b[0m\n\u001b[0m",
      "\u001b[1;32m~\\AppData\\Local\\Continuum\\anaconda3\\lib\\site-packages\\pandas\\core\\generic.py\u001b[0m in \u001b[0;36mto_excel\u001b[1;34m(self, excel_writer, sheet_name, na_rep, float_format, columns, header, index, index_label, startrow, startcol, engine, merge_cells, encoding, inf_rep, verbose, freeze_panes)\u001b[0m\n\u001b[0;32m   2125\u001b[0m         formatter.write(excel_writer, sheet_name=sheet_name, startrow=startrow,\n\u001b[0;32m   2126\u001b[0m                         \u001b[0mstartcol\u001b[0m\u001b[1;33m=\u001b[0m\u001b[0mstartcol\u001b[0m\u001b[1;33m,\u001b[0m \u001b[0mfreeze_panes\u001b[0m\u001b[1;33m=\u001b[0m\u001b[0mfreeze_panes\u001b[0m\u001b[1;33m,\u001b[0m\u001b[1;33m\u001b[0m\u001b[1;33m\u001b[0m\u001b[0m\n\u001b[1;32m-> 2127\u001b[1;33m                         engine=engine)\n\u001b[0m\u001b[0;32m   2128\u001b[0m \u001b[1;33m\u001b[0m\u001b[0m\n\u001b[0;32m   2129\u001b[0m     def to_json(self, path_or_buf=None, orient=None, date_format=None,\n",
      "\u001b[1;32m~\\AppData\\Local\\Continuum\\anaconda3\\lib\\site-packages\\pandas\\io\\formats\\excel.py\u001b[0m in \u001b[0;36mwrite\u001b[1;34m(self, writer, sheet_name, startrow, startcol, freeze_panes, engine)\u001b[0m\n\u001b[0;32m    654\u001b[0m             \u001b[0mneed_save\u001b[0m \u001b[1;33m=\u001b[0m \u001b[1;32mFalse\u001b[0m\u001b[1;33m\u001b[0m\u001b[1;33m\u001b[0m\u001b[0m\n\u001b[0;32m    655\u001b[0m         \u001b[1;32melse\u001b[0m\u001b[1;33m:\u001b[0m\u001b[1;33m\u001b[0m\u001b[1;33m\u001b[0m\u001b[0m\n\u001b[1;32m--> 656\u001b[1;33m             \u001b[0mwriter\u001b[0m \u001b[1;33m=\u001b[0m \u001b[0mExcelWriter\u001b[0m\u001b[1;33m(\u001b[0m\u001b[0m_stringify_path\u001b[0m\u001b[1;33m(\u001b[0m\u001b[0mwriter\u001b[0m\u001b[1;33m)\u001b[0m\u001b[1;33m,\u001b[0m \u001b[0mengine\u001b[0m\u001b[1;33m=\u001b[0m\u001b[0mengine\u001b[0m\u001b[1;33m)\u001b[0m\u001b[1;33m\u001b[0m\u001b[1;33m\u001b[0m\u001b[0m\n\u001b[0m\u001b[0;32m    657\u001b[0m             \u001b[0mneed_save\u001b[0m \u001b[1;33m=\u001b[0m \u001b[1;32mTrue\u001b[0m\u001b[1;33m\u001b[0m\u001b[1;33m\u001b[0m\u001b[0m\n\u001b[0;32m    658\u001b[0m \u001b[1;33m\u001b[0m\u001b[0m\n",
      "\u001b[1;32m~\\AppData\\Local\\Continuum\\anaconda3\\lib\\site-packages\\pandas\\io\\excel.py\u001b[0m in \u001b[0;36m__new__\u001b[1;34m(cls, path, engine, **kwargs)\u001b[0m\n\u001b[0;32m   1054\u001b[0m                     error = ValueError(\"No engine for filetype: '{ext}'\"\n\u001b[0;32m   1055\u001b[0m                                        .format(ext=ext))\n\u001b[1;32m-> 1056\u001b[1;33m                     \u001b[1;32mraise\u001b[0m \u001b[0merror\u001b[0m\u001b[1;33m\u001b[0m\u001b[1;33m\u001b[0m\u001b[0m\n\u001b[0m\u001b[0;32m   1057\u001b[0m             \u001b[0mcls\u001b[0m \u001b[1;33m=\u001b[0m \u001b[0mget_writer\u001b[0m\u001b[1;33m(\u001b[0m\u001b[0mengine\u001b[0m\u001b[1;33m)\u001b[0m\u001b[1;33m\u001b[0m\u001b[1;33m\u001b[0m\u001b[0m\n\u001b[0;32m   1058\u001b[0m \u001b[1;33m\u001b[0m\u001b[0m\n",
      "\u001b[1;31mValueError\u001b[0m: No engine for filetype: 'csv'"
     ]
    }
   ],
   "source": [
    "df.to_excel(save_name, index=False)"
   ]
  },
  {
   "cell_type": "code",
   "execution_count": 7,
   "metadata": {},
   "outputs": [],
   "source": [
    "# average price per property\n",
    "avp_house = pd.pivot(av[av.type=='House'].reset_index(), index='Date', values='price', columns='city')\n",
    "avp_flat  = pd.pivot(av[av.type=='Flat'].reset_index(), index='Date', values='price', columns='city')\n",
    "avp_garage= pd.pivot(av[av.type=='Garage'].reset_index(), index='Date', values='price', columns='city')\n",
    "\n",
    "# average price per sqmeter\n",
    "avpm_house = pd.pivot(av[av.type=='House'].reset_index(), index='Date', values='unit_price', columns='city')\n",
    "avpm_flat  = pd.pivot(av[av.type=='Flat'].reset_index(), index='Date', values='unit_price', columns='city')\n",
    "avpm_garage= pd.pivot(av[av.type=='Garage'].reset_index(), index='Date', values='unit_price', columns='city')\n",
    "\n",
    "# average house size\n",
    "avs_house = pd.pivot(av[av.type=='House'].reset_index(), index='Date', values='size', columns='city')\n",
    "avs_flat  = pd.pivot(av[av.type=='Flat'].reset_index(), index='Date', values='size', columns='city')\n",
    "avs_garage= pd.pivot(av[av.type=='Garage'].reset_index(), index='Date', values='size', columns='city')\n",
    "\n",
    "# average land size\n",
    "avls_house = pd.pivot(av[av.type=='House'].reset_index(), index='Date', values='land_size', columns='city')\n",
    "avls_flat  = pd.pivot(av[av.type=='Flat'].reset_index(), index='Date', values='land_size', columns='city')\n",
    "avls_garage= pd.pivot(av[av.type=='Garage'].reset_index(), index='Date', values='land_size', columns='city')\n",
    "\n",
    "# average counts\n",
    "avc_house = pd.pivot(av[av.type=='House'].reset_index(), index='Date', values='count', columns='city')\n",
    "avc_flat  = pd.pivot(av[av.type=='Flat'].reset_index(), index='Date', values='count', columns='city')\n",
    "avc_garage= pd.pivot(av[av.type=='Garage'].reset_index(), index='Date', values='count', columns='city')"
   ]
  },
  {
   "cell_type": "code",
   "execution_count": 8,
   "metadata": {},
   "outputs": [],
   "source": [
    "def plot_averages(price, psm, size, lsize, count, figs=(15,10), style='o-', ms=10, title_text='House'):\n",
    "    fig, axes = plt.subplots(2, 3, figsize=figs)\n",
    "    fig.tight_layout(pad=5.6)\n",
    "    price.plot(ax=axes[0,0], style=style, ms=ms)\n",
    "    psm.plot(ax=axes[0,1], style=style, ms=ms)\n",
    "    size.plot(ax=axes[0,2], style=style, ms=ms)\n",
    "    lsize.plot(ax=axes[1,0], style=style, ms=ms)\n",
    "    count.plot(ax=axes[1,1], style=style, ms=ms)\n",
    "    axes[0,0].set_title('Average ' + title_text + ' price')\n",
    "    axes[0,1].set_title('Average ' + title_text + ' price/square meter')\n",
    "    axes[0,2].set_title('Average ' + title_text + ' size')\n",
    "    axes[1,0].set_title('Average ' + title_text + ' land size')\n",
    "    axes[1,1].set_title('Average ' + title_text + ' count')"
   ]
  },
  {
   "cell_type": "code",
   "execution_count": 9,
   "metadata": {},
   "outputs": [
    {
     "data": {
      "image/png": "[encoded data removed]",
      "text/plain": [
       "<Figure size 1080x720 with 6 Axes>"
      ]
     },
     "metadata": {
      "needs_background": "light"
     },
     "output_type": "display_data"
    }
   ],
   "source": [
    "plot_averages(avp_house, avpm_house, avs_house, avls_house, avc_house)"
   ]
  },
  {
   "cell_type": "markdown",
   "metadata": {},
   "source": [
    "## Average flat prices"
   ]
  },
  {
   "cell_type": "code",
   "execution_count": 10,
   "metadata": {},
   "outputs": [
    {
     "ename": "TypeError",
     "evalue": "Empty 'DataFrame': no numeric data to plot",
     "output_type": "error",
     "traceback": [
      "\u001b[1;31m---------------------------------------------------------------------------\u001b[0m",
      "\u001b[1;31mTypeError\u001b[0m                                 Traceback (most recent call last)",
      "\u001b[1;32m<ipython-input-10-116d47bd5128>\u001b[0m in \u001b[0;36m<module>\u001b[1;34m\u001b[0m\n\u001b[1;32m----> 1\u001b[1;33m \u001b[0mplot_averages\u001b[0m\u001b[1;33m(\u001b[0m\u001b[0mavp_flat\u001b[0m\u001b[1;33m,\u001b[0m \u001b[0mavpm_flat\u001b[0m\u001b[1;33m,\u001b[0m \u001b[0mavs_flat\u001b[0m\u001b[1;33m,\u001b[0m \u001b[0mavls_flat\u001b[0m\u001b[1;33m,\u001b[0m \u001b[0mavc_flat\u001b[0m\u001b[1;33m,\u001b[0m \u001b[0mtitle_text\u001b[0m\u001b[1;33m=\u001b[0m\u001b[1;34m'Flat'\u001b[0m\u001b[1;33m)\u001b[0m\u001b[1;33m\u001b[0m\u001b[1;33m\u001b[0m\u001b[0m\n\u001b[0m",
      "\u001b[1;32m<ipython-input-8-f1a3ad9b1b4a>\u001b[0m in \u001b[0;36mplot_averages\u001b[1;34m(price, psm, size, lsize, count, figs, style, ms, title_text)\u001b[0m\n\u001b[0;32m      2\u001b[0m     \u001b[0mfig\u001b[0m\u001b[1;33m,\u001b[0m \u001b[0maxes\u001b[0m \u001b[1;33m=\u001b[0m \u001b[0mplt\u001b[0m\u001b[1;33m.\u001b[0m\u001b[0msubplots\u001b[0m\u001b[1;33m(\u001b[0m\u001b[1;36m2\u001b[0m\u001b[1;33m,\u001b[0m \u001b[1;36m3\u001b[0m\u001b[1;33m,\u001b[0m \u001b[0mfigsize\u001b[0m\u001b[1;33m=\u001b[0m\u001b[0mfigs\u001b[0m\u001b[1;33m)\u001b[0m\u001b[1;33m\u001b[0m\u001b[1;33m\u001b[0m\u001b[0m\n\u001b[0;32m      3\u001b[0m     \u001b[0mfig\u001b[0m\u001b[1;33m.\u001b[0m\u001b[0mtight_layout\u001b[0m\u001b[1;33m(\u001b[0m\u001b[0mpad\u001b[0m\u001b[1;33m=\u001b[0m\u001b[1;36m5.6\u001b[0m\u001b[1;33m)\u001b[0m\u001b[1;33m\u001b[0m\u001b[1;33m\u001b[0m\u001b[0m\n\u001b[1;32m----> 4\u001b[1;33m     \u001b[0mprice\u001b[0m\u001b[1;33m.\u001b[0m\u001b[0mplot\u001b[0m\u001b[1;33m(\u001b[0m\u001b[0max\u001b[0m\u001b[1;33m=\u001b[0m\u001b[0maxes\u001b[0m\u001b[1;33m[\u001b[0m\u001b[1;36m0\u001b[0m\u001b[1;33m,\u001b[0m\u001b[1;36m0\u001b[0m\u001b[1;33m]\u001b[0m\u001b[1;33m,\u001b[0m \u001b[0mstyle\u001b[0m\u001b[1;33m=\u001b[0m\u001b[0mstyle\u001b[0m\u001b[1;33m,\u001b[0m \u001b[0mms\u001b[0m\u001b[1;33m=\u001b[0m\u001b[0mms\u001b[0m\u001b[1;33m)\u001b[0m\u001b[1;33m\u001b[0m\u001b[1;33m\u001b[0m\u001b[0m\n\u001b[0m\u001b[0;32m      5\u001b[0m     \u001b[0mpsm\u001b[0m\u001b[1;33m.\u001b[0m\u001b[0mplot\u001b[0m\u001b[1;33m(\u001b[0m\u001b[0max\u001b[0m\u001b[1;33m=\u001b[0m\u001b[0maxes\u001b[0m\u001b[1;33m[\u001b[0m\u001b[1;36m0\u001b[0m\u001b[1;33m,\u001b[0m\u001b[1;36m1\u001b[0m\u001b[1;33m]\u001b[0m\u001b[1;33m,\u001b[0m \u001b[0mstyle\u001b[0m\u001b[1;33m=\u001b[0m\u001b[0mstyle\u001b[0m\u001b[1;33m,\u001b[0m \u001b[0mms\u001b[0m\u001b[1;33m=\u001b[0m\u001b[0mms\u001b[0m\u001b[1;33m)\u001b[0m\u001b[1;33m\u001b[0m\u001b[1;33m\u001b[0m\u001b[0m\n\u001b[0;32m      6\u001b[0m     \u001b[0msize\u001b[0m\u001b[1;33m.\u001b[0m\u001b[0mplot\u001b[0m\u001b[1;33m(\u001b[0m\u001b[0max\u001b[0m\u001b[1;33m=\u001b[0m\u001b[0maxes\u001b[0m\u001b[1;33m[\u001b[0m\u001b[1;36m0\u001b[0m\u001b[1;33m,\u001b[0m\u001b[1;36m2\u001b[0m\u001b[1;33m]\u001b[0m\u001b[1;33m,\u001b[0m \u001b[0mstyle\u001b[0m\u001b[1;33m=\u001b[0m\u001b[0mstyle\u001b[0m\u001b[1;33m,\u001b[0m \u001b[0mms\u001b[0m\u001b[1;33m=\u001b[0m\u001b[0mms\u001b[0m\u001b[1;33m)\u001b[0m\u001b[1;33m\u001b[0m\u001b[1;33m\u001b[0m\u001b[0m\n",
      "\u001b[1;32m~\\AppData\\Local\\Continuum\\anaconda3\\lib\\site-packages\\pandas\\plotting\\_core.py\u001b[0m in \u001b[0;36m__call__\u001b[1;34m(self, x, y, kind, ax, subplots, sharex, sharey, layout, figsize, use_index, title, grid, legend, style, logx, logy, loglog, xticks, yticks, xlim, ylim, rot, fontsize, colormap, table, yerr, xerr, secondary_y, sort_columns, **kwds)\u001b[0m\n\u001b[0;32m   2940\u001b[0m                           \u001b[0mfontsize\u001b[0m\u001b[1;33m=\u001b[0m\u001b[0mfontsize\u001b[0m\u001b[1;33m,\u001b[0m \u001b[0mcolormap\u001b[0m\u001b[1;33m=\u001b[0m\u001b[0mcolormap\u001b[0m\u001b[1;33m,\u001b[0m \u001b[0mtable\u001b[0m\u001b[1;33m=\u001b[0m\u001b[0mtable\u001b[0m\u001b[1;33m,\u001b[0m\u001b[1;33m\u001b[0m\u001b[1;33m\u001b[0m\u001b[0m\n\u001b[0;32m   2941\u001b[0m                           \u001b[0myerr\u001b[0m\u001b[1;33m=\u001b[0m\u001b[0myerr\u001b[0m\u001b[1;33m,\u001b[0m \u001b[0mxerr\u001b[0m\u001b[1;33m=\u001b[0m\u001b[0mxerr\u001b[0m\u001b[1;33m,\u001b[0m \u001b[0msecondary_y\u001b[0m\u001b[1;33m=\u001b[0m\u001b[0msecondary_y\u001b[0m\u001b[1;33m,\u001b[0m\u001b[1;33m\u001b[0m\u001b[1;33m\u001b[0m\u001b[0m\n\u001b[1;32m-> 2942\u001b[1;33m                           sort_columns=sort_columns, **kwds)\n\u001b[0m\u001b[0;32m   2943\u001b[0m     \u001b[0m__call__\u001b[0m\u001b[1;33m.\u001b[0m\u001b[0m__doc__\u001b[0m \u001b[1;33m=\u001b[0m \u001b[0mplot_frame\u001b[0m\u001b[1;33m.\u001b[0m\u001b[0m__doc__\u001b[0m\u001b[1;33m\u001b[0m\u001b[1;33m\u001b[0m\u001b[0m\n\u001b[0;32m   2944\u001b[0m \u001b[1;33m\u001b[0m\u001b[0m\n",
      "\u001b[1;32m~\\AppData\\Local\\Continuum\\anaconda3\\lib\\site-packages\\pandas\\plotting\\_core.py\u001b[0m in \u001b[0;36mplot_frame\u001b[1;34m(data, x, y, kind, ax, subplots, sharex, sharey, layout, figsize, use_index, title, grid, legend, style, logx, logy, loglog, xticks, yticks, xlim, ylim, rot, fontsize, colormap, table, yerr, xerr, secondary_y, sort_columns, **kwds)\u001b[0m\n\u001b[0;32m   1971\u001b[0m                  \u001b[0myerr\u001b[0m\u001b[1;33m=\u001b[0m\u001b[0myerr\u001b[0m\u001b[1;33m,\u001b[0m \u001b[0mxerr\u001b[0m\u001b[1;33m=\u001b[0m\u001b[0mxerr\u001b[0m\u001b[1;33m,\u001b[0m\u001b[1;33m\u001b[0m\u001b[1;33m\u001b[0m\u001b[0m\n\u001b[0;32m   1972\u001b[0m                  \u001b[0msecondary_y\u001b[0m\u001b[1;33m=\u001b[0m\u001b[0msecondary_y\u001b[0m\u001b[1;33m,\u001b[0m \u001b[0msort_columns\u001b[0m\u001b[1;33m=\u001b[0m\u001b[0msort_columns\u001b[0m\u001b[1;33m,\u001b[0m\u001b[1;33m\u001b[0m\u001b[1;33m\u001b[0m\u001b[0m\n\u001b[1;32m-> 1973\u001b[1;33m                  **kwds)\n\u001b[0m\u001b[0;32m   1974\u001b[0m \u001b[1;33m\u001b[0m\u001b[0m\n\u001b[0;32m   1975\u001b[0m \u001b[1;33m\u001b[0m\u001b[0m\n",
      "\u001b[1;32m~\\AppData\\Local\\Continuum\\anaconda3\\lib\\site-packages\\pandas\\plotting\\_core.py\u001b[0m in \u001b[0;36m_plot\u001b[1;34m(data, x, y, subplots, ax, kind, **kwds)\u001b[0m\n\u001b[0;32m   1799\u001b[0m         \u001b[0mplot_obj\u001b[0m \u001b[1;33m=\u001b[0m \u001b[0mklass\u001b[0m\u001b[1;33m(\u001b[0m\u001b[0mdata\u001b[0m\u001b[1;33m,\u001b[0m \u001b[0msubplots\u001b[0m\u001b[1;33m=\u001b[0m\u001b[0msubplots\u001b[0m\u001b[1;33m,\u001b[0m \u001b[0max\u001b[0m\u001b[1;33m=\u001b[0m\u001b[0max\u001b[0m\u001b[1;33m,\u001b[0m \u001b[0mkind\u001b[0m\u001b[1;33m=\u001b[0m\u001b[0mkind\u001b[0m\u001b[1;33m,\u001b[0m \u001b[1;33m**\u001b[0m\u001b[0mkwds\u001b[0m\u001b[1;33m)\u001b[0m\u001b[1;33m\u001b[0m\u001b[1;33m\u001b[0m\u001b[0m\n\u001b[0;32m   1800\u001b[0m \u001b[1;33m\u001b[0m\u001b[0m\n\u001b[1;32m-> 1801\u001b[1;33m     \u001b[0mplot_obj\u001b[0m\u001b[1;33m.\u001b[0m\u001b[0mgenerate\u001b[0m\u001b[1;33m(\u001b[0m\u001b[1;33m)\u001b[0m\u001b[1;33m\u001b[0m\u001b[1;33m\u001b[0m\u001b[0m\n\u001b[0m\u001b[0;32m   1802\u001b[0m     \u001b[0mplot_obj\u001b[0m\u001b[1;33m.\u001b[0m\u001b[0mdraw\u001b[0m\u001b[1;33m(\u001b[0m\u001b[1;33m)\u001b[0m\u001b[1;33m\u001b[0m\u001b[1;33m\u001b[0m\u001b[0m\n\u001b[0;32m   1803\u001b[0m     \u001b[1;32mreturn\u001b[0m \u001b[0mplot_obj\u001b[0m\u001b[1;33m.\u001b[0m\u001b[0mresult\u001b[0m\u001b[1;33m\u001b[0m\u001b[1;33m\u001b[0m\u001b[0m\n",
      "\u001b[1;32m~\\AppData\\Local\\Continuum\\anaconda3\\lib\\site-packages\\pandas\\plotting\\_core.py\u001b[0m in \u001b[0;36mgenerate\u001b[1;34m(self)\u001b[0m\n\u001b[0;32m    247\u001b[0m     \u001b[1;32mdef\u001b[0m \u001b[0mgenerate\u001b[0m\u001b[1;33m(\u001b[0m\u001b[0mself\u001b[0m\u001b[1;33m)\u001b[0m\u001b[1;33m:\u001b[0m\u001b[1;33m\u001b[0m\u001b[1;33m\u001b[0m\u001b[0m\n\u001b[0;32m    248\u001b[0m         \u001b[0mself\u001b[0m\u001b[1;33m.\u001b[0m\u001b[0m_args_adjust\u001b[0m\u001b[1;33m(\u001b[0m\u001b[1;33m)\u001b[0m\u001b[1;33m\u001b[0m\u001b[1;33m\u001b[0m\u001b[0m\n\u001b[1;32m--> 249\u001b[1;33m         \u001b[0mself\u001b[0m\u001b[1;33m.\u001b[0m\u001b[0m_compute_plot_data\u001b[0m\u001b[1;33m(\u001b[0m\u001b[1;33m)\u001b[0m\u001b[1;33m\u001b[0m\u001b[1;33m\u001b[0m\u001b[0m\n\u001b[0m\u001b[0;32m    250\u001b[0m         \u001b[0mself\u001b[0m\u001b[1;33m.\u001b[0m\u001b[0m_setup_subplots\u001b[0m\u001b[1;33m(\u001b[0m\u001b[1;33m)\u001b[0m\u001b[1;33m\u001b[0m\u001b[1;33m\u001b[0m\u001b[0m\n\u001b[0;32m    251\u001b[0m         \u001b[0mself\u001b[0m\u001b[1;33m.\u001b[0m\u001b[0m_make_plot\u001b[0m\u001b[1;33m(\u001b[0m\u001b[1;33m)\u001b[0m\u001b[1;33m\u001b[0m\u001b[1;33m\u001b[0m\u001b[0m\n",
      "\u001b[1;32m~\\AppData\\Local\\Continuum\\anaconda3\\lib\\site-packages\\pandas\\plotting\\_core.py\u001b[0m in \u001b[0;36m_compute_plot_data\u001b[1;34m(self)\u001b[0m\n\u001b[0;32m    365\u001b[0m         \u001b[1;32mif\u001b[0m \u001b[0mis_empty\u001b[0m\u001b[1;33m:\u001b[0m\u001b[1;33m\u001b[0m\u001b[1;33m\u001b[0m\u001b[0m\n\u001b[0;32m    366\u001b[0m             raise TypeError('Empty {0!r}: no numeric data to '\n\u001b[1;32m--> 367\u001b[1;33m                             'plot'.format(numeric_data.__class__.__name__))\n\u001b[0m\u001b[0;32m    368\u001b[0m \u001b[1;33m\u001b[0m\u001b[0m\n\u001b[0;32m    369\u001b[0m         \u001b[0mself\u001b[0m\u001b[1;33m.\u001b[0m\u001b[0mdata\u001b[0m \u001b[1;33m=\u001b[0m \u001b[0mnumeric_data\u001b[0m\u001b[1;33m\u001b[0m\u001b[1;33m\u001b[0m\u001b[0m\n",
      "\u001b[1;31mTypeError\u001b[0m: Empty 'DataFrame': no numeric data to plot"
     ]
    },
    {
     "data": {
      "image/png": "[encoded data removed]",
      "text/plain": [
       "<Figure size 1080x720 with 6 Axes>"
      ]
     },
     "metadata": {
      "needs_background": "light"
     },
     "output_type": "display_data"
    }
   ],
   "source": [
    "plot_averages(avp_flat, avpm_flat, avs_flat, avls_flat, avc_flat, title_text='Flat')"
   ]
  },
  {
   "cell_type": "markdown",
   "metadata": {},
   "source": [
    "## Average Garage Characteristics"
   ]
  },
  {
   "cell_type": "code",
   "execution_count": 11,
   "metadata": {},
   "outputs": [
    {
     "data": {
      "image/png": "[encoded data removed]",
      "text/plain": [
       "<Figure size 1080x720 with 6 Axes>"
      ]
     },
     "metadata": {
      "needs_background": "light"
     },
     "output_type": "display_data"
    }
   ],
   "source": [
    "plot_averages(avp_garage, avpm_garage, avs_garage, avls_garage, avc_garage, title_text='Garage')"
   ]
  },
  {
   "cell_type": "markdown",
   "metadata": {},
   "source": [
    "# Most recent statistics"
   ]
  },
  {
   "cell_type": "code",
   "execution_count": 36,
   "metadata": {},
   "outputs": [],
   "source": [
    "def plot_boxes(price, psm, figs=(15,10), style='o-', ms=10, title_text='House'):\n",
    "    fig, axes = plt.subplots(1,2, figsize=figs)\n",
    "    fig.tight_layout(pad=5.6)\n",
    "    price.boxplot(ax=axes[0])\n",
    "    psm.boxplot(ax=axes[1])\n",
    "    axes[0].set_title('Average ' + title_text + ' price')\n",
    "    axes[1].set_title('Average ' + title_text + ' price/square meter')\n",
    "    "
   ]
  }
 ],
 "metadata": {
  "kernelspec": {
   "display_name": "Python 3",
   "language": "python",
   "name": "python3"
  },
  "language_info": {
   "codemirror_mode": {
    "name": "ipython",
    "version": 3
   },
   "file_extension": ".py",
   "mimetype": "text/x-python",
   "name": "python",
   "nbconvert_exporter": "python",
   "pygments_lexer": "ipython3",
   "version": "3.7.3"
  },
  "toc": {
   "base_numbering": 1,
   "nav_menu": {},
   "number_sections": true,
   "sideBar": true,
   "skip_h1_title": false,
   "title_cell": "Table of Contents",
   "title_sidebar": "Contents",
   "toc_cell": false,
   "toc_position": {},
   "toc_section_display": true,
   "toc_window_display": false
  }
 },
 "nbformat": 4,
 "nbformat_minor": 2
}
